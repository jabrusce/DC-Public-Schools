{
 "cells": [
  {
   "cell_type": "markdown",
   "metadata": {},
   "source": [
    "# Regression Modeling"
   ]
  },
  {
   "cell_type": "markdown",
   "metadata": {},
   "source": [
    "### Import Libraries and Data"
   ]
  },
  {
   "cell_type": "code",
   "execution_count": 32,
   "metadata": {},
   "outputs": [],
   "source": [
    "import pandas as pd\n",
    "import seaborn as sns\n",
    "import numpy as np\n",
    "import matplotlib.pyplot as plt\n",
    "import scipy as sp\n",
    "\n",
    "from sklearn.linear_model import LinearRegression, Ridge, Lasso, ElasticNet\n",
    "from sklearn.neighbors import KNeighborsRegressor\n",
    "from sklearn.model_selection import train_test_split, GridSearchCV, cross_val_score\n",
    "from sklearn.metrics import mean_absolute_error, mean_squared_error\n",
    "from sklearn.svm import SVR\n",
    "from sklearn.tree import DecisionTreeRegressor\n",
    "from sklearn.preprocessing import StandardScaler, PolynomialFeatures\n",
    "from sklearn.compose import make_column_transformer, make_column_selector, TransformedTargetRegressor\n",
    "from sklearn.pipeline import make_pipeline\n",
    "from sklearn.ensemble import RandomForestRegressor, BaggingRegressor, AdaBoostRegressor, GradientBoostingRegressor"
   ]
  },
  {
   "cell_type": "code",
   "execution_count": 45,
   "metadata": {},
   "outputs": [],
   "source": [
    "df = pd.read_csv('./data/school_df_v6.csv')"
   ]
  },
  {
   "cell_type": "code",
   "execution_count": 46,
   "metadata": {},
   "outputs": [],
   "source": [
    "df = df.iloc[:,:45]\n",
    "df.dropna(how='all', inplace=True)"
   ]
  },
  {
   "cell_type": "code",
   "execution_count": 47,
   "metadata": {},
   "outputs": [],
   "source": [
    "# drop 2 schools that have no attendance data\n",
    "df.drop(df[df['code'] == 201].index, inplace = True)\n",
    "df.drop(df[df['code'] == 347].index, inplace = True)\n",
    "df = df.replace(-1,np.nan)\n",
    "df.dropna(how='any',inplace=True)"
   ]
  },
  {
   "cell_type": "code",
   "execution_count": 48,
   "metadata": {},
   "outputs": [],
   "source": [
    "df = df.replace(-1,np.nan)\n",
    "df.dropna(how='any',inplace=True)"
   ]
  },
  {
   "cell_type": "code",
   "execution_count": 49,
   "metadata": {},
   "outputs": [
    {
     "data": {
      "text/plain": [
       "(81, 45)"
      ]
     },
     "execution_count": 49,
     "metadata": {},
     "output_type": "execute_result"
    }
   ],
   "source": [
    "df.shape"
   ]
  },
  {
   "cell_type": "code",
   "execution_count": 50,
   "metadata": {},
   "outputs": [
    {
     "data": {
      "text/html": [
       "<div>\n",
       "<style scoped>\n",
       "    .dataframe tbody tr th:only-of-type {\n",
       "        vertical-align: middle;\n",
       "    }\n",
       "\n",
       "    .dataframe tbody tr th {\n",
       "        vertical-align: top;\n",
       "    }\n",
       "\n",
       "    .dataframe thead th {\n",
       "        text-align: right;\n",
       "    }\n",
       "</style>\n",
       "<table border=\"1\" class=\"dataframe\">\n",
       "  <thead>\n",
       "    <tr style=\"text-align: right;\">\n",
       "      <th></th>\n",
       "      <th>code</th>\n",
       "      <th>name</th>\n",
       "      <th>grade_band</th>\n",
       "      <th>enrollment_SY1718</th>\n",
       "      <th>enrollment_SY1819</th>\n",
       "      <th>star_score_SY1718</th>\n",
       "      <th>star_score_SY1819</th>\n",
       "      <th>star_rating_SY1718</th>\n",
       "      <th>star_rating_SY1819</th>\n",
       "      <th>capacity_SY1718</th>\n",
       "      <th>...</th>\n",
       "      <th>count_20+_SY1718</th>\n",
       "      <th>pct_20+_SY1718</th>\n",
       "      <th>budgeted_amount_FY16</th>\n",
       "      <th>budgeted_enrollment_FY16</th>\n",
       "      <th>budgeted_amount_FY17</th>\n",
       "      <th>budgeted_enrollment_FY17</th>\n",
       "      <th>pct_meet_exceed_math_SY1718</th>\n",
       "      <th>pct_meet_exceed_ela_SY1718</th>\n",
       "      <th>pct_meet_exceed_math_SY1819</th>\n",
       "      <th>pct_meet_exceed_ela_SY1819</th>\n",
       "    </tr>\n",
       "  </thead>\n",
       "  <tbody>\n",
       "    <tr>\n",
       "      <th>0</th>\n",
       "      <td>175.0</td>\n",
       "      <td>School-Within-School @ Goding</td>\n",
       "      <td>Elementary</td>\n",
       "      <td>308.0</td>\n",
       "      <td>313.0</td>\n",
       "      <td>88.55</td>\n",
       "      <td>88.26</td>\n",
       "      <td>5.0</td>\n",
       "      <td>5.0</td>\n",
       "      <td>444.0</td>\n",
       "      <td>...</td>\n",
       "      <td>0.0</td>\n",
       "      <td>0.000000</td>\n",
       "      <td>1.059280e+07</td>\n",
       "      <td>5880.0</td>\n",
       "      <td>3815456.0</td>\n",
       "      <td>2674740.0</td>\n",
       "      <td>0.765</td>\n",
       "      <td>0.765</td>\n",
       "      <td>0.743</td>\n",
       "      <td>0.752</td>\n",
       "    </tr>\n",
       "    <tr>\n",
       "      <th>2</th>\n",
       "      <td>202.0</td>\n",
       "      <td>Aiton Elementary School</td>\n",
       "      <td>Elementary</td>\n",
       "      <td>243.0</td>\n",
       "      <td>244.0</td>\n",
       "      <td>43.85</td>\n",
       "      <td>10.79</td>\n",
       "      <td>3.0</td>\n",
       "      <td>1.0</td>\n",
       "      <td>529.0</td>\n",
       "      <td>...</td>\n",
       "      <td>12.0</td>\n",
       "      <td>0.049383</td>\n",
       "      <td>7.429920e+06</td>\n",
       "      <td>2650.0</td>\n",
       "      <td>3780814.0</td>\n",
       "      <td>2499672.0</td>\n",
       "      <td>0.129</td>\n",
       "      <td>0.171</td>\n",
       "      <td>0.153</td>\n",
       "      <td>0.056</td>\n",
       "    </tr>\n",
       "  </tbody>\n",
       "</table>\n",
       "<p>2 rows × 45 columns</p>\n",
       "</div>"
      ],
      "text/plain": [
       "    code                           name  grade_band  enrollment_SY1718  \\\n",
       "0  175.0  School-Within-School @ Goding  Elementary              308.0   \n",
       "2  202.0        Aiton Elementary School  Elementary              243.0   \n",
       "\n",
       "   enrollment_SY1819  star_score_SY1718  star_score_SY1819  \\\n",
       "0              313.0              88.55              88.26   \n",
       "2              244.0              43.85              10.79   \n",
       "\n",
       "   star_rating_SY1718  star_rating_SY1819  capacity_SY1718  ...  \\\n",
       "0                 5.0                 5.0            444.0  ...   \n",
       "2                 3.0                 1.0            529.0  ...   \n",
       "\n",
       "   count_20+_SY1718  pct_20+_SY1718  budgeted_amount_FY16  \\\n",
       "0               0.0        0.000000          1.059280e+07   \n",
       "2              12.0        0.049383          7.429920e+06   \n",
       "\n",
       "   budgeted_enrollment_FY16  budgeted_amount_FY17  budgeted_enrollment_FY17  \\\n",
       "0                    5880.0             3815456.0                 2674740.0   \n",
       "2                    2650.0             3780814.0                 2499672.0   \n",
       "\n",
       "   pct_meet_exceed_math_SY1718  pct_meet_exceed_ela_SY1718  \\\n",
       "0                        0.765                       0.765   \n",
       "2                        0.129                       0.171   \n",
       "\n",
       "   pct_meet_exceed_math_SY1819  pct_meet_exceed_ela_SY1819  \n",
       "0                        0.743                       0.752  \n",
       "2                        0.153                       0.056  \n",
       "\n",
       "[2 rows x 45 columns]"
      ]
     },
     "execution_count": 50,
     "metadata": {},
     "output_type": "execute_result"
    }
   ],
   "source": [
    "df.head(2)"
   ]
  },
  {
   "cell_type": "code",
   "execution_count": 51,
   "metadata": {},
   "outputs": [],
   "source": [
    "df = df[df['star_rating_SY1819'] !=-1]"
   ]
  },
  {
   "cell_type": "code",
   "execution_count": 52,
   "metadata": {},
   "outputs": [],
   "source": [
    "X=df[['enrollment_SY1718', 'enrollment_SY1819', 'capacity_SY1718', \n",
    "        'capacity_SY1819', 'latitude', 'longitude', 'cluster', 'ward','pct_0_SY1819', \n",
    "        'pct_1-5_SY1819', 'pct_6-10_SY1819', 'pct_11-20_SY1819', 'pct_20+_SY1819', \n",
    "        'pct_0_SY1718', 'pct_1-5_SY1718', 'pct_6-10__SY1718', 'pct_11-20_SY1718', \n",
    "        'pct_20+_SY1718', 'budgeted_amount_FY16', 'budgeted_enrollment_FY16', \n",
    "        'budgeted_amount_FY17', 'budgeted_enrollment_FY17', 'pct_meet_exceed_math_SY1718', \n",
    "        'pct_meet_exceed_ela_SY1718', 'pct_meet_exceed_math_SY1819', 'pct_meet_exceed_ela_SY1819']]"
   ]
  },
  {
   "cell_type": "code",
   "execution_count": 53,
   "metadata": {},
   "outputs": [],
   "source": [
    "y = df['star_rating_SY1819']"
   ]
  },
  {
   "cell_type": "code",
   "execution_count": 54,
   "metadata": {},
   "outputs": [],
   "source": [
    "X_train, X_test, y_train, y_test = train_test_split(X, y, random_state=7)"
   ]
  },
  {
   "cell_type": "code",
   "execution_count": 55,
   "metadata": {},
   "outputs": [],
   "source": [
    "sscaler = StandardScaler()\n",
    "X_train_scaled = sscaler.fit_transform(X_train)\n",
    "X_test_scaled = sscaler.fit_transform(X_test)"
   ]
  },
  {
   "cell_type": "markdown",
   "metadata": {},
   "source": [
    "### Null Model"
   ]
  },
  {
   "cell_type": "code",
   "execution_count": 13,
   "metadata": {},
   "outputs": [
    {
     "data": {
      "text/plain": [
       "4.0    0.345679\n",
       "2.0    0.271605\n",
       "3.0    0.185185\n",
       "5.0    0.123457\n",
       "1.0    0.074074\n",
       "Name: star_rating_SY1819, dtype: float64"
      ]
     },
     "execution_count": 13,
     "metadata": {},
     "output_type": "execute_result"
    }
   ],
   "source": [
    "#null model will be 34.5%\n",
    "y.value_counts(normalize=True)"
   ]
  },
  {
   "cell_type": "markdown",
   "metadata": {},
   "source": [
    "### Linear Regression"
   ]
  },
  {
   "cell_type": "code",
   "execution_count": 14,
   "metadata": {},
   "outputs": [
    {
     "data": {
      "text/plain": [
       "-38022132879121.64"
      ]
     },
     "execution_count": 14,
     "metadata": {},
     "output_type": "execute_result"
    }
   ],
   "source": [
    "lr = LinearRegression()\n",
    "lr.fit(X_train_scaled, y_train)\n",
    "lr.score(X_test_scaled, y_test)"
   ]
  },
  {
   "cell_type": "markdown",
   "metadata": {},
   "source": [
    "### Ridge"
   ]
  },
  {
   "cell_type": "code",
   "execution_count": 15,
   "metadata": {},
   "outputs": [
    {
     "data": {
      "text/plain": [
       "0.6052599211177012"
      ]
     },
     "execution_count": 15,
     "metadata": {},
     "output_type": "execute_result"
    }
   ],
   "source": [
    "ridge = Ridge()\n",
    "ridge.fit(X_train_scaled, y_train)\n",
    "ridge.score(X_test_scaled, y_test)"
   ]
  },
  {
   "cell_type": "code",
   "execution_count": 16,
   "metadata": {},
   "outputs": [
    {
     "data": {
      "text/plain": [
       "0.7024282870722177"
      ]
     },
     "execution_count": 16,
     "metadata": {},
     "output_type": "execute_result"
    }
   ],
   "source": [
    "pipe = make_pipeline(StandardScaler(), Ridge())\n",
    "params = {'ridge__alpha': ['.01', '0.1', '1', '10', '100', '200', '500', '1000', '10_000'],\n",
    "          'ridge__normalize': [True, False]}\n",
    "ridge_grid = GridSearchCV(estimator=pipe, param_grid=params, n_jobs=-1)\n",
    "ridge_grid.fit(X_train, y_train)\n",
    "ridge_grid.score(X_test, y_test)"
   ]
  },
  {
   "cell_type": "markdown",
   "metadata": {},
   "source": [
    "### Lasso"
   ]
  },
  {
   "cell_type": "code",
   "execution_count": 17,
   "metadata": {},
   "outputs": [
    {
     "data": {
      "text/plain": [
       "-0.060096153846153966"
      ]
     },
     "execution_count": 17,
     "metadata": {},
     "output_type": "execute_result"
    }
   ],
   "source": [
    "lasso = Lasso()\n",
    "lasso.fit(X_train_scaled, y_train)\n",
    "lasso.score(X_test_scaled, y_test)"
   ]
  },
  {
   "cell_type": "markdown",
   "metadata": {},
   "source": [
    "### Decision Tree Regressor"
   ]
  },
  {
   "cell_type": "code",
   "execution_count": 23,
   "metadata": {},
   "outputs": [
    {
     "data": {
      "text/plain": [
       "0.4507692307692307"
      ]
     },
     "execution_count": 23,
     "metadata": {},
     "output_type": "execute_result"
    }
   ],
   "source": [
    "dtree = DecisionTreeRegressor()\n",
    "dtree.fit(X_train_scaled, y_train)\n",
    "dtree.score(X_test_scaled, y_test)"
   ]
  },
  {
   "cell_type": "code",
   "execution_count": 24,
   "metadata": {},
   "outputs": [
    {
     "name": "stderr",
     "output_type": "stream",
     "text": [
      "c:\\programdata\\miniconda3\\lib\\site-packages\\sklearn\\model_selection\\_search.py:918: UserWarning: One or more of the test scores are non-finite: [        nan  0.16312809  0.02860361  0.1777878  -0.05512402  0.10779256\n",
      "  0.1441762   0.30629269  0.22977383]\n",
      "  warnings.warn(\n"
     ]
    },
    {
     "data": {
      "text/plain": [
       "0.8704666975227509"
      ]
     },
     "execution_count": 24,
     "metadata": {},
     "output_type": "execute_result"
    }
   ],
   "source": [
    "dtree_pipe = make_pipeline(StandardScaler(), DecisionTreeRegressor())\n",
    "params = {'decisiontreeregressor__min_samples_split': [1, 2, 3, 5, 7, 10, 15, 20, 30]}\n",
    "dtree_grid = GridSearchCV(estimator=dtree_pipe, param_grid=params, n_jobs=-1)\n",
    "dtree_grid.fit(X_train, y_train)\n",
    "dtree_grid.score(X_test, y_test)"
   ]
  },
  {
   "cell_type": "markdown",
   "metadata": {},
   "source": [
    "### KNN Regressor"
   ]
  },
  {
   "cell_type": "code",
   "execution_count": 25,
   "metadata": {},
   "outputs": [
    {
     "data": {
      "text/plain": [
       "0.7260307692307693"
      ]
     },
     "execution_count": 25,
     "metadata": {},
     "output_type": "execute_result"
    }
   ],
   "source": [
    "knn = KNeighborsRegressor()\n",
    "knn.fit(X_train_scaled, y_train)\n",
    "knn.score(X_test_scaled, y_test)"
   ]
  },
  {
   "cell_type": "code",
   "execution_count": 26,
   "metadata": {},
   "outputs": [
    {
     "data": {
      "text/plain": [
       "0.701978021978022"
      ]
     },
     "execution_count": 26,
     "metadata": {},
     "output_type": "execute_result"
    }
   ],
   "source": [
    "knn_pipe = make_pipeline(StandardScaler(), KNeighborsRegressor())\n",
    "params = {'kneighborsregressor__n_neighbors': [1, 2, 3, 5, 7, 10, 15, 20, 30],\n",
    "         'kneighborsregressor__algorithm': ['auto', 'ball_tree', 'kd_tree', 'brute']}\n",
    "knn_grid = GridSearchCV(estimator=knn_pipe, param_grid=params, n_jobs=-1)\n",
    "knn_grid.fit(X_train, y_train)\n",
    "knn_grid.score(X_test, y_test)"
   ]
  },
  {
   "cell_type": "markdown",
   "metadata": {},
   "source": [
    "### Random Forest Regressor"
   ]
  },
  {
   "cell_type": "code",
   "execution_count": 56,
   "metadata": {},
   "outputs": [
    {
     "data": {
      "text/plain": [
       "0.7116635384615384"
      ]
     },
     "execution_count": 56,
     "metadata": {},
     "output_type": "execute_result"
    }
   ],
   "source": [
    "rforest = RandomForestRegressor()\n",
    "rforest.fit(X_train_scaled, y_train)\n",
    "rforest.score(X_test_scaled, y_test)"
   ]
  },
  {
   "cell_type": "code",
   "execution_count": 57,
   "metadata": {},
   "outputs": [
    {
     "data": {
      "text/plain": [
       "0.7916175384615385"
      ]
     },
     "execution_count": 57,
     "metadata": {},
     "output_type": "execute_result"
    }
   ],
   "source": [
    "rforest_pipe = make_pipeline(StandardScaler(), RandomForestRegressor())\n",
    "params = {'randomforestregressor__n_estimators': [50, 100, 200, 300, 500, 1000]}\n",
    "rforest_grid = GridSearchCV(estimator=rforest_pipe, param_grid=params, n_jobs=-1)\n",
    "rforest_grid.fit(X_train, y_train)\n",
    "rforest_grid.score(X_test, y_test)"
   ]
  },
  {
   "cell_type": "code",
   "execution_count": 58,
   "metadata": {},
   "outputs": [
    {
     "data": {
      "text/plain": [
       "0.554201842779039"
      ]
     },
     "execution_count": 58,
     "metadata": {},
     "output_type": "execute_result"
    }
   ],
   "source": [
    "y_pred = rforest_grid.predict(X_test)\n",
    "mean_squared_error(y_test, y_pred, squared=False)"
   ]
  },
  {
   "cell_type": "markdown",
   "metadata": {},
   "source": [
    "### Elastic Net"
   ]
  },
  {
   "cell_type": "code",
   "execution_count": 30,
   "metadata": {},
   "outputs": [
    {
     "data": {
      "text/plain": [
       "0.3483953572808459"
      ]
     },
     "execution_count": 30,
     "metadata": {},
     "output_type": "execute_result"
    }
   ],
   "source": [
    "enet_pipe = make_pipeline(StandardScaler(), ElasticNet())\n",
    "enet_pipe.fit(X_train, y_train)\n",
    "enet_pipe.score(X_test, y_test)"
   ]
  },
  {
   "cell_type": "markdown",
   "metadata": {},
   "source": [
    "### PolynomialFeatures"
   ]
  },
  {
   "cell_type": "code",
   "execution_count": 33,
   "metadata": {},
   "outputs": [
    {
     "data": {
      "text/plain": [
       "-0.15015762633950747"
      ]
     },
     "execution_count": 33,
     "metadata": {},
     "output_type": "execute_result"
    }
   ],
   "source": [
    "poly = PolynomialFeatures()\n",
    "X_poly = poly.fit_transform(X)\n",
    "X_poly_train, X_poly_test, y_train, y_test = train_test_split(X_poly, y)\n",
    "\n",
    "sscaler = StandardScaler()\n",
    "X_poly_train_scaled = sscaler.fit_transform(X_poly_train)\n",
    "X_poly_test_scaled = sscaler.transform(X_poly_test)\n",
    "\n",
    "ridge_poly = Ridge()\n",
    "ridge_poly.fit(X_poly_train_scaled, y_train)\n",
    "ridge_poly.score(X_poly_test_scaled, y_test)"
   ]
  },
  {
   "cell_type": "markdown",
   "metadata": {},
   "source": [
    "### Bagging Regressor"
   ]
  },
  {
   "cell_type": "code",
   "execution_count": 34,
   "metadata": {},
   "outputs": [
    {
     "data": {
      "text/plain": [
       "-0.347220447284345"
      ]
     },
     "execution_count": 34,
     "metadata": {},
     "output_type": "execute_result"
    }
   ],
   "source": [
    "bag = BaggingRegressor()\n",
    "bag.fit(X_train_scaled, y_train)\n",
    "bag.score(X_test_scaled, y_test)"
   ]
  },
  {
   "cell_type": "markdown",
   "metadata": {},
   "source": [
    "### Adaboost"
   ]
  },
  {
   "cell_type": "code",
   "execution_count": 35,
   "metadata": {},
   "outputs": [
    {
     "data": {
      "text/plain": [
       "-0.5262477021509193"
      ]
     },
     "execution_count": 35,
     "metadata": {},
     "output_type": "execute_result"
    }
   ],
   "source": [
    "ada = AdaBoostRegressor()\n",
    "ada.fit(X_train_scaled, y_train)\n",
    "ada.score(X_test_scaled, y_test)"
   ]
  },
  {
   "cell_type": "code",
   "execution_count": 36,
   "metadata": {},
   "outputs": [
    {
     "data": {
      "text/plain": [
       "-0.5884640754799395"
      ]
     },
     "execution_count": 36,
     "metadata": {},
     "output_type": "execute_result"
    }
   ],
   "source": [
    "ada_pipe = make_pipeline(StandardScaler(), AdaBoostRegressor())\n",
    "params = {'adaboostregressor__n_estimators': [50, 100, 200, 300, 500, 1000],\n",
    "         'adaboostregressor__loss': ['linear', 'square', 'exponential']}\n",
    "ada_grid = GridSearchCV(estimator=ada_pipe, param_grid=params, n_jobs=-1)\n",
    "ada_grid.fit(X_train, y_train)\n",
    "ada_grid.score(X_test, y_test)"
   ]
  },
  {
   "cell_type": "markdown",
   "metadata": {},
   "source": [
    "### Gradient Boosting Regressor"
   ]
  },
  {
   "cell_type": "code",
   "execution_count": 37,
   "metadata": {},
   "outputs": [
    {
     "data": {
      "text/plain": [
       "-0.47778618205073253"
      ]
     },
     "execution_count": 37,
     "metadata": {},
     "output_type": "execute_result"
    }
   ],
   "source": [
    "gboost = GradientBoostingRegressor()\n",
    "gboost.fit(X_train_scaled, y_train)\n",
    "gboost.score(X_test_scaled, y_test)"
   ]
  },
  {
   "cell_type": "code",
   "execution_count": 38,
   "metadata": {},
   "outputs": [
    {
     "data": {
      "text/plain": [
       "-0.526099936451419"
      ]
     },
     "execution_count": 38,
     "metadata": {},
     "output_type": "execute_result"
    }
   ],
   "source": [
    "gboost_pipe = make_pipeline(StandardScaler(), GradientBoostingRegressor())\n",
    "params = {'gradientboostingregressor__n_estimators': [50, 100, 200, 300, 500, 1000]}\n",
    "gboost_grid = GridSearchCV(estimator=gboost_pipe, param_grid=params, n_jobs=-1)\n",
    "gboost_grid.fit(X_train, y_train)\n",
    "gboost_grid.score(X_test, y_test)"
   ]
  },
  {
   "cell_type": "markdown",
   "metadata": {},
   "source": [
    "### Support Vector"
   ]
  },
  {
   "cell_type": "code",
   "execution_count": 39,
   "metadata": {},
   "outputs": [
    {
     "data": {
      "text/plain": [
       "-0.3695469330036707"
      ]
     },
     "execution_count": 39,
     "metadata": {},
     "output_type": "execute_result"
    }
   ],
   "source": [
    "svr = SVR(C=3)\n",
    "svr.fit(X_train_scaled, y_train)\n",
    "svr.score(X_test_scaled, y_test)"
   ]
  },
  {
   "cell_type": "markdown",
   "metadata": {},
   "source": [
    "# Feature Importance & Model Evaluation"
   ]
  },
  {
   "cell_type": "code",
   "execution_count": 40,
   "metadata": {},
   "outputs": [
    {
     "data": {
      "text/html": [
       "<div>\n",
       "<style scoped>\n",
       "    .dataframe tbody tr th:only-of-type {\n",
       "        vertical-align: middle;\n",
       "    }\n",
       "\n",
       "    .dataframe tbody tr th {\n",
       "        vertical-align: top;\n",
       "    }\n",
       "\n",
       "    .dataframe thead th {\n",
       "        text-align: right;\n",
       "    }\n",
       "</style>\n",
       "<table border=\"1\" class=\"dataframe\">\n",
       "  <thead>\n",
       "    <tr style=\"text-align: right;\">\n",
       "      <th></th>\n",
       "      <th>0</th>\n",
       "    </tr>\n",
       "  </thead>\n",
       "  <tbody>\n",
       "    <tr>\n",
       "      <th>pct_meet_exceed_math_SY1819</th>\n",
       "      <td>0.226483</td>\n",
       "    </tr>\n",
       "    <tr>\n",
       "      <th>pct_meet_exceed_ela_SY1718</th>\n",
       "      <td>0.203570</td>\n",
       "    </tr>\n",
       "    <tr>\n",
       "      <th>pct_meet_exceed_math_SY1718</th>\n",
       "      <td>0.182342</td>\n",
       "    </tr>\n",
       "    <tr>\n",
       "      <th>pct_meet_exceed_ela_SY1819</th>\n",
       "      <td>0.103229</td>\n",
       "    </tr>\n",
       "    <tr>\n",
       "      <th>pct_11-20_SY1819</th>\n",
       "      <td>0.038394</td>\n",
       "    </tr>\n",
       "  </tbody>\n",
       "</table>\n",
       "</div>"
      ],
      "text/plain": [
       "                                    0\n",
       "pct_meet_exceed_math_SY1819  0.226483\n",
       "pct_meet_exceed_ela_SY1718   0.203570\n",
       "pct_meet_exceed_math_SY1718  0.182342\n",
       "pct_meet_exceed_ela_SY1819   0.103229\n",
       "pct_11-20_SY1819             0.038394"
      ]
     },
     "execution_count": 40,
     "metadata": {},
     "output_type": "execute_result"
    }
   ],
   "source": [
    "# Random Forest Feature Importance\n",
    "feat_imp = pd.DataFrame(rforest.feature_importances_, index=X.columns)\n",
    "feat_imp.sort_values(by=0, ascending=False).head(5)"
   ]
  },
  {
   "cell_type": "code",
   "execution_count": 59,
   "metadata": {},
   "outputs": [
    {
     "data": {
      "image/png": "[encoded data removed]",
      "text/plain": [
       "<Figure size 288x288 with 1 Axes>"
      ]
     },
     "metadata": {
      "needs_background": "light"
     },
     "output_type": "display_data"
    }
   ],
   "source": [
    "# Random Forest\n",
    "y_pred = rforest_grid.predict(X_test)\n",
    "fig, ax = plt.subplots(figsize=(4, 4))\n",
    "plt.scatter(y_test, y_pred)\n",
    "ax.plot([0,1], [0,1], transform=ax.transAxes, ls=\"--\", c=\"orange\")\n",
    "plt.title('Random Forest Grid Model')\n",
    "plt.xlabel('School Star Rating')\n",
    "plt.ylabel('Model Predictions');"
   ]
  },
  {
   "cell_type": "code",
   "execution_count": null,
   "metadata": {},
   "outputs": [],
   "source": []
  }
 ],
 "metadata": {
  "kernelspec": {
   "display_name": "Python 3",
   "language": "python",
   "name": "python3"
  },
  "language_info": {
   "codemirror_mode": {
    "name": "ipython",
    "version": 3
   },
   "file_extension": ".py",
   "mimetype": "text/x-python",
   "name": "python",
   "nbconvert_exporter": "python",
   "pygments_lexer": "ipython3",
   "version": "3.8.5"
  }
 },
 "nbformat": 4,
 "nbformat_minor": 4
}
