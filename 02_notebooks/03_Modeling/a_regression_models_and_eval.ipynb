{
 "cells": [
  {
   "cell_type": "markdown",
   "metadata": {},
   "source": [
    "# Regression Modeling"
   ]
  },
  {
   "cell_type": "markdown",
   "metadata": {},
   "source": [
    "### Import Libraries and Data"
   ]
  },
  {
   "cell_type": "code",
   "execution_count": 1,
   "metadata": {},
   "outputs": [],
   "source": [
    "import pandas as pd\n",
    "import seaborn as sns\n",
    "import numpy as np\n",
    "import matplotlib.pyplot as plt\n",
    "import scipy as sp\n",
    "\n",
    "from sklearn.linear_model import LinearRegression, Ridge, Lasso, ElasticNet\n",
    "from sklearn.neighbors import KNeighborsRegressor\n",
    "from sklearn.model_selection import train_test_split, GridSearchCV, cross_val_score\n",
    "from sklearn.metrics import mean_absolute_error, mean_squared_error, explained_variance_score, mean_squared_error, r2_score\n",
    "from sklearn.svm import SVR\n",
    "from sklearn.tree import DecisionTreeRegressor\n",
    "from sklearn.preprocessing import StandardScaler, PolynomialFeatures\n",
    "from sklearn.compose import make_column_transformer, make_column_selector, TransformedTargetRegressor\n",
    "from sklearn.pipeline import make_pipeline\n",
    "from sklearn.ensemble import RandomForestRegressor, BaggingRegressor, AdaBoostRegressor, GradientBoostingRegressor"
   ]
  },
  {
   "cell_type": "code",
   "execution_count": 2,
   "metadata": {},
   "outputs": [],
   "source": [
    "df = pd.read_csv('../../01_data/cleaned_data/school_df_v6.csv')"
   ]
  },
  {
   "cell_type": "code",
   "execution_count": 3,
   "metadata": {},
   "outputs": [],
   "source": [
    "df = df.iloc[:,:45]\n",
    "df.dropna(how='all', inplace=True)"
   ]
  },
  {
   "cell_type": "code",
   "execution_count": 4,
   "metadata": {},
   "outputs": [],
   "source": [
    "# drop 2 schools that have no attendance data\n",
    "df.drop(df[df['code'] == 201].index, inplace = True)\n",
    "df.drop(df[df['code'] == 347].index, inplace = True)\n",
    "df = df.replace(-1,np.nan)\n",
    "df.dropna(how='any',inplace=True)"
   ]
  },
  {
   "cell_type": "code",
   "execution_count": 5,
   "metadata": {},
   "outputs": [],
   "source": [
    "df = df.replace(-1,np.nan)\n",
    "df.dropna(how='any',inplace=True)"
   ]
  },
  {
   "cell_type": "code",
   "execution_count": 6,
   "metadata": {},
   "outputs": [
    {
     "data": {
      "text/plain": [
       "(81, 45)"
      ]
     },
     "execution_count": 6,
     "metadata": {},
     "output_type": "execute_result"
    }
   ],
   "source": [
    "df.shape"
   ]
  },
  {
   "cell_type": "code",
   "execution_count": 7,
   "metadata": {},
   "outputs": [
    {
     "data": {
      "text/html": [
       "<div>\n",
       "<style scoped>\n",
       "    .dataframe tbody tr th:only-of-type {\n",
       "        vertical-align: middle;\n",
       "    }\n",
       "\n",
       "    .dataframe tbody tr th {\n",
       "        vertical-align: top;\n",
       "    }\n",
       "\n",
       "    .dataframe thead th {\n",
       "        text-align: right;\n",
       "    }\n",
       "</style>\n",
       "<table border=\"1\" class=\"dataframe\">\n",
       "  <thead>\n",
       "    <tr style=\"text-align: right;\">\n",
       "      <th></th>\n",
       "      <th>code</th>\n",
       "      <th>name</th>\n",
       "      <th>grade_band</th>\n",
       "      <th>enrollment_SY1718</th>\n",
       "      <th>enrollment_SY1819</th>\n",
       "      <th>star_score_SY1718</th>\n",
       "      <th>star_score_SY1819</th>\n",
       "      <th>star_rating_SY1718</th>\n",
       "      <th>star_rating_SY1819</th>\n",
       "      <th>capacity_SY1718</th>\n",
       "      <th>...</th>\n",
       "      <th>count_20+_SY1718</th>\n",
       "      <th>pct_20+_SY1718</th>\n",
       "      <th>budgeted_amount_FY16</th>\n",
       "      <th>budgeted_enrollment_FY16</th>\n",
       "      <th>budgeted_amount_FY17</th>\n",
       "      <th>budgeted_enrollment_FY17</th>\n",
       "      <th>pct_meet_exceed_math_SY1718</th>\n",
       "      <th>pct_meet_exceed_ela_SY1718</th>\n",
       "      <th>pct_meet_exceed_math_SY1819</th>\n",
       "      <th>pct_meet_exceed_ela_SY1819</th>\n",
       "    </tr>\n",
       "  </thead>\n",
       "  <tbody>\n",
       "    <tr>\n",
       "      <th>0</th>\n",
       "      <td>175.0</td>\n",
       "      <td>School-Within-School @ Goding</td>\n",
       "      <td>Elementary</td>\n",
       "      <td>308.0</td>\n",
       "      <td>313.0</td>\n",
       "      <td>88.55</td>\n",
       "      <td>88.26</td>\n",
       "      <td>5.0</td>\n",
       "      <td>5.0</td>\n",
       "      <td>444.0</td>\n",
       "      <td>...</td>\n",
       "      <td>0.0</td>\n",
       "      <td>0.000000</td>\n",
       "      <td>1.059280e+07</td>\n",
       "      <td>5880.0</td>\n",
       "      <td>3815456.0</td>\n",
       "      <td>2674740.0</td>\n",
       "      <td>0.765</td>\n",
       "      <td>0.765</td>\n",
       "      <td>0.743</td>\n",
       "      <td>0.752</td>\n",
       "    </tr>\n",
       "    <tr>\n",
       "      <th>2</th>\n",
       "      <td>202.0</td>\n",
       "      <td>Aiton Elementary School</td>\n",
       "      <td>Elementary</td>\n",
       "      <td>243.0</td>\n",
       "      <td>244.0</td>\n",
       "      <td>43.85</td>\n",
       "      <td>10.79</td>\n",
       "      <td>3.0</td>\n",
       "      <td>1.0</td>\n",
       "      <td>529.0</td>\n",
       "      <td>...</td>\n",
       "      <td>12.0</td>\n",
       "      <td>0.049383</td>\n",
       "      <td>7.429920e+06</td>\n",
       "      <td>2650.0</td>\n",
       "      <td>3780814.0</td>\n",
       "      <td>2499672.0</td>\n",
       "      <td>0.129</td>\n",
       "      <td>0.171</td>\n",
       "      <td>0.153</td>\n",
       "      <td>0.056</td>\n",
       "    </tr>\n",
       "  </tbody>\n",
       "</table>\n",
       "<p>2 rows × 45 columns</p>\n",
       "</div>"
      ],
      "text/plain": [
       "    code                           name  grade_band  enrollment_SY1718  \\\n",
       "0  175.0  School-Within-School @ Goding  Elementary              308.0   \n",
       "2  202.0        Aiton Elementary School  Elementary              243.0   \n",
       "\n",
       "   enrollment_SY1819  star_score_SY1718  star_score_SY1819  \\\n",
       "0              313.0              88.55              88.26   \n",
       "2              244.0              43.85              10.79   \n",
       "\n",
       "   star_rating_SY1718  star_rating_SY1819  capacity_SY1718  ...  \\\n",
       "0                 5.0                 5.0            444.0  ...   \n",
       "2                 3.0                 1.0            529.0  ...   \n",
       "\n",
       "   count_20+_SY1718  pct_20+_SY1718  budgeted_amount_FY16  \\\n",
       "0               0.0        0.000000          1.059280e+07   \n",
       "2              12.0        0.049383          7.429920e+06   \n",
       "\n",
       "   budgeted_enrollment_FY16  budgeted_amount_FY17  budgeted_enrollment_FY17  \\\n",
       "0                    5880.0             3815456.0                 2674740.0   \n",
       "2                    2650.0             3780814.0                 2499672.0   \n",
       "\n",
       "   pct_meet_exceed_math_SY1718  pct_meet_exceed_ela_SY1718  \\\n",
       "0                        0.765                       0.765   \n",
       "2                        0.129                       0.171   \n",
       "\n",
       "   pct_meet_exceed_math_SY1819  pct_meet_exceed_ela_SY1819  \n",
       "0                        0.743                       0.752  \n",
       "2                        0.153                       0.056  \n",
       "\n",
       "[2 rows x 45 columns]"
      ]
     },
     "execution_count": 7,
     "metadata": {},
     "output_type": "execute_result"
    }
   ],
   "source": [
    "df.head(2)"
   ]
  },
  {
   "cell_type": "code",
   "execution_count": 8,
   "metadata": {},
   "outputs": [],
   "source": [
    "df = df[df['star_rating_SY1718'] !=-1]"
   ]
  },
  {
   "cell_type": "code",
   "execution_count": 9,
   "metadata": {},
   "outputs": [],
   "source": [
    "X=df[['enrollment_SY1718', 'enrollment_SY1819', 'capacity_SY1718', \n",
    "        'capacity_SY1819', 'latitude', 'longitude', 'cluster', 'ward','pct_0_SY1819', \n",
    "        'pct_1-5_SY1819', 'pct_6-10_SY1819', 'pct_11-20_SY1819', 'pct_20+_SY1819', \n",
    "        'pct_0_SY1718', 'pct_1-5_SY1718', 'pct_6-10__SY1718', 'pct_11-20_SY1718', \n",
    "        'pct_20+_SY1718', 'budgeted_amount_FY16', 'budgeted_enrollment_FY16', \n",
    "        'budgeted_amount_FY17', 'budgeted_enrollment_FY17', 'pct_meet_exceed_math_SY1718', \n",
    "        'pct_meet_exceed_ela_SY1718', 'pct_meet_exceed_math_SY1819', 'pct_meet_exceed_ela_SY1819']]"
   ]
  },
  {
   "cell_type": "code",
   "execution_count": 10,
   "metadata": {},
   "outputs": [],
   "source": [
    "y = df['star_rating_SY1718']"
   ]
  },
  {
   "cell_type": "code",
   "execution_count": 11,
   "metadata": {},
   "outputs": [],
   "source": [
    "X_train, X_test, y_train, y_test = train_test_split(X, y, random_state=7)"
   ]
  },
  {
   "cell_type": "code",
   "execution_count": 12,
   "metadata": {},
   "outputs": [],
   "source": [
    "sscaler = StandardScaler()\n",
    "X_train_scaled = sscaler.fit_transform(X_train)\n",
    "X_test_scaled = sscaler.fit_transform(X_test)"
   ]
  },
  {
   "cell_type": "markdown",
   "metadata": {},
   "source": [
    "### Null Model"
   ]
  },
  {
   "cell_type": "code",
   "execution_count": 13,
   "metadata": {},
   "outputs": [
    {
     "data": {
      "text/plain": [
       "3.0    29\n",
       "2.0    20\n",
       "4.0    13\n",
       "5.0    11\n",
       "1.0     8\n",
       "Name: star_rating_SY1718, dtype: int64"
      ]
     },
     "execution_count": 13,
     "metadata": {},
     "output_type": "execute_result"
    }
   ],
   "source": [
    "y.value_counts()"
   ]
  },
  {
   "cell_type": "code",
   "execution_count": 14,
   "metadata": {},
   "outputs": [
    {
     "data": {
      "text/plain": [
       "3.0    0.358025\n",
       "2.0    0.246914\n",
       "4.0    0.160494\n",
       "5.0    0.135802\n",
       "1.0    0.098765\n",
       "Name: star_rating_SY1718, dtype: float64"
      ]
     },
     "execution_count": 14,
     "metadata": {},
     "output_type": "execute_result"
    }
   ],
   "source": [
    "#null model will be 34.5%\n",
    "y.value_counts(normalize=True)"
   ]
  },
  {
   "cell_type": "markdown",
   "metadata": {},
   "source": [
    "### Linear Regression"
   ]
  },
  {
   "cell_type": "code",
   "execution_count": 15,
   "metadata": {},
   "outputs": [
    {
     "data": {
      "text/plain": [
       "-460845212343844.56"
      ]
     },
     "execution_count": 15,
     "metadata": {},
     "output_type": "execute_result"
    }
   ],
   "source": [
    "lr = LinearRegression()\n",
    "lr.fit(X_train_scaled, y_train)\n",
    "lr.score(X_test_scaled, y_test)"
   ]
  },
  {
   "cell_type": "markdown",
   "metadata": {},
   "source": [
    "### Ridge"
   ]
  },
  {
   "cell_type": "code",
   "execution_count": 16,
   "metadata": {},
   "outputs": [
    {
     "data": {
      "text/plain": [
       "0.6817591357894337"
      ]
     },
     "execution_count": 16,
     "metadata": {},
     "output_type": "execute_result"
    }
   ],
   "source": [
    "ridge = Ridge()\n",
    "ridge.fit(X_train_scaled, y_train)\n",
    "ridge.score(X_test_scaled, y_test)"
   ]
  },
  {
   "cell_type": "code",
   "execution_count": 17,
   "metadata": {},
   "outputs": [
    {
     "data": {
      "text/plain": [
       "GridSearchCV(estimator=Pipeline(steps=[('standardscaler', StandardScaler()),\n",
       "                                       ('ridge', Ridge())]),\n",
       "             n_jobs=-1,\n",
       "             param_grid={'ridge__alpha': ['.01', '0.1', '1', '10', '100', '200',\n",
       "                                          '500', '1000', '10_000'],\n",
       "                         'ridge__normalize': [True, False]})"
      ]
     },
     "execution_count": 17,
     "metadata": {},
     "output_type": "execute_result"
    }
   ],
   "source": [
    "pipe = make_pipeline(StandardScaler(), Ridge())\n",
    "params = {'ridge__alpha': ['.01', '0.1', '1', '10', '100', '200', '500', '1000', '10_000'],\n",
    "          'ridge__normalize': [True, False]}\n",
    "ridge_grid = GridSearchCV(estimator=pipe, param_grid=params, n_jobs=-1)\n",
    "ridge_grid.fit(X_train, y_train)"
   ]
  },
  {
   "cell_type": "code",
   "execution_count": 18,
   "metadata": {},
   "outputs": [
    {
     "data": {
      "text/plain": [
       "{'ridge__alpha': '1', 'ridge__normalize': True}"
      ]
     },
     "execution_count": 18,
     "metadata": {},
     "output_type": "execute_result"
    }
   ],
   "source": [
    "ridge_grid.best_params_"
   ]
  },
  {
   "cell_type": "code",
   "execution_count": 19,
   "metadata": {},
   "outputs": [
    {
     "name": "stdout",
     "output_type": "stream",
     "text": [
      " ridge (train set) score is  0.7182374882199523\n",
      " ridge (test set) score is   0.7278814777927329\n",
      " ridge (test set) mse is     0.6618947425880253\n",
      " ridge explained var is      0.7440290733622903\n"
     ]
    }
   ],
   "source": [
    "print(f' ridge (train set) score is  {ridge_grid.score(X_train, y_train)}')\n",
    "print(f' ridge (test set) score is   {ridge_grid.score(X_test, y_test)}')\n",
    "print(f' ridge (test set) mse is     {mean_squared_error(y_test, ridge_grid.predict(X_test), squared=False)}')\n",
    "print(f' ridge explained var is      {explained_variance_score(y_test, ridge_grid.predict(X_test))}')"
   ]
  },
  {
   "cell_type": "markdown",
   "metadata": {},
   "source": [
    "### Lasso"
   ]
  },
  {
   "cell_type": "code",
   "execution_count": 20,
   "metadata": {},
   "outputs": [
    {
     "data": {
      "text/plain": [
       "Lasso()"
      ]
     },
     "execution_count": 20,
     "metadata": {},
     "output_type": "execute_result"
    }
   ],
   "source": [
    "lasso = Lasso()\n",
    "lasso.fit(X_train_scaled, y_train)"
   ]
  },
  {
   "cell_type": "code",
   "execution_count": 21,
   "metadata": {},
   "outputs": [
    {
     "name": "stdout",
     "output_type": "stream",
     "text": [
      " lasso score is         -0.057690140845070514\n",
      " lasso mse is           1.3049356853336271\n"
     ]
    }
   ],
   "source": [
    "print(f' lasso score is         {lasso.score(X_test, y_test)}')\n",
    "print(f' lasso mse is           {mean_squared_error(y_test, lasso.predict(X_test), squared=False)}')"
   ]
  },
  {
   "cell_type": "markdown",
   "metadata": {},
   "source": [
    "### Decision Tree Regressor"
   ]
  },
  {
   "cell_type": "code",
   "execution_count": 22,
   "metadata": {},
   "outputs": [
    {
     "data": {
      "text/plain": [
       "0.4380281690140845"
      ]
     },
     "execution_count": 22,
     "metadata": {},
     "output_type": "execute_result"
    }
   ],
   "source": [
    "dtree = DecisionTreeRegressor()\n",
    "dtree.fit(X_train_scaled, y_train)\n",
    "dtree.score(X_test_scaled, y_test)"
   ]
  },
  {
   "cell_type": "code",
   "execution_count": 23,
   "metadata": {},
   "outputs": [
    {
     "name": "stderr",
     "output_type": "stream",
     "text": [
      "c:\\programdata\\miniconda3\\lib\\site-packages\\sklearn\\model_selection\\_search.py:918: UserWarning: One or more of the test scores are non-finite: [        nan -0.03694175  0.07499563  0.02377222  0.21888338  0.17889591\n",
      "  0.25179859  0.48970377  0.52352962]\n",
      "  warnings.warn(\n"
     ]
    },
    {
     "data": {
      "text/plain": [
       "GridSearchCV(estimator=Pipeline(steps=[('standardscaler', StandardScaler()),\n",
       "                                       ('decisiontreeregressor',\n",
       "                                        DecisionTreeRegressor())]),\n",
       "             n_jobs=-1,\n",
       "             param_grid={'decisiontreeregressor__min_samples_split': [1, 2, 3,\n",
       "                                                                      5, 7, 10,\n",
       "                                                                      15, 20,\n",
       "                                                                      30]})"
      ]
     },
     "execution_count": 23,
     "metadata": {},
     "output_type": "execute_result"
    }
   ],
   "source": [
    "dtree_pipe = make_pipeline(StandardScaler(), DecisionTreeRegressor())\n",
    "params = {'decisiontreeregressor__min_samples_split': [1, 2, 3, 5, 7, 10, 15, 20, 30]}\n",
    "dtree_grid = GridSearchCV(estimator=dtree_pipe, param_grid=params, n_jobs=-1)\n",
    "dtree_grid.fit(X_train, y_train)"
   ]
  },
  {
   "cell_type": "code",
   "execution_count": 24,
   "metadata": {},
   "outputs": [
    {
     "name": "stdout",
     "output_type": "stream",
     "text": [
      " decision tree score is    0.49232914059781996\n",
      " decision tree mse is      0.9040677916100314\n"
     ]
    }
   ],
   "source": [
    "print(f' decision tree score is    {dtree_grid.score(X_test, y_test)}')\n",
    "print(f' decision tree mse is      {mean_squared_error(y_test, dtree_grid.predict(X_test), squared=False)}')"
   ]
  },
  {
   "cell_type": "markdown",
   "metadata": {},
   "source": [
    "### KNN Regressor"
   ]
  },
  {
   "cell_type": "code",
   "execution_count": 25,
   "metadata": {},
   "outputs": [
    {
     "data": {
      "text/plain": [
       "0.620225352112676"
      ]
     },
     "execution_count": 25,
     "metadata": {},
     "output_type": "execute_result"
    }
   ],
   "source": [
    "knn = KNeighborsRegressor()\n",
    "knn.fit(X_train_scaled, y_train)\n",
    "knn.score(X_test_scaled, y_test)"
   ]
  },
  {
   "cell_type": "code",
   "execution_count": 26,
   "metadata": {},
   "outputs": [
    {
     "data": {
      "text/plain": [
       "GridSearchCV(estimator=Pipeline(steps=[('standardscaler', StandardScaler()),\n",
       "                                       ('kneighborsregressor',\n",
       "                                        KNeighborsRegressor())]),\n",
       "             n_jobs=-1,\n",
       "             param_grid={'kneighborsregressor__algorithm': ['auto', 'ball_tree',\n",
       "                                                            'kd_tree',\n",
       "                                                            'brute'],\n",
       "                         'kneighborsregressor__n_neighbors': [1, 2, 3, 5, 7, 10,\n",
       "                                                              15, 20, 30]})"
      ]
     },
     "execution_count": 26,
     "metadata": {},
     "output_type": "execute_result"
    }
   ],
   "source": [
    "knn_pipe = make_pipeline(StandardScaler(), KNeighborsRegressor())\n",
    "params = {'kneighborsregressor__n_neighbors': [1, 2, 3, 5, 7, 10, 15, 20, 30],\n",
    "         'kneighborsregressor__algorithm': ['auto', 'ball_tree', 'kd_tree', 'brute']}\n",
    "knn_grid = GridSearchCV(estimator=knn_pipe, param_grid=params, n_jobs=-1)\n",
    "knn_grid.fit(X_train, y_train)"
   ]
  },
  {
   "cell_type": "code",
   "execution_count": 27,
   "metadata": {},
   "outputs": [
    {
     "name": "stdout",
     "output_type": "stream",
     "text": [
      " knn score is    0.6909456740442657\n",
      " knn mse is      0.7053867426838487\n"
     ]
    }
   ],
   "source": [
    "print(f' knn score is    {knn_grid.score(X_test, y_test)}')\n",
    "print(f' knn mse is      {mean_squared_error(y_test, knn_grid.predict(X_test), squared=False)}')"
   ]
  },
  {
   "cell_type": "markdown",
   "metadata": {},
   "source": [
    "### Random Forest Regressor"
   ]
  },
  {
   "cell_type": "code",
   "execution_count": 28,
   "metadata": {},
   "outputs": [
    {
     "data": {
      "text/plain": [
       "0.5937978873239436"
      ]
     },
     "execution_count": 28,
     "metadata": {},
     "output_type": "execute_result"
    }
   ],
   "source": [
    "rforest = RandomForestRegressor()\n",
    "rforest.fit(X_train_scaled, y_train)\n",
    "rforest.score(X_test_scaled, y_test)"
   ]
  },
  {
   "cell_type": "code",
   "execution_count": 29,
   "metadata": {},
   "outputs": [
    {
     "data": {
      "text/plain": [
       "0.6468283287157195"
      ]
     },
     "execution_count": 29,
     "metadata": {},
     "output_type": "execute_result"
    }
   ],
   "source": [
    "rforest_pipe = make_pipeline(StandardScaler(), RandomForestRegressor())\n",
    "params = {'randomforestregressor__n_estimators': [50, 100, 200, 500],\n",
    "         'randomforestregressor__criterion': [\"mse\", \"mae\"],\n",
    "#          'randomforestregressor__max_depth': [\"None\", 2, 5, 10, 30],\n",
    "         'randomforestregressor__min_samples_split': [2, 5, 10, 15],\n",
    "         'randomforestregressor__ccp_alpha': [0.0, 0.0001, 0.01, 0.1, 1, 10],}\n",
    "rforest_grid = GridSearchCV(estimator=rforest_pipe, param_grid=params, n_jobs=-1)\n",
    "rforest_grid.fit(X_train, y_train)\n",
    "rforest_grid.score(X_test, y_test)"
   ]
  },
  {
   "cell_type": "code",
   "execution_count": 30,
   "metadata": {},
   "outputs": [
    {
     "data": {
      "text/plain": [
       "{'randomforestregressor__ccp_alpha': 0.1,\n",
       " 'randomforestregressor__criterion': 'mse',\n",
       " 'randomforestregressor__min_samples_split': 10,\n",
       " 'randomforestregressor__n_estimators': 50}"
      ]
     },
     "execution_count": 30,
     "metadata": {},
     "output_type": "execute_result"
    }
   ],
   "source": [
    "rforest_grid.best_params_"
   ]
  },
  {
   "cell_type": "code",
   "execution_count": 32,
   "metadata": {},
   "outputs": [
    {
     "name": "stdout",
     "output_type": "stream",
     "text": [
      " random forest (test) score is     0.6468283287157195\n",
      " random forest mse is              0.7540546282198467\n"
     ]
    }
   ],
   "source": [
    "print(f' random forest (test) score is     {rforest_grid.score(X_test, y_test)}')\n",
    "print(f' random forest mse is              {mean_squared_error(y_test, rforest_grid.predict(X_test), squared=False)}')"
   ]
  },
  {
   "cell_type": "markdown",
   "metadata": {},
   "source": [
    "### Elastic Net"
   ]
  },
  {
   "cell_type": "code",
   "execution_count": 33,
   "metadata": {},
   "outputs": [
    {
     "data": {
      "text/plain": [
       "Pipeline(steps=[('standardscaler', StandardScaler()),\n",
       "                ('elasticnet', ElasticNet())])"
      ]
     },
     "execution_count": 33,
     "metadata": {},
     "output_type": "execute_result"
    }
   ],
   "source": [
    "enet_pipe = make_pipeline(StandardScaler(), ElasticNet())\n",
    "enet_pipe.fit(X_train, y_train)"
   ]
  },
  {
   "cell_type": "code",
   "execution_count": 34,
   "metadata": {},
   "outputs": [
    {
     "name": "stdout",
     "output_type": "stream",
     "text": [
      " enet score is    0.38567383419938306\n",
      " enet mse is      0.9945105311862962\n"
     ]
    }
   ],
   "source": [
    "print(f' enet score is    {enet_pipe.score(X_test, y_test)}')\n",
    "print(f' enet mse is      {mean_squared_error(y_test, enet_pipe.predict(X_test), squared=False)}')"
   ]
  },
  {
   "cell_type": "markdown",
   "metadata": {},
   "source": [
    "### Bagging Regressor"
   ]
  },
  {
   "cell_type": "code",
   "execution_count": 35,
   "metadata": {},
   "outputs": [
    {
     "data": {
      "text/plain": [
       "BaggingRegressor()"
      ]
     },
     "execution_count": 35,
     "metadata": {},
     "output_type": "execute_result"
    }
   ],
   "source": [
    "bag = BaggingRegressor()\n",
    "bag.fit(X_train_scaled, y_train)"
   ]
  },
  {
   "cell_type": "code",
   "execution_count": 36,
   "metadata": {},
   "outputs": [
    {
     "name": "stdout",
     "output_type": "stream",
     "text": [
      " bagging regressor score is    -0.19374647887323992\n",
      " bagging regressor mse is      1.3863277974219381\n"
     ]
    }
   ],
   "source": [
    "print(f' bagging regressor score is    {bag.score(X_test, y_test)}')\n",
    "print(f' bagging regressor mse is      {mean_squared_error(y_test, bag.predict(X_test), squared=False)}')"
   ]
  },
  {
   "cell_type": "markdown",
   "metadata": {},
   "source": [
    "### Adaboost"
   ]
  },
  {
   "cell_type": "code",
   "execution_count": 37,
   "metadata": {},
   "outputs": [
    {
     "data": {
      "text/plain": [
       "0.5828791080154361"
      ]
     },
     "execution_count": 37,
     "metadata": {},
     "output_type": "execute_result"
    }
   ],
   "source": [
    "ada = AdaBoostRegressor()\n",
    "ada.fit(X_train_scaled, y_train)\n",
    "ada.score(X_test_scaled, y_test)"
   ]
  },
  {
   "cell_type": "code",
   "execution_count": 38,
   "metadata": {},
   "outputs": [
    {
     "data": {
      "text/plain": [
       "GridSearchCV(estimator=Pipeline(steps=[('standardscaler', StandardScaler()),\n",
       "                                       ('adaboostregressor',\n",
       "                                        AdaBoostRegressor())]),\n",
       "             n_jobs=-1,\n",
       "             param_grid={'adaboostregressor__loss': ['linear', 'square',\n",
       "                                                     'exponential'],\n",
       "                         'adaboostregressor__n_estimators': [50, 100, 200, 300,\n",
       "                                                             500, 1000]})"
      ]
     },
     "execution_count": 38,
     "metadata": {},
     "output_type": "execute_result"
    }
   ],
   "source": [
    "ada_pipe = make_pipeline(StandardScaler(), AdaBoostRegressor())\n",
    "params = {'adaboostregressor__n_estimators': [50, 100, 200, 300, 500, 1000],\n",
    "         'adaboostregressor__loss': ['linear', 'square', 'exponential']}\n",
    "ada_grid = GridSearchCV(estimator=ada_pipe, param_grid=params, n_jobs=-1)\n",
    "ada_grid.fit(X_train, y_train)"
   ]
  },
  {
   "cell_type": "code",
   "execution_count": 39,
   "metadata": {},
   "outputs": [
    {
     "name": "stdout",
     "output_type": "stream",
     "text": [
      " Adaboost score is    0.527394158242883\n",
      " Adaboost mse is      0.872287044809909\n"
     ]
    }
   ],
   "source": [
    "print(f' Adaboost score is    {ada_grid.score(X_test, y_test)}')\n",
    "print(f' Adaboost mse is      {mean_squared_error(y_test, ada_grid.predict(X_test), squared=False)}')"
   ]
  },
  {
   "cell_type": "markdown",
   "metadata": {},
   "source": [
    "### Gradient Boosting Regressor"
   ]
  },
  {
   "cell_type": "code",
   "execution_count": 40,
   "metadata": {},
   "outputs": [
    {
     "data": {
      "text/plain": [
       "0.567333243265687"
      ]
     },
     "execution_count": 40,
     "metadata": {},
     "output_type": "execute_result"
    }
   ],
   "source": [
    "gboost = GradientBoostingRegressor()\n",
    "gboost.fit(X_train_scaled, y_train)\n",
    "gboost.score(X_test_scaled, y_test)"
   ]
  },
  {
   "cell_type": "code",
   "execution_count": 41,
   "metadata": {},
   "outputs": [
    {
     "data": {
      "text/plain": [
       "GridSearchCV(estimator=Pipeline(steps=[('standardscaler', StandardScaler()),\n",
       "                                       ('gradientboostingregressor',\n",
       "                                        GradientBoostingRegressor())]),\n",
       "             n_jobs=-1,\n",
       "             param_grid={'gradientboostingregressor__n_estimators': [50, 100,\n",
       "                                                                     200, 300,\n",
       "                                                                     500,\n",
       "                                                                     1000]})"
      ]
     },
     "execution_count": 41,
     "metadata": {},
     "output_type": "execute_result"
    }
   ],
   "source": [
    "gboost_pipe = make_pipeline(StandardScaler(), GradientBoostingRegressor())\n",
    "params = {'gradientboostingregressor__n_estimators': [50, 100, 200, 300, 500, 1000]}\n",
    "gboost_grid = GridSearchCV(estimator=gboost_pipe, param_grid=params, n_jobs=-1)\n",
    "gboost_grid.fit(X_train, y_train)"
   ]
  },
  {
   "cell_type": "code",
   "execution_count": 42,
   "metadata": {},
   "outputs": [
    {
     "name": "stdout",
     "output_type": "stream",
     "text": [
      " gradient boost score is    0.5548485338173663\n",
      " gradient boost mse is      0.84657177274965\n"
     ]
    }
   ],
   "source": [
    "print(f' gradient boost score is    {gboost_grid.score(X_test, y_test)}')\n",
    "print(f' gradient boost mse is      {mean_squared_error(y_test, gboost_grid.predict(X_test), squared=False)}')"
   ]
  },
  {
   "cell_type": "markdown",
   "metadata": {},
   "source": [
    "### Support Vector"
   ]
  },
  {
   "cell_type": "code",
   "execution_count": 43,
   "metadata": {},
   "outputs": [
    {
     "data": {
      "text/plain": [
       "SVR(C=3)"
      ]
     },
     "execution_count": 43,
     "metadata": {},
     "output_type": "execute_result"
    }
   ],
   "source": [
    "svr = SVR(C=3)\n",
    "svr.fit(X_train_scaled, y_train)"
   ]
  },
  {
   "cell_type": "code",
   "execution_count": 44,
   "metadata": {},
   "outputs": [
    {
     "name": "stdout",
     "output_type": "stream",
     "text": [
      " svr score is    -0.31474952042715776\n",
      " svr mse is      1.4548941250047813\n"
     ]
    }
   ],
   "source": [
    "print(f' svr score is    {svr.score(X_test, y_test)}')\n",
    "print(f' svr mse is      {mean_squared_error(y_test, svr.predict(X_test), squared=False)}')"
   ]
  },
  {
   "cell_type": "markdown",
   "metadata": {},
   "source": [
    "# Feature Importance & Model Evaluation"
   ]
  },
  {
   "cell_type": "code",
   "execution_count": 45,
   "metadata": {},
   "outputs": [
    {
     "data": {
      "text/html": [
       "<div>\n",
       "<style scoped>\n",
       "    .dataframe tbody tr th:only-of-type {\n",
       "        vertical-align: middle;\n",
       "    }\n",
       "\n",
       "    .dataframe tbody tr th {\n",
       "        vertical-align: top;\n",
       "    }\n",
       "\n",
       "    .dataframe thead th {\n",
       "        text-align: right;\n",
       "    }\n",
       "</style>\n",
       "<table border=\"1\" class=\"dataframe\">\n",
       "  <thead>\n",
       "    <tr style=\"text-align: right;\">\n",
       "      <th></th>\n",
       "      <th>0</th>\n",
       "    </tr>\n",
       "  </thead>\n",
       "  <tbody>\n",
       "    <tr>\n",
       "      <th>pct_meet_exceed_math_SY1819</th>\n",
       "      <td>0.486937</td>\n",
       "    </tr>\n",
       "    <tr>\n",
       "      <th>pct_meet_exceed_math_SY1718</th>\n",
       "      <td>0.116034</td>\n",
       "    </tr>\n",
       "    <tr>\n",
       "      <th>pct_meet_exceed_ela_SY1819</th>\n",
       "      <td>0.089548</td>\n",
       "    </tr>\n",
       "    <tr>\n",
       "      <th>cluster</th>\n",
       "      <td>0.037636</td>\n",
       "    </tr>\n",
       "    <tr>\n",
       "      <th>pct_20+_SY1718</th>\n",
       "      <td>0.036381</td>\n",
       "    </tr>\n",
       "  </tbody>\n",
       "</table>\n",
       "</div>"
      ],
      "text/plain": [
       "                                    0\n",
       "pct_meet_exceed_math_SY1819  0.486937\n",
       "pct_meet_exceed_math_SY1718  0.116034\n",
       "pct_meet_exceed_ela_SY1819   0.089548\n",
       "cluster                      0.037636\n",
       "pct_20+_SY1718               0.036381"
      ]
     },
     "execution_count": 45,
     "metadata": {},
     "output_type": "execute_result"
    }
   ],
   "source": [
    "# Random Forest Feature Importance - Top Features\n",
    "feat_imp = pd.DataFrame(rforest.feature_importances_, index=X.columns)\n",
    "feat_imp.sort_values(by=0, ascending=False).head(5)\n",
    "# Top 5 Features:\n",
    "# pct_meet_exceed_math_SY1819\n",
    "# pct_meet_exceed_ela_SY1718\n",
    "# pct_meet_exceed_math_SY1718\n",
    "# pct_meet_exceed_ela_SY1819\n",
    "# pct_11-20_SY1819"
   ]
  },
  {
   "cell_type": "code",
   "execution_count": 46,
   "metadata": {},
   "outputs": [
    {
     "data": {
      "text/html": [
       "<div>\n",
       "<style scoped>\n",
       "    .dataframe tbody tr th:only-of-type {\n",
       "        vertical-align: middle;\n",
       "    }\n",
       "\n",
       "    .dataframe tbody tr th {\n",
       "        vertical-align: top;\n",
       "    }\n",
       "\n",
       "    .dataframe thead th {\n",
       "        text-align: right;\n",
       "    }\n",
       "</style>\n",
       "<table border=\"1\" class=\"dataframe\">\n",
       "  <thead>\n",
       "    <tr style=\"text-align: right;\">\n",
       "      <th></th>\n",
       "      <th>0</th>\n",
       "    </tr>\n",
       "  </thead>\n",
       "  <tbody>\n",
       "    <tr>\n",
       "      <th>enrollment_SY1718</th>\n",
       "      <td>0.001814</td>\n",
       "    </tr>\n",
       "    <tr>\n",
       "      <th>budgeted_amount_FY16</th>\n",
       "      <td>0.003248</td>\n",
       "    </tr>\n",
       "    <tr>\n",
       "      <th>enrollment_SY1819</th>\n",
       "      <td>0.003870</td>\n",
       "    </tr>\n",
       "    <tr>\n",
       "      <th>capacity_SY1718</th>\n",
       "      <td>0.004255</td>\n",
       "    </tr>\n",
       "    <tr>\n",
       "      <th>budgeted_enrollment_FY16</th>\n",
       "      <td>0.004497</td>\n",
       "    </tr>\n",
       "  </tbody>\n",
       "</table>\n",
       "</div>"
      ],
      "text/plain": [
       "                                 0\n",
       "enrollment_SY1718         0.001814\n",
       "budgeted_amount_FY16      0.003248\n",
       "enrollment_SY1819         0.003870\n",
       "capacity_SY1718           0.004255\n",
       "budgeted_enrollment_FY16  0.004497"
      ]
     },
     "execution_count": 46,
     "metadata": {},
     "output_type": "execute_result"
    }
   ],
   "source": [
    "# Random Forest Feature Importance - Bottom Features\n",
    "feat_imp = pd.DataFrame(rforest.feature_importances_, index=X.columns)\n",
    "feat_imp.sort_values(by=0, ascending=True).head(5)\n",
    "\n",
    "# Bottom 5 Features:\n",
    "# ward\n",
    "# pct_0_SY1819\n",
    "# budgeted_enrollment_FY17\n",
    "# pct_11-20_SY1718\n",
    "# enrollment_SY1718"
   ]
  },
  {
   "cell_type": "code",
   "execution_count": 47,
   "metadata": {},
   "outputs": [
    {
     "data": {
      "image/png": "[encoded data removed]",
      "text/plain": [
       "<Figure size 720x360 with 2 Axes>"
      ]
     },
     "metadata": {
      "needs_background": "light"
     },
     "output_type": "display_data"
    }
   ],
   "source": [
    "fig = plt.figure(figsize=(10, 5))\n",
    "\n",
    "ax = fig.add_subplot(1, 2, 1)\n",
    "y_pred_forest = rforest_grid.predict(X_test)\n",
    "plt.scatter(y_test, y_pred_forest)\n",
    "ax.plot([0,1], [0,1], transform=ax.transAxes, ls=\"--\", c=\"orange\")\n",
    "plt.title('Random Forest Grid Model')\n",
    "plt.xlabel('School Star Rating')\n",
    "plt.ylabel('Model Predictions')\n",
    "\n",
    "ax = fig.add_subplot(1, 2, 2)\n",
    "y_pred_ridge = ridge_grid.predict(X_test)\n",
    "plt.scatter(y_test, y_pred_ridge)\n",
    "ax.plot([0,1], [0,1], transform=ax.transAxes, ls=\"--\", c=\"orange\")\n",
    "plt.title('Ridge Model')\n",
    "plt.xlabel('School Star Rating')\n",
    "plt.ylabel('Model Predictions');"
   ]
  },
  {
   "cell_type": "code",
   "execution_count": 48,
   "metadata": {},
   "outputs": [
    {
     "name": "stdout",
     "output_type": "stream",
     "text": [
      " ridge (train set) score is        0.7182374882199523\n",
      " ridge (test set) score is         0.7278814777927329\n",
      " ridge (test set) mse is           0.6618947425880253\n",
      "\n",
      " lasso (train set) score is        0.0\n",
      " lasso (test set) score is         -0.057690140845070514\n",
      " lasso (test set) mse is           1.3049356853336271\n",
      "\n",
      " dtree_grid (train set) score is   0.7373866140521703\n",
      " dtree_grid (test set) score is    0.49232914059781996\n",
      " dtree_grid (test set) mse is      0.9040677916100314\n",
      "\n",
      " knn_grid (train set) score is     0.679761597224785\n",
      " knn_grid (test set) score is      0.6909456740442657\n",
      " knn_grid (test set) mse is        0.7053867426838487\n",
      "\n",
      " rforest_grid (train set) score is 0.8042615783844606\n",
      " rforest_grid (test set) score is  0.6468283287157195\n",
      " rforest_grid (test set) mse is    0.7540546282198467\n",
      "\n",
      " enet_pipe (train set) score is    0.4292955613914825\n",
      " enet_pipe (test set) score is     0.38567383419938306\n",
      " enet_pipe (test set) mse is       0.9945105311862962\n",
      "\n",
      " bag (train set) score is          0.025542495479204286\n",
      " bag (test set) score is           -0.19374647887323992\n",
      " bag (test set) mse is             1.3863277974219381\n",
      "\n",
      " ada_grid (train set) score is     0.9800221961438838\n",
      " ada_grid (test set) score is      0.527394158242883\n",
      " ada_grid (test set) mse is        0.872287044809909\n",
      "\n",
      " gboost (train set) score is       0.9996352697866215\n",
      " gboost (test set) score is        0.5548485338173663\n",
      " gboost (test set) mse is          0.84657177274965\n",
      "\n",
      " svr (train set) score is          -0.13485837642166643\n",
      " svr (test set) score is           -0.31474952042715776\n",
      " svr (test set) mse is             1.4548941250047813\n"
     ]
    }
   ],
   "source": [
    "print(f' ridge (train set) score is        {ridge_grid.score(X_train, y_train)}')\n",
    "print(f' ridge (test set) score is         {ridge_grid.score(X_test, y_test)}')\n",
    "print(f' ridge (test set) mse is           {mean_squared_error(y_test, ridge_grid.predict(X_test), squared=False)}')\n",
    "print()\n",
    "print(f' lasso (train set) score is        {lasso.score(X_train_scaled, y_train)}')\n",
    "print(f' lasso (test set) score is         {lasso.score(X_test_scaled, y_test)}')\n",
    "print(f' lasso (test set) mse is           {mean_squared_error(y_test, lasso.predict(X_test), squared=False)}')\n",
    "print()\n",
    "print(f' dtree_grid (train set) score is   {dtree_grid.score(X_train, y_train)}')\n",
    "print(f' dtree_grid (test set) score is    {dtree_grid.score(X_test, y_test)}')\n",
    "print(f' dtree_grid (test set) mse is      {mean_squared_error(y_test, dtree_grid.predict(X_test), squared=False)}')\n",
    "print()\n",
    "print(f' knn_grid (train set) score is     {knn_grid.score(X_train, y_train)}')\n",
    "print(f' knn_grid (test set) score is      {knn_grid.score(X_test, y_test)}')\n",
    "print(f' knn_grid (test set) mse is        {mean_squared_error(y_test, knn_grid.predict(X_test), squared=False)}')\n",
    "print()\n",
    "print(f' rforest_grid (train set) score is {rforest_grid.score(X_train, y_train)}')\n",
    "print(f' rforest_grid (test set) score is  {rforest_grid.score(X_test, y_test)}')\n",
    "print(f' rforest_grid (test set) mse is    {mean_squared_error(y_test, rforest_grid.predict(X_test), squared=False)}')\n",
    "print()\n",
    "print(f' enet_pipe (train set) score is    {enet_pipe.score(X_train, y_train)}')\n",
    "print(f' enet_pipe (test set) score is     {enet_pipe.score(X_test, y_test)}')\n",
    "print(f' enet_pipe (test set) mse is       {mean_squared_error(y_test, enet_pipe.predict(X_test), squared=False)}')\n",
    "print()\n",
    "print(f' bag (train set) score is          {bag.score(X_train, y_train)}')\n",
    "print(f' bag (test set) score is           {bag.score(X_test, y_test)}')\n",
    "print(f' bag (test set) mse is             {mean_squared_error(y_test, bag.predict(X_test), squared=False)}')\n",
    "print()\n",
    "print(f' ada_grid (train set) score is     {ada_grid.score(X_train, y_train)}')\n",
    "print(f' ada_grid (test set) score is      {ada_grid.score(X_test, y_test)}')\n",
    "print(f' ada_grid (test set) mse is        {mean_squared_error(y_test, ada_grid.predict(X_test), squared=False)}')\n",
    "print()\n",
    "print(f' gboost (train set) score is       {gboost_grid.score(X_train, y_train)}')\n",
    "print(f' gboost (test set) score is        {gboost_grid.score(X_test, y_test)}')\n",
    "print(f' gboost (test set) mse is          {mean_squared_error(y_test, gboost_grid.predict(X_test), squared=False)}')\n",
    "print()\n",
    "print(f' svr (train set) score is          {svr.score(X_train, y_train)}')\n",
    "print(f' svr (test set) score is           {svr.score(X_test, y_test)}')\n",
    "print(f' svr (test set) mse is             {mean_squared_error(y_test, svr.predict(X_test), squared=False)}')"
   ]
  },
  {
   "cell_type": "code",
   "execution_count": 49,
   "metadata": {},
   "outputs": [],
   "source": [
    "# Models that performed well:\n",
    "# - Ridge Model\n",
    "# - Decision Trees\n",
    "# - KNN\n",
    "# - Random Forest Model\n",
    "# - Neural Network"
   ]
  },
  {
   "cell_type": "code",
   "execution_count": 50,
   "metadata": {},
   "outputs": [],
   "source": [
    "# Models that did not performed well:\n",
    "# - Lasso Model\n",
    "# - Elastic Net Modelnet_pipe\n",
    "# - Bagging Regressor\n",
    "# - Adaboost & Gradientboost\n",
    "# - SVR"
   ]
  },
  {
   "cell_type": "code",
   "execution_count": null,
   "metadata": {},
   "outputs": [],
   "source": []
  }
 ],
 "metadata": {
  "kernelspec": {
   "display_name": "Python 3",
   "language": "python",
   "name": "python3"
  },
  "language_info": {
   "codemirror_mode": {
    "name": "ipython",
    "version": 3
   },
   "file_extension": ".py",
   "mimetype": "text/x-python",
   "name": "python",
   "nbconvert_exporter": "python",
   "pygments_lexer": "ipython3",
   "version": "3.8.5"
  }
 },
 "nbformat": 4,
 "nbformat_minor": 4
}
