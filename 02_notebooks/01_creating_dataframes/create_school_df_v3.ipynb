{
 "cells": [
  {
   "cell_type": "markdown",
   "metadata": {},
   "source": [
    "# School DataFrame\n",
    "\n",
    "#### Version: 3\n",
    "#### Creation Date: 2/5/21\n",
    "#### File Names Generated: school_df_v3.csv\n",
    "\n"
   ]
  },
  {
   "cell_type": "markdown",
   "metadata": {},
   "source": [
    "#### Updates from previous version:\n",
    "* Adds in calculated attendance percent metrics\n",
    "\n",
    "#### Notes:\n",
    "* new column names listed as **bold** below"
   ]
  },
  {
   "cell_type": "markdown",
   "metadata": {},
   "source": [
    "---"
   ]
  },
  {
   "cell_type": "markdown",
   "metadata": {},
   "source": [
    "COLUMN NAMES:\n",
    "* 'attnd_absence_1-5_SY1718', \n",
    "* 'attnd_absence_1-5_SY1819',\n",
    "* 'attnd_absence_11-20_SY1718', \n",
    "* 'attnd_absence_11-20_SY1819',\n",
    "* 'attnd_absence_20+_SY1718', \n",
    "* 'attnd_absence_20+_SY1819',\n",
    "* 'attnd_absence_6-10_SY1718', \n",
    "* 'attnd_absence_6-10_SY1819',\n",
    "* 'attnd_count_truancy_aged_students_SY1718',\n",
    "* 'attnd_count_truancy_aged_students_SY1819', \n",
    "* **'pct_of_absences_1-5_SY1718',** \n",
    "* **'pct_of_absences_1-5_SY1819',**\n",
    "* **'pct_of_absences_11-20_SY1718',** \n",
    "* **'pct_of_absences_11-20_SY1819',**\n",
    "* **'pct_of_absences_20+_SY1718',** \n",
    "* **'pct_of_absences_20+_SY1819',**\n",
    "* **'pct_of_absences_6-10_SY1718',** \n",
    "* **'pct_of_absences_6-10_SY1819',**\n",
    "* **'pct_of_student_absences_1-5_SY1718',**\n",
    "* **'pct_of_student_absences_1-5_SY1819',**\n",
    "* **'pct_of_student_absences_11-20_SY1718',**\n",
    "* **'pct_of_student_absences_11-20_SY1819',**\n",
    "* **'pct_of_student_absences_20+_SY1718',**\n",
    "* **'pct_of_student_absences_20+_SY1819',**\n",
    "* **'pct_of_student_absences_6-10_SY1718',**\n",
    "* **'pct_of_student_absences_6-10_SY1819',**\n",
    "* 'school_budgeted_amount_FY16',\n",
    "* 'school_budgeted_amount_FY17',\n",
    "* 'school_budgeted_enrollment_FY16',\n",
    "* 'school_budgeted_enrollment_FY17',\n",
    "* 'school_capacity_SY1718',\n",
    "* 'school_capacity_SY1819', \n",
    "* 'school_cluster', \n",
    "* 'school_code',\n",
    "* 'school_enrollment_SY1718', \n",
    "* 'school_enrollment_SY1819',\n",
    "* 'school_grade_band', \n",
    "* 'school_grade_range', \n",
    "* 'school_latitude',\n",
    "* 'school_longitude', \n",
    "* 'school_name', \n",
    "* 'school_sector',\n",
    "* 'school_star_rating_SY1718', \n",
    "* 'school_star_rating_SY1819',\n",
    "* 'school_star_score_SY1718', \n",
    "* 'school_star_score_SY1819',\n",
    "* 'school_unfilled_seats_SY1718', \n",
    "* 'school_unfilled_seats_SY1819',\n",
    "* 'school_ward'\n",
    "* **'students_with_absences_SY1718'**\n",
    "* **'students_with_absences_SY1819'**"
   ]
  },
  {
   "cell_type": "markdown",
   "metadata": {},
   "source": [
    "---"
   ]
  },
  {
   "cell_type": "markdown",
   "metadata": {},
   "source": [
    "<br><Br>"
   ]
  },
  {
   "cell_type": "code",
   "execution_count": 1,
   "metadata": {},
   "outputs": [],
   "source": [
    "import pandas as pd\n",
    "import numpy as np\n",
    "import seaborn as sns"
   ]
  },
  {
   "cell_type": "code",
   "execution_count": 2,
   "metadata": {},
   "outputs": [],
   "source": [
    "data = pd.read_excel('../../01_data/cleaned_data/school_df_v2.xlsx')"
   ]
  },
  {
   "cell_type": "code",
   "execution_count": 3,
   "metadata": {},
   "outputs": [
    {
     "name": "stdout",
     "output_type": "stream",
     "text": [
      "<class 'pandas.core.frame.DataFrame'>\n",
      "RangeIndex: 116 entries, 0 to 115\n",
      "Data columns (total 33 columns):\n",
      " #   Column                                    Non-Null Count  Dtype  \n",
      "---  ------                                    --------------  -----  \n",
      " 0   school_sector                             116 non-null    object \n",
      " 1   school_code                               116 non-null    int64  \n",
      " 2   school_name                               116 non-null    object \n",
      " 3   school_grade_range                        116 non-null    object \n",
      " 4   school_enrollment_SY1819                  116 non-null    float64\n",
      " 5   school_star_score_SY1819                  109 non-null    float64\n",
      " 6   school_star_rating_SY1819                 109 non-null    float64\n",
      " 7   school_capacity_SY1819                    108 non-null    float64\n",
      " 8   school_unfilled_seats_SY1819              108 non-null    float64\n",
      " 9   school_latitude                           116 non-null    float64\n",
      " 10  school_longitude                          116 non-null    float64\n",
      " 11  school_cluster                            116 non-null    object \n",
      " 12  school_ward                               116 non-null    object \n",
      " 13  school_grade_band                         112 non-null    object \n",
      " 14  school_enrollment_SY1718                  115 non-null    float64\n",
      " 15  school_star_score_SY1718                  108 non-null    float64\n",
      " 16  school_star_rating_SY1718                 108 non-null    float64\n",
      " 17  school_capacity_SY1718                    107 non-null    float64\n",
      " 18  school_unfilled_seats_SY1718              107 non-null    float64\n",
      " 19  attnd_count_truancy_aged_students_SY1819  112 non-null    object \n",
      " 20  attnd_absence_1-5_SY1819                  112 non-null    object \n",
      " 21  attnd_absence_6-10_SY1819                 112 non-null    object \n",
      " 22  attnd_absence_11-20_SY1819                112 non-null    object \n",
      " 23  attnd_absence_20+_SY1819                  107 non-null    object \n",
      " 24  attnd_count_truancy_aged_students_SY1718  112 non-null    float64\n",
      " 25  attnd_absence_1-5_SY1718                  112 non-null    object \n",
      " 26  attnd_absence_6-10_SY1718                 112 non-null    object \n",
      " 27  attnd_absence_11-20_SY1718                112 non-null    object \n",
      " 28  attnd_absence_20+_SY1718                  112 non-null    object \n",
      " 29  school_budgeted_amount_FY16               110 non-null    float64\n",
      " 30  school_budgeted_enrollment_FY16           110 non-null    float64\n",
      " 31  school_budgeted_amount_FY17               112 non-null    float64\n",
      " 32  school_budgeted_enrollment_FY17           112 non-null    float64\n",
      "dtypes: float64(17), int64(1), object(15)\n",
      "memory usage: 30.0+ KB\n"
     ]
    }
   ],
   "source": [
    "data.info()"
   ]
  },
  {
   "cell_type": "code",
   "execution_count": 4,
   "metadata": {},
   "outputs": [
    {
     "data": {
      "text/html": [
       "<div>\n",
       "<style scoped>\n",
       "    .dataframe tbody tr th:only-of-type {\n",
       "        vertical-align: middle;\n",
       "    }\n",
       "\n",
       "    .dataframe tbody tr th {\n",
       "        vertical-align: top;\n",
       "    }\n",
       "\n",
       "    .dataframe thead th {\n",
       "        text-align: right;\n",
       "    }\n",
       "</style>\n",
       "<table border=\"1\" class=\"dataframe\">\n",
       "  <thead>\n",
       "    <tr style=\"text-align: right;\">\n",
       "      <th></th>\n",
       "      <th>school_sector</th>\n",
       "      <th>school_code</th>\n",
       "      <th>school_name</th>\n",
       "      <th>school_grade_range</th>\n",
       "      <th>school_enrollment_SY1819</th>\n",
       "      <th>school_star_score_SY1819</th>\n",
       "      <th>school_star_rating_SY1819</th>\n",
       "      <th>school_capacity_SY1819</th>\n",
       "      <th>school_unfilled_seats_SY1819</th>\n",
       "      <th>school_latitude</th>\n",
       "      <th>...</th>\n",
       "      <th>attnd_absence_20+_SY1819</th>\n",
       "      <th>attnd_count_truancy_aged_students_SY1718</th>\n",
       "      <th>attnd_absence_1-5_SY1718</th>\n",
       "      <th>attnd_absence_6-10_SY1718</th>\n",
       "      <th>attnd_absence_11-20_SY1718</th>\n",
       "      <th>attnd_absence_20+_SY1718</th>\n",
       "      <th>school_budgeted_amount_FY16</th>\n",
       "      <th>school_budgeted_enrollment_FY16</th>\n",
       "      <th>school_budgeted_amount_FY17</th>\n",
       "      <th>school_budgeted_enrollment_FY17</th>\n",
       "    </tr>\n",
       "  </thead>\n",
       "  <tbody>\n",
       "    <tr>\n",
       "      <th>0</th>\n",
       "      <td>DCPS</td>\n",
       "      <td>202</td>\n",
       "      <td>Aiton Elementary School</td>\n",
       "      <td>PK3-5th</td>\n",
       "      <td>244.0</td>\n",
       "      <td>10.79</td>\n",
       "      <td>1.0</td>\n",
       "      <td>529.0</td>\n",
       "      <td>285.0</td>\n",
       "      <td>38.897002</td>\n",
       "      <td>...</td>\n",
       "      <td>21</td>\n",
       "      <td>190.0</td>\n",
       "      <td>74</td>\n",
       "      <td>58</td>\n",
       "      <td>33</td>\n",
       "      <td>12</td>\n",
       "      <td>7.429920e+06</td>\n",
       "      <td>2650.0</td>\n",
       "      <td>3780814.0</td>\n",
       "      <td>2499672.0</td>\n",
       "    </tr>\n",
       "    <tr>\n",
       "      <th>1</th>\n",
       "      <td>DCPS</td>\n",
       "      <td>203</td>\n",
       "      <td>Amidon-Bowen Elementary School</td>\n",
       "      <td>PK3-5th</td>\n",
       "      <td>339.0</td>\n",
       "      <td>48.54</td>\n",
       "      <td>3.0</td>\n",
       "      <td>400.0</td>\n",
       "      <td>61.0</td>\n",
       "      <td>38.879515</td>\n",
       "      <td>...</td>\n",
       "      <td>10</td>\n",
       "      <td>309.0</td>\n",
       "      <td>149</td>\n",
       "      <td>98</td>\n",
       "      <td>36</td>\n",
       "      <td>12</td>\n",
       "      <td>8.979878e+06</td>\n",
       "      <td>3660.0</td>\n",
       "      <td>4533018.0</td>\n",
       "      <td>3020358.0</td>\n",
       "    </tr>\n",
       "    <tr>\n",
       "      <th>2</th>\n",
       "      <td>DCPS</td>\n",
       "      <td>450</td>\n",
       "      <td>Anacostia High School</td>\n",
       "      <td>9th-12th</td>\n",
       "      <td>296.0</td>\n",
       "      <td>3.68</td>\n",
       "      <td>1.0</td>\n",
       "      <td>837.0</td>\n",
       "      <td>541.0</td>\n",
       "      <td>38.870084</td>\n",
       "      <td>...</td>\n",
       "      <td>221</td>\n",
       "      <td>396.0</td>\n",
       "      <td>31</td>\n",
       "      <td>40</td>\n",
       "      <td>59</td>\n",
       "      <td>262</td>\n",
       "      <td>1.853702e+07</td>\n",
       "      <td>6360.0</td>\n",
       "      <td>9238855.0</td>\n",
       "      <td>4694247.0</td>\n",
       "    </tr>\n",
       "    <tr>\n",
       "      <th>3</th>\n",
       "      <td>DCPS</td>\n",
       "      <td>452</td>\n",
       "      <td>Ballou High School</td>\n",
       "      <td>9th-12th</td>\n",
       "      <td>650.0</td>\n",
       "      <td>4.83</td>\n",
       "      <td>1.0</td>\n",
       "      <td>NaN</td>\n",
       "      <td>NaN</td>\n",
       "      <td>38.838512</td>\n",
       "      <td>...</td>\n",
       "      <td>518</td>\n",
       "      <td>933.0</td>\n",
       "      <td>53</td>\n",
       "      <td>102</td>\n",
       "      <td>207</td>\n",
       "      <td>556</td>\n",
       "      <td>2.187321e+07</td>\n",
       "      <td>8180.0</td>\n",
       "      <td>12748461.0</td>\n",
       "      <td>6860942.0</td>\n",
       "    </tr>\n",
       "    <tr>\n",
       "      <th>4</th>\n",
       "      <td>DCPS</td>\n",
       "      <td>462</td>\n",
       "      <td>Ballou STAY</td>\n",
       "      <td>Adult</td>\n",
       "      <td>524.0</td>\n",
       "      <td>NaN</td>\n",
       "      <td>NaN</td>\n",
       "      <td>NaN</td>\n",
       "      <td>NaN</td>\n",
       "      <td>38.838512</td>\n",
       "      <td>...</td>\n",
       "      <td>147</td>\n",
       "      <td>138.0</td>\n",
       "      <td>&lt;10</td>\n",
       "      <td>&lt;10</td>\n",
       "      <td>&lt;10</td>\n",
       "      <td>128</td>\n",
       "      <td>5.708080e+06</td>\n",
       "      <td>4850.0</td>\n",
       "      <td>3570862.0</td>\n",
       "      <td>3183315.0</td>\n",
       "    </tr>\n",
       "  </tbody>\n",
       "</table>\n",
       "<p>5 rows × 33 columns</p>\n",
       "</div>"
      ],
      "text/plain": [
       "  school_sector  school_code                     school_name  \\\n",
       "0          DCPS          202         Aiton Elementary School   \n",
       "1          DCPS          203  Amidon-Bowen Elementary School   \n",
       "2          DCPS          450           Anacostia High School   \n",
       "3          DCPS          452              Ballou High School   \n",
       "4          DCPS          462                     Ballou STAY   \n",
       "\n",
       "  school_grade_range  school_enrollment_SY1819  school_star_score_SY1819  \\\n",
       "0            PK3-5th                     244.0                     10.79   \n",
       "1            PK3-5th                     339.0                     48.54   \n",
       "2           9th-12th                     296.0                      3.68   \n",
       "3           9th-12th                     650.0                      4.83   \n",
       "4              Adult                     524.0                       NaN   \n",
       "\n",
       "   school_star_rating_SY1819  school_capacity_SY1819  \\\n",
       "0                        1.0                   529.0   \n",
       "1                        3.0                   400.0   \n",
       "2                        1.0                   837.0   \n",
       "3                        1.0                     NaN   \n",
       "4                        NaN                     NaN   \n",
       "\n",
       "   school_unfilled_seats_SY1819  school_latitude  ...  \\\n",
       "0                         285.0        38.897002  ...   \n",
       "1                          61.0        38.879515  ...   \n",
       "2                         541.0        38.870084  ...   \n",
       "3                           NaN        38.838512  ...   \n",
       "4                           NaN        38.838512  ...   \n",
       "\n",
       "   attnd_absence_20+_SY1819 attnd_count_truancy_aged_students_SY1718  \\\n",
       "0                        21                                    190.0   \n",
       "1                        10                                    309.0   \n",
       "2                       221                                    396.0   \n",
       "3                       518                                    933.0   \n",
       "4                       147                                    138.0   \n",
       "\n",
       "  attnd_absence_1-5_SY1718 attnd_absence_6-10_SY1718  \\\n",
       "0                       74                        58   \n",
       "1                      149                        98   \n",
       "2                       31                        40   \n",
       "3                       53                       102   \n",
       "4                      <10                       <10   \n",
       "\n",
       "   attnd_absence_11-20_SY1718  attnd_absence_20+_SY1718  \\\n",
       "0                          33                        12   \n",
       "1                          36                        12   \n",
       "2                          59                       262   \n",
       "3                         207                       556   \n",
       "4                         <10                       128   \n",
       "\n",
       "   school_budgeted_amount_FY16  school_budgeted_enrollment_FY16  \\\n",
       "0                 7.429920e+06                           2650.0   \n",
       "1                 8.979878e+06                           3660.0   \n",
       "2                 1.853702e+07                           6360.0   \n",
       "3                 2.187321e+07                           8180.0   \n",
       "4                 5.708080e+06                           4850.0   \n",
       "\n",
       "   school_budgeted_amount_FY17 school_budgeted_enrollment_FY17  \n",
       "0                    3780814.0                       2499672.0  \n",
       "1                    4533018.0                       3020358.0  \n",
       "2                    9238855.0                       4694247.0  \n",
       "3                   12748461.0                       6860942.0  \n",
       "4                    3570862.0                       3183315.0  \n",
       "\n",
       "[5 rows x 33 columns]"
      ]
     },
     "execution_count": 4,
     "metadata": {},
     "output_type": "execute_result"
    }
   ],
   "source": [
    "data.head()"
   ]
  },
  {
   "cell_type": "markdown",
   "metadata": {},
   "source": [
    "<br>\n",
    "\n",
    "### Generate capacity percent filled of school SY1819"
   ]
  },
  {
   "cell_type": "code",
   "execution_count": 5,
   "metadata": {},
   "outputs": [],
   "source": [
    "data['school_capacity_pct_SY1819']=data['school_enrollment_SY1819']/data['school_capacity_SY1819']"
   ]
  },
  {
   "cell_type": "markdown",
   "metadata": {},
   "source": [
    "<br>\n",
    "\n",
    "### Generate capacity percent filled of school SY1718"
   ]
  },
  {
   "cell_type": "code",
   "execution_count": 6,
   "metadata": {},
   "outputs": [],
   "source": [
    "data['school_capacity_pct_SY1718']=data['school_enrollment_SY1718']/data['school_capacity_SY1718']"
   ]
  },
  {
   "cell_type": "markdown",
   "metadata": {},
   "source": [
    "<br>\n",
    "\n",
    "### Cast student absence count of <10 to 5 across dataframe"
   ]
  },
  {
   "cell_type": "code",
   "execution_count": 7,
   "metadata": {},
   "outputs": [],
   "source": [
    "# Decision: values of <10 were reassigned as 5\n",
    "data.replace(to_replace='n<10',value=5, inplace=True)\n",
    "data.replace(to_replace='<10',value=5, inplace=True)"
   ]
  },
  {
   "cell_type": "markdown",
   "metadata": {},
   "source": [
    "<br>\n",
    "\n",
    "### Generate count of students with absences SY1819"
   ]
  },
  {
   "cell_type": "code",
   "execution_count": 8,
   "metadata": {},
   "outputs": [],
   "source": [
    "data[['attnd_absence_1-5_SY1819','attnd_absence_6-10_SY1819','attnd_absence_11-20_SY1819','attnd_absence_20+_SY1819']] = data[['attnd_absence_1-5_SY1819','attnd_absence_6-10_SY1819','attnd_absence_11-20_SY1819','attnd_absence_20+_SY1819']].apply(pd.to_numeric) "
   ]
  },
  {
   "cell_type": "code",
   "execution_count": 9,
   "metadata": {},
   "outputs": [],
   "source": [
    "data['students_with_absences_SY1819'] = data['attnd_absence_1-5_SY1819'] + data['attnd_absence_6-10_SY1819'] + data['attnd_absence_11-20_SY1819'] + data['attnd_absence_20+_SY1819']"
   ]
  },
  {
   "cell_type": "markdown",
   "metadata": {},
   "source": [
    "<br>\n",
    "\n",
    "### Generate count of students with absences SY1718"
   ]
  },
  {
   "cell_type": "code",
   "execution_count": 10,
   "metadata": {},
   "outputs": [],
   "source": [
    "data[['attnd_absence_1-5_SY1718','attnd_absence_6-10_SY1718','attnd_absence_11-20_SY1718','attnd_absence_20+_SY1718']] = data[['attnd_absence_1-5_SY1718','attnd_absence_6-10_SY1718','attnd_absence_11-20_SY1718','attnd_absence_20+_SY1718']].apply(pd.to_numeric) \n"
   ]
  },
  {
   "cell_type": "code",
   "execution_count": 11,
   "metadata": {},
   "outputs": [],
   "source": [
    "data['students_with_absences_SY1718'] = data['attnd_absence_1-5_SY1718'] + data['attnd_absence_6-10_SY1718'] + data['attnd_absence_11-20_SY1718'] + data['attnd_absence_20+_SY1718']"
   ]
  },
  {
   "cell_type": "markdown",
   "metadata": {},
   "source": [
    "<br>\n",
    "\n",
    "### Generate percent of students with absences in a category against all students with absences SY1819"
   ]
  },
  {
   "cell_type": "code",
   "execution_count": 12,
   "metadata": {},
   "outputs": [],
   "source": [
    "data['pct_of_absences_1-5_SY1819'] = data['attnd_absence_1-5_SY1819']/data['students_with_absences_SY1819']"
   ]
  },
  {
   "cell_type": "code",
   "execution_count": 14,
   "metadata": {},
   "outputs": [],
   "source": [
    "data['pct_of_absences_6-10_SY1819'] = data['attnd_absence_6-10_SY1819']/data['students_with_absences_SY1819']"
   ]
  },
  {
   "cell_type": "code",
   "execution_count": 16,
   "metadata": {},
   "outputs": [],
   "source": [
    "data['pct_of_absences_11-20_SY1819'] = data['attnd_absence_11-20_SY1819']/data['students_with_absences_SY1819']"
   ]
  },
  {
   "cell_type": "code",
   "execution_count": 18,
   "metadata": {},
   "outputs": [],
   "source": [
    "data['pct_of_absences_20+_SY1819'] = data['attnd_absence_20+_SY1819']/data['students_with_absences_SY1819']"
   ]
  },
  {
   "cell_type": "markdown",
   "metadata": {},
   "source": [
    "<br>\n",
    "\n",
    "### Generate percent of students with absences in a category against all students enrolled SY1819"
   ]
  },
  {
   "cell_type": "code",
   "execution_count": 13,
   "metadata": {},
   "outputs": [],
   "source": [
    "data['pct_of_student_absences_1-5_SY1819'] = data['attnd_absence_1-5_SY1819']/data['school_enrollment_SY1819']"
   ]
  },
  {
   "cell_type": "code",
   "execution_count": 15,
   "metadata": {},
   "outputs": [],
   "source": [
    "data['pct_of_student_absences_6-10_SY1819'] = data['attnd_absence_6-10_SY1819']/data['school_enrollment_SY1819']"
   ]
  },
  {
   "cell_type": "code",
   "execution_count": 17,
   "metadata": {},
   "outputs": [],
   "source": [
    "data['pct_of_student_absences_11-20_SY1819'] = data['attnd_absence_11-20_SY1819']/data['school_enrollment_SY1819']"
   ]
  },
  {
   "cell_type": "code",
   "execution_count": 19,
   "metadata": {},
   "outputs": [],
   "source": [
    "data['pct_of_student_absences_20+_SY1819'] = data['attnd_absence_20+_SY1819']/data['school_enrollment_SY1819']"
   ]
  },
  {
   "cell_type": "markdown",
   "metadata": {},
   "source": [
    "<br>\n",
    "\n",
    "### Generate percent of students with absences in a category against all students with absences SY1718"
   ]
  },
  {
   "cell_type": "code",
   "execution_count": 22,
   "metadata": {},
   "outputs": [],
   "source": [
    "data['pct_of_absences_1-5_SY1718'] = data['attnd_absence_1-5_SY1718']/data['students_with_absences_SY1718']"
   ]
  },
  {
   "cell_type": "code",
   "execution_count": 23,
   "metadata": {},
   "outputs": [],
   "source": [
    "data['pct_of_absences_6-10_SY1718'] = data['attnd_absence_6-10_SY1718']/data['students_with_absences_SY1718']"
   ]
  },
  {
   "cell_type": "code",
   "execution_count": 24,
   "metadata": {},
   "outputs": [],
   "source": [
    "data['pct_of_absences_11-20_SY1718'] = data['attnd_absence_11-20_SY1718']/data['students_with_absences_SY1718']"
   ]
  },
  {
   "cell_type": "code",
   "execution_count": 25,
   "metadata": {},
   "outputs": [],
   "source": [
    "data['pct_of_absences_20+_SY1718'] = data['attnd_absence_20+_SY1718']/data['students_with_absences_SY1718']"
   ]
  },
  {
   "cell_type": "markdown",
   "metadata": {},
   "source": [
    "<br>\n",
    "\n",
    "### Generate percent of students with absences in a category against all students enrolled SY1718"
   ]
  },
  {
   "cell_type": "code",
   "execution_count": 26,
   "metadata": {},
   "outputs": [],
   "source": [
    "data['pct_of_student_absences_1-5_SY1718'] = data['attnd_absence_1-5_SY1718']/data['school_enrollment_SY1718']"
   ]
  },
  {
   "cell_type": "code",
   "execution_count": 27,
   "metadata": {},
   "outputs": [],
   "source": [
    "data['pct_of_student_absences_6-10_SY1718'] = data['attnd_absence_6-10_SY1718']/data['school_enrollment_SY1718']"
   ]
  },
  {
   "cell_type": "code",
   "execution_count": 28,
   "metadata": {},
   "outputs": [],
   "source": [
    "data['pct_of_student_absences_11-20_SY1718'] = data['attnd_absence_11-20_SY1718']/data['school_enrollment_SY1718']"
   ]
  },
  {
   "cell_type": "code",
   "execution_count": 29,
   "metadata": {},
   "outputs": [],
   "source": [
    "data['pct_of_student_absences_20+_SY1718'] = data['attnd_absence_20+_SY1718']/data['school_enrollment_SY1718']"
   ]
  },
  {
   "cell_type": "code",
   "execution_count": null,
   "metadata": {},
   "outputs": [],
   "source": []
  },
  {
   "cell_type": "code",
   "execution_count": null,
   "metadata": {},
   "outputs": [],
   "source": []
  },
  {
   "cell_type": "code",
   "execution_count": null,
   "metadata": {},
   "outputs": [],
   "source": []
  },
  {
   "cell_type": "code",
   "execution_count": 30,
   "metadata": {},
   "outputs": [
    {
     "data": {
      "text/html": [
       "<div>\n",
       "<style scoped>\n",
       "    .dataframe tbody tr th:only-of-type {\n",
       "        vertical-align: middle;\n",
       "    }\n",
       "\n",
       "    .dataframe tbody tr th {\n",
       "        vertical-align: top;\n",
       "    }\n",
       "\n",
       "    .dataframe thead th {\n",
       "        text-align: right;\n",
       "    }\n",
       "</style>\n",
       "<table border=\"1\" class=\"dataframe\">\n",
       "  <thead>\n",
       "    <tr style=\"text-align: right;\">\n",
       "      <th></th>\n",
       "      <th>school_sector</th>\n",
       "      <th>school_code</th>\n",
       "      <th>school_name</th>\n",
       "      <th>school_grade_range</th>\n",
       "      <th>school_enrollment_SY1819</th>\n",
       "      <th>school_star_score_SY1819</th>\n",
       "      <th>school_star_rating_SY1819</th>\n",
       "      <th>school_capacity_SY1819</th>\n",
       "      <th>school_unfilled_seats_SY1819</th>\n",
       "      <th>school_latitude</th>\n",
       "      <th>...</th>\n",
       "      <th>pct_of_absences_20+_SY1819</th>\n",
       "      <th>pct_of_student_absences_20+_SY1819</th>\n",
       "      <th>pct_of_absences_1-5_SY1718</th>\n",
       "      <th>pct_of_absences_6-10_SY1718</th>\n",
       "      <th>pct_of_absences_11-20_SY1718</th>\n",
       "      <th>pct_of_absences_20+_SY1718</th>\n",
       "      <th>pct_of_student_absences_1-5_SY1718</th>\n",
       "      <th>pct_of_student_absences_6-10_SY1718</th>\n",
       "      <th>pct_of_student_absences_11-20_SY1718</th>\n",
       "      <th>pct_of_student_absences_20+_SY1718</th>\n",
       "    </tr>\n",
       "  </thead>\n",
       "  <tbody>\n",
       "    <tr>\n",
       "      <th>0</th>\n",
       "      <td>DCPS</td>\n",
       "      <td>202</td>\n",
       "      <td>Aiton Elementary School</td>\n",
       "      <td>PK3-5th</td>\n",
       "      <td>244.0</td>\n",
       "      <td>10.79</td>\n",
       "      <td>1.0</td>\n",
       "      <td>529.0</td>\n",
       "      <td>285.0</td>\n",
       "      <td>38.897002</td>\n",
       "      <td>...</td>\n",
       "      <td>0.113514</td>\n",
       "      <td>0.086066</td>\n",
       "      <td>0.418079</td>\n",
       "      <td>0.327684</td>\n",
       "      <td>0.186441</td>\n",
       "      <td>0.067797</td>\n",
       "      <td>0.304527</td>\n",
       "      <td>0.238683</td>\n",
       "      <td>0.135802</td>\n",
       "      <td>0.049383</td>\n",
       "    </tr>\n",
       "    <tr>\n",
       "      <th>1</th>\n",
       "      <td>DCPS</td>\n",
       "      <td>203</td>\n",
       "      <td>Amidon-Bowen Elementary School</td>\n",
       "      <td>PK3-5th</td>\n",
       "      <td>339.0</td>\n",
       "      <td>48.54</td>\n",
       "      <td>3.0</td>\n",
       "      <td>400.0</td>\n",
       "      <td>61.0</td>\n",
       "      <td>38.879515</td>\n",
       "      <td>...</td>\n",
       "      <td>0.037453</td>\n",
       "      <td>0.029499</td>\n",
       "      <td>0.505085</td>\n",
       "      <td>0.332203</td>\n",
       "      <td>0.122034</td>\n",
       "      <td>0.040678</td>\n",
       "      <td>0.424501</td>\n",
       "      <td>0.279202</td>\n",
       "      <td>0.102564</td>\n",
       "      <td>0.034188</td>\n",
       "    </tr>\n",
       "    <tr>\n",
       "      <th>2</th>\n",
       "      <td>DCPS</td>\n",
       "      <td>450</td>\n",
       "      <td>Anacostia High School</td>\n",
       "      <td>9th-12th</td>\n",
       "      <td>296.0</td>\n",
       "      <td>3.68</td>\n",
       "      <td>1.0</td>\n",
       "      <td>837.0</td>\n",
       "      <td>541.0</td>\n",
       "      <td>38.870084</td>\n",
       "      <td>...</td>\n",
       "      <td>0.653846</td>\n",
       "      <td>0.746622</td>\n",
       "      <td>0.079082</td>\n",
       "      <td>0.102041</td>\n",
       "      <td>0.150510</td>\n",
       "      <td>0.668367</td>\n",
       "      <td>0.081794</td>\n",
       "      <td>0.105541</td>\n",
       "      <td>0.155673</td>\n",
       "      <td>0.691293</td>\n",
       "    </tr>\n",
       "    <tr>\n",
       "      <th>3</th>\n",
       "      <td>DCPS</td>\n",
       "      <td>452</td>\n",
       "      <td>Ballou High School</td>\n",
       "      <td>9th-12th</td>\n",
       "      <td>650.0</td>\n",
       "      <td>4.83</td>\n",
       "      <td>1.0</td>\n",
       "      <td>NaN</td>\n",
       "      <td>NaN</td>\n",
       "      <td>38.838512</td>\n",
       "      <td>...</td>\n",
       "      <td>0.764012</td>\n",
       "      <td>0.796923</td>\n",
       "      <td>0.057734</td>\n",
       "      <td>0.111111</td>\n",
       "      <td>0.225490</td>\n",
       "      <td>0.605664</td>\n",
       "      <td>0.060227</td>\n",
       "      <td>0.115909</td>\n",
       "      <td>0.235227</td>\n",
       "      <td>0.631818</td>\n",
       "    </tr>\n",
       "    <tr>\n",
       "      <th>4</th>\n",
       "      <td>DCPS</td>\n",
       "      <td>462</td>\n",
       "      <td>Ballou STAY</td>\n",
       "      <td>Adult</td>\n",
       "      <td>524.0</td>\n",
       "      <td>NaN</td>\n",
       "      <td>NaN</td>\n",
       "      <td>NaN</td>\n",
       "      <td>NaN</td>\n",
       "      <td>38.838512</td>\n",
       "      <td>...</td>\n",
       "      <td>0.880240</td>\n",
       "      <td>0.280534</td>\n",
       "      <td>0.034965</td>\n",
       "      <td>0.034965</td>\n",
       "      <td>0.034965</td>\n",
       "      <td>0.895105</td>\n",
       "      <td>0.010101</td>\n",
       "      <td>0.010101</td>\n",
       "      <td>0.010101</td>\n",
       "      <td>0.258586</td>\n",
       "    </tr>\n",
       "  </tbody>\n",
       "</table>\n",
       "<p>5 rows × 53 columns</p>\n",
       "</div>"
      ],
      "text/plain": [
       "  school_sector  school_code                     school_name  \\\n",
       "0          DCPS          202         Aiton Elementary School   \n",
       "1          DCPS          203  Amidon-Bowen Elementary School   \n",
       "2          DCPS          450           Anacostia High School   \n",
       "3          DCPS          452              Ballou High School   \n",
       "4          DCPS          462                     Ballou STAY   \n",
       "\n",
       "  school_grade_range  school_enrollment_SY1819  school_star_score_SY1819  \\\n",
       "0            PK3-5th                     244.0                     10.79   \n",
       "1            PK3-5th                     339.0                     48.54   \n",
       "2           9th-12th                     296.0                      3.68   \n",
       "3           9th-12th                     650.0                      4.83   \n",
       "4              Adult                     524.0                       NaN   \n",
       "\n",
       "   school_star_rating_SY1819  school_capacity_SY1819  \\\n",
       "0                        1.0                   529.0   \n",
       "1                        3.0                   400.0   \n",
       "2                        1.0                   837.0   \n",
       "3                        1.0                     NaN   \n",
       "4                        NaN                     NaN   \n",
       "\n",
       "   school_unfilled_seats_SY1819  school_latitude  ...  \\\n",
       "0                         285.0        38.897002  ...   \n",
       "1                          61.0        38.879515  ...   \n",
       "2                         541.0        38.870084  ...   \n",
       "3                           NaN        38.838512  ...   \n",
       "4                           NaN        38.838512  ...   \n",
       "\n",
       "   pct_of_absences_20+_SY1819 pct_of_student_absences_20+_SY1819  \\\n",
       "0                    0.113514                           0.086066   \n",
       "1                    0.037453                           0.029499   \n",
       "2                    0.653846                           0.746622   \n",
       "3                    0.764012                           0.796923   \n",
       "4                    0.880240                           0.280534   \n",
       "\n",
       "  pct_of_absences_1-5_SY1718 pct_of_absences_6-10_SY1718  \\\n",
       "0                   0.418079                    0.327684   \n",
       "1                   0.505085                    0.332203   \n",
       "2                   0.079082                    0.102041   \n",
       "3                   0.057734                    0.111111   \n",
       "4                   0.034965                    0.034965   \n",
       "\n",
       "   pct_of_absences_11-20_SY1718  pct_of_absences_20+_SY1718  \\\n",
       "0                      0.186441                    0.067797   \n",
       "1                      0.122034                    0.040678   \n",
       "2                      0.150510                    0.668367   \n",
       "3                      0.225490                    0.605664   \n",
       "4                      0.034965                    0.895105   \n",
       "\n",
       "   pct_of_student_absences_1-5_SY1718  pct_of_student_absences_6-10_SY1718  \\\n",
       "0                            0.304527                             0.238683   \n",
       "1                            0.424501                             0.279202   \n",
       "2                            0.081794                             0.105541   \n",
       "3                            0.060227                             0.115909   \n",
       "4                            0.010101                             0.010101   \n",
       "\n",
       "   pct_of_student_absences_11-20_SY1718 pct_of_student_absences_20+_SY1718  \n",
       "0                              0.135802                           0.049383  \n",
       "1                              0.102564                           0.034188  \n",
       "2                              0.155673                           0.691293  \n",
       "3                              0.235227                           0.631818  \n",
       "4                              0.010101                           0.258586  \n",
       "\n",
       "[5 rows x 53 columns]"
      ]
     },
     "execution_count": 30,
     "metadata": {},
     "output_type": "execute_result"
    }
   ],
   "source": [
    "data.head()"
   ]
  },
  {
   "cell_type": "code",
   "execution_count": 31,
   "metadata": {},
   "outputs": [
    {
     "data": {
      "text/plain": [
       "Index(['attnd_absence_1-5_SY1718', 'attnd_absence_1-5_SY1819',\n",
       "       'attnd_absence_11-20_SY1718', 'attnd_absence_11-20_SY1819',\n",
       "       'attnd_absence_20+_SY1718', 'attnd_absence_20+_SY1819',\n",
       "       'attnd_absence_6-10_SY1718', 'attnd_absence_6-10_SY1819',\n",
       "       'attnd_count_truancy_aged_students_SY1718',\n",
       "       'attnd_count_truancy_aged_students_SY1819',\n",
       "       'pct_of_absences_1-5_SY1718', 'pct_of_absences_1-5_SY1819',\n",
       "       'pct_of_absences_11-20_SY1718', 'pct_of_absences_11-20_SY1819',\n",
       "       'pct_of_absences_20+_SY1718', 'pct_of_absences_20+_SY1819',\n",
       "       'pct_of_absences_6-10_SY1718', 'pct_of_absences_6-10_SY1819',\n",
       "       'pct_of_student_absences_1-5_SY1718',\n",
       "       'pct_of_student_absences_1-5_SY1819',\n",
       "       'pct_of_student_absences_11-20_SY1718',\n",
       "       'pct_of_student_absences_11-20_SY1819',\n",
       "       'pct_of_student_absences_20+_SY1718',\n",
       "       'pct_of_student_absences_20+_SY1819',\n",
       "       'pct_of_student_absences_6-10_SY1718',\n",
       "       'pct_of_student_absences_6-10_SY1819', 'school_budgeted_amount_FY16',\n",
       "       'school_budgeted_amount_FY17', 'school_budgeted_enrollment_FY16',\n",
       "       'school_budgeted_enrollment_FY17', 'school_capacity_SY1718',\n",
       "       'school_capacity_SY1819', 'school_capacity_pct_SY1718',\n",
       "       'school_capacity_pct_SY1819', 'school_cluster', 'school_code',\n",
       "       'school_enrollment_SY1718', 'school_enrollment_SY1819',\n",
       "       'school_grade_band', 'school_grade_range', 'school_latitude',\n",
       "       'school_longitude', 'school_name', 'school_sector',\n",
       "       'school_star_rating_SY1718', 'school_star_rating_SY1819',\n",
       "       'school_star_score_SY1718', 'school_star_score_SY1819',\n",
       "       'school_unfilled_seats_SY1718', 'school_unfilled_seats_SY1819',\n",
       "       'school_ward', 'students_with_absences_SY1718',\n",
       "       'students_with_absences_SY1819'],\n",
       "      dtype='object')"
      ]
     },
     "execution_count": 31,
     "metadata": {},
     "output_type": "execute_result"
    }
   ],
   "source": [
    "data.columns.sort_values()"
   ]
  },
  {
   "cell_type": "code",
   "execution_count": 32,
   "metadata": {},
   "outputs": [],
   "source": [
    "data.to_csv('../data/cleaned/school_df_v3.csv', index=False)"
   ]
  },
  {
   "cell_type": "code",
   "execution_count": null,
   "metadata": {},
   "outputs": [],
   "source": []
  }
 ],
 "metadata": {
  "kernelspec": {
   "display_name": "Python 3",
   "language": "python",
   "name": "python3"
  },
  "language_info": {
   "codemirror_mode": {
    "name": "ipython",
    "version": 3
   },
   "file_extension": ".py",
   "mimetype": "text/x-python",
   "name": "python",
   "nbconvert_exporter": "python",
   "pygments_lexer": "ipython3",
   "version": "3.8.5"
  }
 },
 "nbformat": 4,
 "nbformat_minor": 4
}
