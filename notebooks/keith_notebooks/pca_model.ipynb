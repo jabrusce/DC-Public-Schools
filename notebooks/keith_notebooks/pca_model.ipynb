{
 "cells": [
  {
   "cell_type": "code",
   "execution_count": 86,
   "id": "designing-congress",
   "metadata": {},
   "outputs": [
    {
     "name": "stdout",
     "output_type": "stream",
     "text": [
      "Collecting seaborn\n",
      "  Using cached seaborn-0.11.1-py3-none-any.whl (285 kB)\n",
      "Requirement already satisfied: matplotlib>=2.2 in /Users/Keith/miniconda3/envs/sql/lib/python3.8/site-packages (from seaborn) (3.3.4)\n",
      "Requirement already satisfied: pandas>=0.23 in /Users/Keith/miniconda3/envs/sql/lib/python3.8/site-packages (from seaborn) (1.2.1)\n",
      "Requirement already satisfied: numpy>=1.15 in /Users/Keith/miniconda3/envs/sql/lib/python3.8/site-packages (from seaborn) (1.19.2)\n",
      "Requirement already satisfied: python-dateutil>=2.1 in /Users/Keith/miniconda3/envs/sql/lib/python3.8/site-packages (from matplotlib>=2.2->seaborn) (2.8.1)\n",
      "Requirement already satisfied: kiwisolver>=1.0.1 in /Users/Keith/miniconda3/envs/sql/lib/python3.8/site-packages (from matplotlib>=2.2->seaborn) (1.3.1)\n",
      "Requirement already satisfied: pyparsing!=2.0.4,!=2.1.2,!=2.1.6,>=2.0.3 in /Users/Keith/miniconda3/envs/sql/lib/python3.8/site-packages (from matplotlib>=2.2->seaborn) (2.4.7)\n",
      "Requirement already satisfied: cycler>=0.10 in /Users/Keith/miniconda3/envs/sql/lib/python3.8/site-packages (from matplotlib>=2.2->seaborn) (0.10.0)\n",
      "Requirement already satisfied: pillow>=6.2.0 in /Users/Keith/miniconda3/envs/sql/lib/python3.8/site-packages (from matplotlib>=2.2->seaborn) (8.1.0)\n",
      "Requirement already satisfied: six in /Users/Keith/miniconda3/envs/sql/lib/python3.8/site-packages (from cycler>=0.10->matplotlib>=2.2->seaborn) (1.15.0)\n",
      "Requirement already satisfied: pytz>=2017.3 in /Users/Keith/miniconda3/envs/sql/lib/python3.8/site-packages (from pandas>=0.23->seaborn) (2021.1)\n",
      "Collecting scipy>=1.0\n",
      "  Using cached scipy-1.6.0-cp38-cp38-macosx_10_9_x86_64.whl (30.7 MB)\n",
      "Installing collected packages: scipy, seaborn\n",
      "Successfully installed scipy-1.6.0 seaborn-0.11.1\n",
      "Note: you may need to restart the kernel to use updated packages.\n"
     ]
    }
   ],
   "source": [
    "#pip install seaborn"
   ]
  },
  {
   "cell_type": "code",
   "execution_count": 90,
   "id": "private-drink",
   "metadata": {},
   "outputs": [
    {
     "name": "stdout",
     "output_type": "stream",
     "text": [
      "Collecting sklearn\n",
      "  Using cached sklearn-0.0-py2.py3-none-any.whl\n",
      "Collecting scikit-learn\n",
      "  Using cached scikit_learn-0.24.1-cp38-cp38-macosx_10_13_x86_64.whl (7.2 MB)\n",
      "Requirement already satisfied: numpy>=1.13.3 in /Users/Keith/miniconda3/envs/sql/lib/python3.8/site-packages (from scikit-learn->sklearn) (1.19.2)\n",
      "Requirement already satisfied: scipy>=0.19.1 in /Users/Keith/miniconda3/envs/sql/lib/python3.8/site-packages (from scikit-learn->sklearn) (1.6.0)\n",
      "Collecting joblib>=0.11\n",
      "  Using cached joblib-1.0.0-py3-none-any.whl (302 kB)\n",
      "Collecting threadpoolctl>=2.0.0\n",
      "  Using cached threadpoolctl-2.1.0-py3-none-any.whl (12 kB)\n",
      "Installing collected packages: threadpoolctl, joblib, scikit-learn, sklearn\n",
      "Successfully installed joblib-1.0.0 scikit-learn-0.24.1 sklearn-0.0 threadpoolctl-2.1.0\n",
      "Note: you may need to restart the kernel to use updated packages.\n"
     ]
    }
   ],
   "source": [
    "#pip install sklearn"
   ]
  },
  {
   "cell_type": "code",
   "execution_count": 146,
   "id": "passing-snapshot",
   "metadata": {},
   "outputs": [],
   "source": [
    "import pandas as pd\n",
    "import numpy as np\n",
    "import matplotlib.pyplot as plt\n",
    "import seaborn as sns\n",
    "from sklearn.model_selection import train_test_split\n",
    "from sklearn.decomposition import PCA\n",
    "from sklearn.preprocessing import StandardScaler, OneHotEncoder\n",
    "from sklearn.linear_model import LinearRegression"
   ]
  },
  {
   "cell_type": "code",
   "execution_count": 2,
   "id": "related-graph",
   "metadata": {},
   "outputs": [],
   "source": [
    "schools_df = pd.read_csv('../data/school_df_v3.csv')"
   ]
  },
  {
   "cell_type": "code",
   "execution_count": 37,
   "id": "civilian-standard",
   "metadata": {},
   "outputs": [
    {
     "name": "stdout",
     "output_type": "stream",
     "text": [
      "<class 'pandas.core.frame.DataFrame'>\n",
      "RangeIndex: 116 entries, 0 to 115\n",
      "Data columns (total 53 columns):\n",
      " #   Column                                    Non-Null Count  Dtype  \n",
      "---  ------                                    --------------  -----  \n",
      " 0   school_sector                             116 non-null    object \n",
      " 1   school_code                               116 non-null    int64  \n",
      " 2   school_name                               116 non-null    object \n",
      " 3   school_grade_range                        116 non-null    object \n",
      " 4   school_enrollment_SY1819                  116 non-null    float64\n",
      " 5   school_star_score_SY1819                  109 non-null    float64\n",
      " 6   school_star_rating_SY1819                 109 non-null    float64\n",
      " 7   school_capacity_SY1819                    108 non-null    float64\n",
      " 8   school_unfilled_seats_SY1819              108 non-null    float64\n",
      " 9   school_latitude                           116 non-null    float64\n",
      " 10  school_longitude                          116 non-null    float64\n",
      " 11  school_cluster                            116 non-null    object \n",
      " 12  school_ward                               116 non-null    object \n",
      " 13  school_grade_band                         112 non-null    object \n",
      " 14  school_enrollment_SY1718                  115 non-null    float64\n",
      " 15  school_star_score_SY1718                  108 non-null    float64\n",
      " 16  school_star_rating_SY1718                 108 non-null    float64\n",
      " 17  school_capacity_SY1718                    107 non-null    float64\n",
      " 18  school_unfilled_seats_SY1718              107 non-null    float64\n",
      " 19  attnd_count_truancy_aged_students_SY1819  112 non-null    float64\n",
      " 20  attnd_absence_1-5_SY1819                  112 non-null    float64\n",
      " 21  attnd_absence_6-10_SY1819                 112 non-null    float64\n",
      " 22  attnd_absence_11-20_SY1819                112 non-null    float64\n",
      " 23  attnd_absence_20+_SY1819                  107 non-null    float64\n",
      " 24  attnd_count_truancy_aged_students_SY1718  112 non-null    float64\n",
      " 25  attnd_absence_1-5_SY1718                  112 non-null    float64\n",
      " 26  attnd_absence_6-10_SY1718                 112 non-null    float64\n",
      " 27  attnd_absence_11-20_SY1718                112 non-null    float64\n",
      " 28  attnd_absence_20+_SY1718                  112 non-null    float64\n",
      " 29  school_budgeted_amount_FY16               110 non-null    float64\n",
      " 30  school_budgeted_enrollment_FY16           110 non-null    float64\n",
      " 31  school_budgeted_amount_FY17               112 non-null    float64\n",
      " 32  school_budgeted_enrollment_FY17           112 non-null    float64\n",
      " 33  school_capacity_pct_SY1819                108 non-null    float64\n",
      " 34  school_capacity_pct_SY1718                107 non-null    float64\n",
      " 35  students_with_absences_SY1819             107 non-null    float64\n",
      " 36  students_with_absences_SY1718             112 non-null    float64\n",
      " 37  pct_of_absences_1-5_SY1819                107 non-null    float64\n",
      " 38  pct_of_student_absences_1-5_SY1819        112 non-null    float64\n",
      " 39  pct_of_absences_6-10_SY1819               107 non-null    float64\n",
      " 40  pct_of_student_absences_6-10_SY1819       112 non-null    float64\n",
      " 41  pct_of_absences_11-20_SY1819              107 non-null    float64\n",
      " 42  pct_of_student_absences_11-20_SY1819      112 non-null    float64\n",
      " 43  pct_of_absences_20+_SY1819                107 non-null    float64\n",
      " 44  pct_of_student_absences_20+_SY1819        107 non-null    float64\n",
      " 45  pct_of_absences_1-5_SY1718                112 non-null    float64\n",
      " 46  pct_of_absences_6-10_SY1718               112 non-null    float64\n",
      " 47  pct_of_absences_11-20_SY1718              112 non-null    float64\n",
      " 48  pct_of_absences_20+_SY1718                112 non-null    float64\n",
      " 49  pct_of_student_absences_1-5_SY1718        112 non-null    float64\n",
      " 50  pct_of_student_absences_6-10_SY1718       112 non-null    float64\n",
      " 51  pct_of_student_absences_11-20_SY1718      112 non-null    float64\n",
      " 52  pct_of_student_absences_20+_SY1718        112 non-null    float64\n",
      "dtypes: float64(46), int64(1), object(6)\n",
      "memory usage: 48.2+ KB\n"
     ]
    }
   ],
   "source": [
    "schools_df.info()"
   ]
  },
  {
   "cell_type": "code",
   "execution_count": 3,
   "id": "normal-wings",
   "metadata": {},
   "outputs": [
    {
     "data": {
      "text/html": [
       "<div>\n",
       "<style scoped>\n",
       "    .dataframe tbody tr th:only-of-type {\n",
       "        vertical-align: middle;\n",
       "    }\n",
       "\n",
       "    .dataframe tbody tr th {\n",
       "        vertical-align: top;\n",
       "    }\n",
       "\n",
       "    .dataframe thead th {\n",
       "        text-align: right;\n",
       "    }\n",
       "</style>\n",
       "<table border=\"1\" class=\"dataframe\">\n",
       "  <thead>\n",
       "    <tr style=\"text-align: right;\">\n",
       "      <th></th>\n",
       "      <th>school_sector</th>\n",
       "      <th>school_code</th>\n",
       "      <th>school_name</th>\n",
       "      <th>school_grade_range</th>\n",
       "      <th>school_enrollment_SY1819</th>\n",
       "      <th>school_star_score_SY1819</th>\n",
       "      <th>school_star_rating_SY1819</th>\n",
       "      <th>school_capacity_SY1819</th>\n",
       "      <th>school_unfilled_seats_SY1819</th>\n",
       "      <th>school_latitude</th>\n",
       "      <th>...</th>\n",
       "      <th>pct_of_absences_20+_SY1819</th>\n",
       "      <th>pct_of_student_absences_20+_SY1819</th>\n",
       "      <th>pct_of_absences_1-5_SY1718</th>\n",
       "      <th>pct_of_absences_6-10_SY1718</th>\n",
       "      <th>pct_of_absences_11-20_SY1718</th>\n",
       "      <th>pct_of_absences_20+_SY1718</th>\n",
       "      <th>pct_of_student_absences_1-5_SY1718</th>\n",
       "      <th>pct_of_student_absences_6-10_SY1718</th>\n",
       "      <th>pct_of_student_absences_11-20_SY1718</th>\n",
       "      <th>pct_of_student_absences_20+_SY1718</th>\n",
       "    </tr>\n",
       "  </thead>\n",
       "  <tbody>\n",
       "    <tr>\n",
       "      <th>0</th>\n",
       "      <td>DCPS</td>\n",
       "      <td>202</td>\n",
       "      <td>Aiton Elementary School</td>\n",
       "      <td>PK3-5th</td>\n",
       "      <td>244.0</td>\n",
       "      <td>10.79</td>\n",
       "      <td>1.0</td>\n",
       "      <td>529.0</td>\n",
       "      <td>285.0</td>\n",
       "      <td>38.897002</td>\n",
       "      <td>...</td>\n",
       "      <td>0.113514</td>\n",
       "      <td>0.086066</td>\n",
       "      <td>0.418079</td>\n",
       "      <td>0.327684</td>\n",
       "      <td>0.186441</td>\n",
       "      <td>0.067797</td>\n",
       "      <td>0.304527</td>\n",
       "      <td>0.238683</td>\n",
       "      <td>0.135802</td>\n",
       "      <td>0.049383</td>\n",
       "    </tr>\n",
       "    <tr>\n",
       "      <th>1</th>\n",
       "      <td>DCPS</td>\n",
       "      <td>203</td>\n",
       "      <td>Amidon-Bowen Elementary School</td>\n",
       "      <td>PK3-5th</td>\n",
       "      <td>339.0</td>\n",
       "      <td>48.54</td>\n",
       "      <td>3.0</td>\n",
       "      <td>400.0</td>\n",
       "      <td>61.0</td>\n",
       "      <td>38.879515</td>\n",
       "      <td>...</td>\n",
       "      <td>0.037453</td>\n",
       "      <td>0.029499</td>\n",
       "      <td>0.505085</td>\n",
       "      <td>0.332203</td>\n",
       "      <td>0.122034</td>\n",
       "      <td>0.040678</td>\n",
       "      <td>0.424501</td>\n",
       "      <td>0.279202</td>\n",
       "      <td>0.102564</td>\n",
       "      <td>0.034188</td>\n",
       "    </tr>\n",
       "    <tr>\n",
       "      <th>2</th>\n",
       "      <td>DCPS</td>\n",
       "      <td>450</td>\n",
       "      <td>Anacostia High School</td>\n",
       "      <td>9th-12th</td>\n",
       "      <td>296.0</td>\n",
       "      <td>3.68</td>\n",
       "      <td>1.0</td>\n",
       "      <td>837.0</td>\n",
       "      <td>541.0</td>\n",
       "      <td>38.870084</td>\n",
       "      <td>...</td>\n",
       "      <td>0.653846</td>\n",
       "      <td>0.746622</td>\n",
       "      <td>0.079082</td>\n",
       "      <td>0.102041</td>\n",
       "      <td>0.150510</td>\n",
       "      <td>0.668367</td>\n",
       "      <td>0.081794</td>\n",
       "      <td>0.105541</td>\n",
       "      <td>0.155673</td>\n",
       "      <td>0.691293</td>\n",
       "    </tr>\n",
       "    <tr>\n",
       "      <th>3</th>\n",
       "      <td>DCPS</td>\n",
       "      <td>452</td>\n",
       "      <td>Ballou High School</td>\n",
       "      <td>9th-12th</td>\n",
       "      <td>650.0</td>\n",
       "      <td>4.83</td>\n",
       "      <td>1.0</td>\n",
       "      <td>NaN</td>\n",
       "      <td>NaN</td>\n",
       "      <td>38.838512</td>\n",
       "      <td>...</td>\n",
       "      <td>0.764012</td>\n",
       "      <td>0.796923</td>\n",
       "      <td>0.057734</td>\n",
       "      <td>0.111111</td>\n",
       "      <td>0.225490</td>\n",
       "      <td>0.605664</td>\n",
       "      <td>0.060227</td>\n",
       "      <td>0.115909</td>\n",
       "      <td>0.235227</td>\n",
       "      <td>0.631818</td>\n",
       "    </tr>\n",
       "    <tr>\n",
       "      <th>4</th>\n",
       "      <td>DCPS</td>\n",
       "      <td>462</td>\n",
       "      <td>Ballou STAY</td>\n",
       "      <td>Adult</td>\n",
       "      <td>524.0</td>\n",
       "      <td>NaN</td>\n",
       "      <td>NaN</td>\n",
       "      <td>NaN</td>\n",
       "      <td>NaN</td>\n",
       "      <td>38.838512</td>\n",
       "      <td>...</td>\n",
       "      <td>0.880240</td>\n",
       "      <td>0.280534</td>\n",
       "      <td>0.034965</td>\n",
       "      <td>0.034965</td>\n",
       "      <td>0.034965</td>\n",
       "      <td>0.895105</td>\n",
       "      <td>0.010101</td>\n",
       "      <td>0.010101</td>\n",
       "      <td>0.010101</td>\n",
       "      <td>0.258586</td>\n",
       "    </tr>\n",
       "  </tbody>\n",
       "</table>\n",
       "<p>5 rows × 53 columns</p>\n",
       "</div>"
      ],
      "text/plain": [
       "  school_sector  school_code                     school_name  \\\n",
       "0          DCPS          202         Aiton Elementary School   \n",
       "1          DCPS          203  Amidon-Bowen Elementary School   \n",
       "2          DCPS          450           Anacostia High School   \n",
       "3          DCPS          452              Ballou High School   \n",
       "4          DCPS          462                     Ballou STAY   \n",
       "\n",
       "  school_grade_range  school_enrollment_SY1819  school_star_score_SY1819  \\\n",
       "0            PK3-5th                     244.0                     10.79   \n",
       "1            PK3-5th                     339.0                     48.54   \n",
       "2           9th-12th                     296.0                      3.68   \n",
       "3           9th-12th                     650.0                      4.83   \n",
       "4              Adult                     524.0                       NaN   \n",
       "\n",
       "   school_star_rating_SY1819  school_capacity_SY1819  \\\n",
       "0                        1.0                   529.0   \n",
       "1                        3.0                   400.0   \n",
       "2                        1.0                   837.0   \n",
       "3                        1.0                     NaN   \n",
       "4                        NaN                     NaN   \n",
       "\n",
       "   school_unfilled_seats_SY1819  school_latitude  ...  \\\n",
       "0                         285.0        38.897002  ...   \n",
       "1                          61.0        38.879515  ...   \n",
       "2                         541.0        38.870084  ...   \n",
       "3                           NaN        38.838512  ...   \n",
       "4                           NaN        38.838512  ...   \n",
       "\n",
       "   pct_of_absences_20+_SY1819 pct_of_student_absences_20+_SY1819  \\\n",
       "0                    0.113514                           0.086066   \n",
       "1                    0.037453                           0.029499   \n",
       "2                    0.653846                           0.746622   \n",
       "3                    0.764012                           0.796923   \n",
       "4                    0.880240                           0.280534   \n",
       "\n",
       "  pct_of_absences_1-5_SY1718 pct_of_absences_6-10_SY1718  \\\n",
       "0                   0.418079                    0.327684   \n",
       "1                   0.505085                    0.332203   \n",
       "2                   0.079082                    0.102041   \n",
       "3                   0.057734                    0.111111   \n",
       "4                   0.034965                    0.034965   \n",
       "\n",
       "   pct_of_absences_11-20_SY1718  pct_of_absences_20+_SY1718  \\\n",
       "0                      0.186441                    0.067797   \n",
       "1                      0.122034                    0.040678   \n",
       "2                      0.150510                    0.668367   \n",
       "3                      0.225490                    0.605664   \n",
       "4                      0.034965                    0.895105   \n",
       "\n",
       "   pct_of_student_absences_1-5_SY1718  pct_of_student_absences_6-10_SY1718  \\\n",
       "0                            0.304527                             0.238683   \n",
       "1                            0.424501                             0.279202   \n",
       "2                            0.081794                             0.105541   \n",
       "3                            0.060227                             0.115909   \n",
       "4                            0.010101                             0.010101   \n",
       "\n",
       "   pct_of_student_absences_11-20_SY1718  pct_of_student_absences_20+_SY1718  \n",
       "0                              0.135802                            0.049383  \n",
       "1                              0.102564                            0.034188  \n",
       "2                              0.155673                            0.691293  \n",
       "3                              0.235227                            0.631818  \n",
       "4                              0.010101                            0.258586  \n",
       "\n",
       "[5 rows x 53 columns]"
      ]
     },
     "execution_count": 3,
     "metadata": {},
     "output_type": "execute_result"
    }
   ],
   "source": [
    "schools_df.head()"
   ]
  },
  {
   "cell_type": "code",
   "execution_count": 12,
   "id": "ignored-conversion",
   "metadata": {},
   "outputs": [],
   "source": [
    "cluster_df = pd.read_csv('../data/cluster_student_counts.csv')"
   ]
  },
  {
   "cell_type": "code",
   "execution_count": 13,
   "id": "ranging-ranking",
   "metadata": {},
   "outputs": [
    {
     "name": "stdout",
     "output_type": "stream",
     "text": [
      "<class 'pandas.core.frame.DataFrame'>\n",
      "RangeIndex: 75 entries, 0 to 74\n",
      "Data columns (total 11 columns):\n",
      " #   Column                                                       Non-Null Count  Dtype  \n",
      "---  ------                                                       --------------  -----  \n",
      " 0   Neighborhood Cluster                                         75 non-null     object \n",
      " 1   Neighborhood Cluster Names                                   75 non-null     object \n",
      " 2   School Year_x                                                75 non-null     object \n",
      " 3   Count of English Learner Students                            75 non-null     object \n",
      " 4   English Learner Students as  share of Neighborhood Cluster   75 non-null     object \n",
      " 5   Count of At Risk Students                                    75 non-null     int64  \n",
      " 6   At Risk as share of Neighborhood Cluster                     75 non-null     float64\n",
      " 7   Count of Special Education Students                          75 non-null     object \n",
      " 8   Special Education Students as share of Neighborhood Cluster  75 non-null     object \n",
      " 9   Sum of Enrollment by Sector and Grade Band                   75 non-null     int64  \n",
      " 10  Sum of Total Enrollment (DCPS & PCS)                         75 non-null     int64  \n",
      "dtypes: float64(1), int64(3), object(7)\n",
      "memory usage: 6.6+ KB\n"
     ]
    }
   ],
   "source": [
    "cluster_df.info()"
   ]
  },
  {
   "cell_type": "code",
   "execution_count": 15,
   "id": "regulation-shift",
   "metadata": {},
   "outputs": [
    {
     "name": "stdout",
     "output_type": "stream",
     "text": [
      "<class 'pandas.core.frame.DataFrame'>\n",
      "Int64Index: 37 entries, 0 to 36\n",
      "Data columns (total 11 columns):\n",
      " #   Column                                                       Non-Null Count  Dtype  \n",
      "---  ------                                                       --------------  -----  \n",
      " 0   Neighborhood Cluster                                         37 non-null     object \n",
      " 1   Neighborhood Cluster Names                                   37 non-null     object \n",
      " 2   School Year_x                                                37 non-null     object \n",
      " 3   Count of English Learner Students                            37 non-null     object \n",
      " 4   English Learner Students as  share of Neighborhood Cluster   37 non-null     object \n",
      " 5   Count of At Risk Students                                    37 non-null     int64  \n",
      " 6   At Risk as share of Neighborhood Cluster                     37 non-null     float64\n",
      " 7   Count of Special Education Students                          37 non-null     object \n",
      " 8   Special Education Students as share of Neighborhood Cluster  37 non-null     object \n",
      " 9   Sum of Enrollment by Sector and Grade Band                   37 non-null     int64  \n",
      " 10  Sum of Total Enrollment (DCPS & PCS)                         37 non-null     int64  \n",
      "dtypes: float64(1), int64(3), object(7)\n",
      "memory usage: 3.5+ KB\n"
     ]
    }
   ],
   "source": [
    "cluster_1718 = cluster_df[cluster_df['School Year_x'] == 'SY17-18']\n",
    "cluster_1718.info()"
   ]
  },
  {
   "cell_type": "code",
   "execution_count": 24,
   "id": "skilled-heath",
   "metadata": {},
   "outputs": [
    {
     "name": "stderr",
     "output_type": "stream",
     "text": [
      "<ipython-input-24-0b93c793498e>:1: SettingWithCopyWarning: \n",
      "A value is trying to be set on a copy of a slice from a DataFrame.\n",
      "Try using .loc[row_indexer,col_indexer] = value instead\n",
      "\n",
      "See the caveats in the documentation: https://pandas.pydata.org/pandas-docs/stable/user_guide/indexing.html#returning-a-view-versus-a-copy\n",
      "  cluster_1718['cluster_num'] = np.nan\n",
      "<ipython-input-24-0b93c793498e>:3: SettingWithCopyWarning: \n",
      "A value is trying to be set on a copy of a slice from a DataFrame\n",
      "\n",
      "See the caveats in the documentation: https://pandas.pydata.org/pandas-docs/stable/user_guide/indexing.html#returning-a-view-versus-a-copy\n",
      "  cluster_1718['cluster_num'][i] = cluster_1718['Neighborhood Cluster'][i][-2:]\n",
      "/Users/Keith/miniconda3/envs/sql/lib/python3.8/site-packages/IPython/core/interactiveshell.py:3427: SettingWithCopyWarning: \n",
      "A value is trying to be set on a copy of a slice from a DataFrame\n",
      "\n",
      "See the caveats in the documentation: https://pandas.pydata.org/pandas-docs/stable/user_guide/indexing.html#returning-a-view-versus-a-copy\n",
      "  exec(code_obj, self.user_global_ns, self.user_ns)\n"
     ]
    },
    {
     "data": {
      "text/plain": [
       "0      1.0\n",
       "1     10.0\n",
       "2     11.0\n",
       "3     12.0\n",
       "4     13.0\n",
       "5     14.0\n",
       "6     15.0\n",
       "7     16.0\n",
       "8     17.0\n",
       "9     18.0\n",
       "10    19.0\n",
       "11     2.0\n",
       "12    20.0\n",
       "13    21.0\n",
       "14    22.0\n",
       "15    23.0\n",
       "16    24.0\n",
       "17    25.0\n",
       "18    26.0\n",
       "19    27.0\n",
       "20    28.0\n",
       "21     3.0\n",
       "22    30.0\n",
       "23    31.0\n",
       "24    32.0\n",
       "25    33.0\n",
       "26    34.0\n",
       "27    36.0\n",
       "28    37.0\n",
       "29    38.0\n",
       "30    39.0\n",
       "31     4.0\n",
       "32     5.0\n",
       "33     6.0\n",
       "34     7.0\n",
       "35     8.0\n",
       "36     9.0\n",
       "Name: cluster_num, dtype: float64"
      ]
     },
     "execution_count": 24,
     "metadata": {},
     "output_type": "execute_result"
    }
   ],
   "source": [
    "cluster_1718['cluster_num'] = np.nan\n",
    "for i in range(len(cluster_1718)):\n",
    "    cluster_1718['cluster_num'][i] = cluster_1718['Neighborhood Cluster'][i][-2:]\n",
    "cluster_1718['cluster_num']"
   ]
  },
  {
   "cell_type": "code",
   "execution_count": 41,
   "id": "novel-television",
   "metadata": {},
   "outputs": [
    {
     "data": {
      "text/plain": [
       "114    Cluster 31\n",
       "115    Cluster 23\n",
       "Name: school_cluster, dtype: object"
      ]
     },
     "execution_count": 41,
     "metadata": {},
     "output_type": "execute_result"
    }
   ],
   "source": [
    "schools_df['school_cluster'][-2:]"
   ]
  },
  {
   "cell_type": "code",
   "execution_count": 42,
   "id": "mounted-manufacturer",
   "metadata": {},
   "outputs": [
    {
     "data": {
      "text/plain": [
       "0      Cluster 1\n",
       "1     Cluster 10\n",
       "2     Cluster 11\n",
       "3     Cluster 12\n",
       "4     Cluster 13\n",
       "5     Cluster 14\n",
       "6     Cluster 15\n",
       "7     Cluster 16\n",
       "8     Cluster 17\n",
       "9     Cluster 18\n",
       "10    Cluster 19\n",
       "11     Cluster 2\n",
       "12    Cluster 20\n",
       "13    Cluster 21\n",
       "14    Cluster 22\n",
       "15    Cluster 23\n",
       "16    Cluster 24\n",
       "17    Cluster 25\n",
       "18    Cluster 26\n",
       "19    Cluster 27\n",
       "20    Cluster 28\n",
       "21     Cluster 3\n",
       "22    Cluster 30\n",
       "23    Cluster 31\n",
       "24    Cluster 32\n",
       "25    Cluster 33\n",
       "26    Cluster 34\n",
       "27    Cluster 36\n",
       "28    Cluster 37\n",
       "29    Cluster 38\n",
       "30    Cluster 39\n",
       "31     Cluster 4\n",
       "32     Cluster 5\n",
       "33     Cluster 6\n",
       "34     Cluster 7\n",
       "35     Cluster 8\n",
       "36     Cluster 9\n",
       "Name: Neighborhood Cluster, dtype: object"
      ]
     },
     "execution_count": 42,
     "metadata": {},
     "output_type": "execute_result"
    }
   ],
   "source": [
    "cluster_1718['Neighborhood Cluster']"
   ]
  },
  {
   "cell_type": "code",
   "execution_count": 46,
   "id": "funky-chest",
   "metadata": {},
   "outputs": [
    {
     "data": {
      "text/plain": [
       "school_sector                                                                             DCPS\n",
       "school_code                                                                                202\n",
       "school_name                                                            Aiton Elementary School\n",
       "school_grade_range                                                                     PK3-5th\n",
       "school_enrollment_SY1819                                                                 244.0\n",
       "school_star_score_SY1819                                                                 10.79\n",
       "school_star_rating_SY1819                                                                  1.0\n",
       "school_capacity_SY1819                                                                   529.0\n",
       "school_unfilled_seats_SY1819                                                             285.0\n",
       "school_latitude                                                                      38.897002\n",
       "school_longitude                                                                    -76.933701\n",
       "school_cluster                                                                      Cluster 31\n",
       "school_ward                                                                             Ward 7\n",
       "school_grade_band                                                                   Elementary\n",
       "school_enrollment_SY1718                                                                 243.0\n",
       "school_star_score_SY1718                                                                 43.85\n",
       "school_star_rating_SY1718                                                                  3.0\n",
       "school_capacity_SY1718                                                                   529.0\n",
       "school_unfilled_seats_SY1718                                                             286.0\n",
       "attnd_count_truancy_aged_students_SY1819                                                 190.0\n",
       "attnd_absence_1-5_SY1819                                                                  58.0\n",
       "attnd_absence_6-10_SY1819                                                                 61.0\n",
       "attnd_absence_11-20_SY1819                                                                45.0\n",
       "attnd_absence_20+_SY1819                                                                  21.0\n",
       "attnd_count_truancy_aged_students_SY1718                                                 190.0\n",
       "attnd_absence_1-5_SY1718                                                                  74.0\n",
       "attnd_absence_6-10_SY1718                                                                 58.0\n",
       "attnd_absence_11-20_SY1718                                                                33.0\n",
       "attnd_absence_20+_SY1718                                                                  12.0\n",
       "school_budgeted_amount_FY16                                                     7429920.000736\n",
       "school_budgeted_enrollment_FY16                                                         2650.0\n",
       "school_budgeted_amount_FY17                                                          3780814.0\n",
       "school_budgeted_enrollment_FY17                                                      2499672.0\n",
       "school_capacity_pct_SY1819                                                            0.461248\n",
       "school_capacity_pct_SY1718                                                            0.459357\n",
       "students_with_absences_SY1819                                                            185.0\n",
       "students_with_absences_SY1718                                                            177.0\n",
       "pct_of_absences_1-5_SY1819                                                            0.313514\n",
       "pct_of_student_absences_1-5_SY1819                                                    0.237705\n",
       "pct_of_absences_6-10_SY1819                                                            0.32973\n",
       "pct_of_student_absences_6-10_SY1819                                                       0.25\n",
       "pct_of_absences_11-20_SY1819                                                          0.243243\n",
       "pct_of_student_absences_11-20_SY1819                                                  0.184426\n",
       "pct_of_absences_20+_SY1819                                                            0.113514\n",
       "pct_of_student_absences_20+_SY1819                                                    0.086066\n",
       "pct_of_absences_1-5_SY1718                                                            0.418079\n",
       "pct_of_absences_6-10_SY1718                                                           0.327684\n",
       "pct_of_absences_11-20_SY1718                                                          0.186441\n",
       "pct_of_absences_20+_SY1718                                                            0.067797\n",
       "pct_of_student_absences_1-5_SY1718                                                    0.304527\n",
       "pct_of_student_absences_6-10_SY1718                                                   0.238683\n",
       "pct_of_student_absences_11-20_SY1718                                                  0.135802\n",
       "pct_of_student_absences_20+_SY1718                                                    0.049383\n",
       "cluster_Count of English Learner Students                                                    0\n",
       "cluster_English Learner Students as  share of Neighborhood Cluster                           0\n",
       "cluster_Count of At Risk Students                                                            0\n",
       "cluster_At Risk as share of Neighborhood Cluster                                             0\n",
       "cluster_Count of Special Education Students                                                  0\n",
       "cluster_Special Education Students as share of Neighborhood Cluster                          0\n",
       "cluster_Sum of Enrollment by Sector and Grade Band                                           0\n",
       "Name: 0, dtype: object"
      ]
     },
     "execution_count": 46,
     "metadata": {},
     "output_type": "execute_result"
    }
   ],
   "source": [
    "schools_df.iloc[i]"
   ]
  },
  {
   "cell_type": "code",
   "execution_count": 58,
   "id": "absent-lexington",
   "metadata": {},
   "outputs": [
    {
     "data": {
      "text/plain": [
       "range(0, 37)"
      ]
     },
     "execution_count": 58,
     "metadata": {},
     "output_type": "execute_result"
    }
   ],
   "source": [
    "range(len(cluster_1718))"
   ]
  },
  {
   "cell_type": "code",
   "execution_count": 76,
   "id": "universal-madonna",
   "metadata": {},
   "outputs": [
    {
     "name": "stderr",
     "output_type": "stream",
     "text": [
      "<ipython-input-76-cbe69f833f39>:13: SettingWithCopyWarning: \n",
      "A value is trying to be set on a copy of a slice from a DataFrame\n",
      "\n",
      "See the caveats in the documentation: https://pandas.pydata.org/pandas-docs/stable/user_guide/indexing.html#returning-a-view-versus-a-copy\n",
      "  schools_df['cluster_Count of English Learner Students'][i] = cluster_1718.iloc[j]['Count of English Learner Students']\n",
      "<ipython-input-76-cbe69f833f39>:14: SettingWithCopyWarning: \n",
      "A value is trying to be set on a copy of a slice from a DataFrame\n",
      "\n",
      "See the caveats in the documentation: https://pandas.pydata.org/pandas-docs/stable/user_guide/indexing.html#returning-a-view-versus-a-copy\n",
      "  schools_df['cluster_English Learner Students as  share of Neighborhood Cluster'][i] =cluster_1718.iloc[j]['English Learner Students as  share of Neighborhood Cluster']\n",
      "<ipython-input-76-cbe69f833f39>:15: SettingWithCopyWarning: \n",
      "A value is trying to be set on a copy of a slice from a DataFrame\n",
      "\n",
      "See the caveats in the documentation: https://pandas.pydata.org/pandas-docs/stable/user_guide/indexing.html#returning-a-view-versus-a-copy\n",
      "  schools_df['cluster_Count of At Risk Students'][i] =cluster_1718.iloc[j]['Count of At Risk Students']\n",
      "<ipython-input-76-cbe69f833f39>:16: SettingWithCopyWarning: \n",
      "A value is trying to be set on a copy of a slice from a DataFrame\n",
      "\n",
      "See the caveats in the documentation: https://pandas.pydata.org/pandas-docs/stable/user_guide/indexing.html#returning-a-view-versus-a-copy\n",
      "  schools_df['cluster_At Risk as share of Neighborhood Cluster'][i] =cluster_1718.iloc[j]['At Risk as share of Neighborhood Cluster']*100.0\n",
      "<ipython-input-76-cbe69f833f39>:17: SettingWithCopyWarning: \n",
      "A value is trying to be set on a copy of a slice from a DataFrame\n",
      "\n",
      "See the caveats in the documentation: https://pandas.pydata.org/pandas-docs/stable/user_guide/indexing.html#returning-a-view-versus-a-copy\n",
      "  schools_df['cluster_Count of Special Education Students'][i] =cluster_1718.iloc[j]['Count of Special Education Students']\n",
      "<ipython-input-76-cbe69f833f39>:18: SettingWithCopyWarning: \n",
      "A value is trying to be set on a copy of a slice from a DataFrame\n",
      "\n",
      "See the caveats in the documentation: https://pandas.pydata.org/pandas-docs/stable/user_guide/indexing.html#returning-a-view-versus-a-copy\n",
      "  schools_df['cluster_Special Education Students as share of Neighborhood Cluster'][i] =cluster_1718.iloc[j]['Special Education Students as share of Neighborhood Cluster']\n",
      "<ipython-input-76-cbe69f833f39>:19: SettingWithCopyWarning: \n",
      "A value is trying to be set on a copy of a slice from a DataFrame\n",
      "\n",
      "See the caveats in the documentation: https://pandas.pydata.org/pandas-docs/stable/user_guide/indexing.html#returning-a-view-versus-a-copy\n",
      "  schools_df['cluster_Sum of Enrollment by Sector and Grade Band'][i] = cluster_1718.iloc[j]['Sum of Enrollment by Sector and Grade Band']\n"
     ]
    }
   ],
   "source": [
    "schools_df['cluster_Count of English Learner Students'] = 0\n",
    "schools_df['cluster_English Learner Students as  share of Neighborhood Cluster'] = 0\n",
    "schools_df['cluster_Count of At Risk Students'] = 0\n",
    "schools_df['cluster_At Risk as share of Neighborhood Cluster'] = 0\n",
    "schools_df['cluster_Count of Special Education Students'] = 0\n",
    "schools_df['cluster_Special Education Students as share of Neighborhood Cluster'] = 0\n",
    "schools_df['cluster_Sum of Enrollment by Sector and Grade Band'] = 0\n",
    "\n",
    "for i in range(len(schools_df)):\n",
    "    for j in range(len(cluster_1718)):\n",
    "        if schools_df.iloc[i]['school_cluster'] == cluster_1718.iloc[j]['Neighborhood Cluster']:\n",
    "            #print(\"Found One!\")\n",
    "            schools_df['cluster_Count of English Learner Students'][i] = cluster_1718.iloc[j]['Count of English Learner Students']\n",
    "            schools_df['cluster_English Learner Students as  share of Neighborhood Cluster'][i] =cluster_1718.iloc[j]['English Learner Students as  share of Neighborhood Cluster']\n",
    "            schools_df['cluster_Count of At Risk Students'][i] =cluster_1718.iloc[j]['Count of At Risk Students']\n",
    "            schools_df['cluster_At Risk as share of Neighborhood Cluster'][i] =cluster_1718.iloc[j]['At Risk as share of Neighborhood Cluster']*100.0\n",
    "            schools_df['cluster_Count of Special Education Students'][i] =cluster_1718.iloc[j]['Count of Special Education Students']\n",
    "            schools_df['cluster_Special Education Students as share of Neighborhood Cluster'][i] =cluster_1718.iloc[j]['Special Education Students as share of Neighborhood Cluster']\n",
    "            schools_df['cluster_Sum of Enrollment by Sector and Grade Band'][i] = cluster_1718.iloc[j]['Sum of Enrollment by Sector and Grade Band']\n",
    "            #print(schools_df.iloc[i]['school_cluster'])\n",
    "            #print(i)\n",
    "            #print(j)\n",
    "            #print(schools_df.iloc[i]['cluster_Sum of Enrollment by Sector and Grade Band'])\n",
    "    "
   ]
  },
  {
   "cell_type": "code",
   "execution_count": 74,
   "id": "juvenile-observation",
   "metadata": {},
   "outputs": [
    {
     "data": {
      "text/plain": [
       "0      3518\n",
       "1       969\n",
       "2      1786\n",
       "3      9122\n",
       "4      9122\n",
       "       ... \n",
       "111    3453\n",
       "112    4456\n",
       "113    4041\n",
       "114    3518\n",
       "115    3453\n",
       "Name: cluster_Sum of Enrollment by Sector and Grade Band, Length: 116, dtype: int64"
      ]
     },
     "execution_count": 74,
     "metadata": {},
     "output_type": "execute_result"
    }
   ],
   "source": [
    "schools_df['cluster_Sum of Enrollment by Sector and Grade Band']"
   ]
  },
  {
   "cell_type": "code",
   "execution_count": 79,
   "id": "macro-small",
   "metadata": {},
   "outputs": [],
   "source": [
    "#Have to divide by 100 after we multiplied by 100, it was not finding these values when running the loop before:\n",
    "schools_df['cluster_At Risk as share of Neighborhood Cluster'] = schools_df['cluster_At Risk as share of Neighborhood Cluster']/100.0"
   ]
  },
  {
   "cell_type": "code",
   "execution_count": 80,
   "id": "alleged-inspiration",
   "metadata": {},
   "outputs": [
    {
     "data": {
      "text/html": [
       "<div>\n",
       "<style scoped>\n",
       "    .dataframe tbody tr th:only-of-type {\n",
       "        vertical-align: middle;\n",
       "    }\n",
       "\n",
       "    .dataframe tbody tr th {\n",
       "        vertical-align: top;\n",
       "    }\n",
       "\n",
       "    .dataframe thead th {\n",
       "        text-align: right;\n",
       "    }\n",
       "</style>\n",
       "<table border=\"1\" class=\"dataframe\">\n",
       "  <thead>\n",
       "    <tr style=\"text-align: right;\">\n",
       "      <th></th>\n",
       "      <th>school_sector</th>\n",
       "      <th>school_code</th>\n",
       "      <th>school_name</th>\n",
       "      <th>school_grade_range</th>\n",
       "      <th>school_enrollment_SY1819</th>\n",
       "      <th>school_star_score_SY1819</th>\n",
       "      <th>school_star_rating_SY1819</th>\n",
       "      <th>school_capacity_SY1819</th>\n",
       "      <th>school_unfilled_seats_SY1819</th>\n",
       "      <th>school_latitude</th>\n",
       "      <th>...</th>\n",
       "      <th>pct_of_student_absences_6-10_SY1718</th>\n",
       "      <th>pct_of_student_absences_11-20_SY1718</th>\n",
       "      <th>pct_of_student_absences_20+_SY1718</th>\n",
       "      <th>cluster_Count of English Learner Students</th>\n",
       "      <th>cluster_English Learner Students as  share of Neighborhood Cluster</th>\n",
       "      <th>cluster_Count of At Risk Students</th>\n",
       "      <th>cluster_At Risk as share of Neighborhood Cluster</th>\n",
       "      <th>cluster_Count of Special Education Students</th>\n",
       "      <th>cluster_Special Education Students as share of Neighborhood Cluster</th>\n",
       "      <th>cluster_Sum of Enrollment by Sector and Grade Band</th>\n",
       "    </tr>\n",
       "  </thead>\n",
       "  <tbody>\n",
       "    <tr>\n",
       "      <th>0</th>\n",
       "      <td>DCPS</td>\n",
       "      <td>202</td>\n",
       "      <td>Aiton Elementary School</td>\n",
       "      <td>PK3-5th</td>\n",
       "      <td>244.0</td>\n",
       "      <td>10.79</td>\n",
       "      <td>1.0</td>\n",
       "      <td>529.0</td>\n",
       "      <td>285.0</td>\n",
       "      <td>38.897002</td>\n",
       "      <td>...</td>\n",
       "      <td>0.238683</td>\n",
       "      <td>0.135802</td>\n",
       "      <td>0.049383</td>\n",
       "      <td>71</td>\n",
       "      <td>0.02</td>\n",
       "      <td>2089</td>\n",
       "      <td>0.61</td>\n",
       "      <td>612</td>\n",
       "      <td>0.18</td>\n",
       "      <td>3518</td>\n",
       "    </tr>\n",
       "    <tr>\n",
       "      <th>1</th>\n",
       "      <td>DCPS</td>\n",
       "      <td>203</td>\n",
       "      <td>Amidon-Bowen Elementary School</td>\n",
       "      <td>PK3-5th</td>\n",
       "      <td>339.0</td>\n",
       "      <td>48.54</td>\n",
       "      <td>3.0</td>\n",
       "      <td>400.0</td>\n",
       "      <td>61.0</td>\n",
       "      <td>38.879515</td>\n",
       "      <td>...</td>\n",
       "      <td>0.279202</td>\n",
       "      <td>0.102564</td>\n",
       "      <td>0.034188</td>\n",
       "      <td>35</td>\n",
       "      <td>0.03</td>\n",
       "      <td>631</td>\n",
       "      <td>0.59</td>\n",
       "      <td>204</td>\n",
       "      <td>0.19</td>\n",
       "      <td>969</td>\n",
       "    </tr>\n",
       "    <tr>\n",
       "      <th>2</th>\n",
       "      <td>DCPS</td>\n",
       "      <td>450</td>\n",
       "      <td>Anacostia High School</td>\n",
       "      <td>9th-12th</td>\n",
       "      <td>296.0</td>\n",
       "      <td>3.68</td>\n",
       "      <td>1.0</td>\n",
       "      <td>837.0</td>\n",
       "      <td>541.0</td>\n",
       "      <td>38.870084</td>\n",
       "      <td>...</td>\n",
       "      <td>0.105541</td>\n",
       "      <td>0.155673</td>\n",
       "      <td>0.691293</td>\n",
       "      <td>47</td>\n",
       "      <td>0.02</td>\n",
       "      <td>1682</td>\n",
       "      <td>0.56</td>\n",
       "      <td>483</td>\n",
       "      <td>0.16</td>\n",
       "      <td>1786</td>\n",
       "    </tr>\n",
       "    <tr>\n",
       "      <th>3</th>\n",
       "      <td>DCPS</td>\n",
       "      <td>452</td>\n",
       "      <td>Ballou High School</td>\n",
       "      <td>9th-12th</td>\n",
       "      <td>650.0</td>\n",
       "      <td>4.83</td>\n",
       "      <td>1.0</td>\n",
       "      <td>NaN</td>\n",
       "      <td>NaN</td>\n",
       "      <td>38.838512</td>\n",
       "      <td>...</td>\n",
       "      <td>0.115909</td>\n",
       "      <td>0.235227</td>\n",
       "      <td>0.631818</td>\n",
       "      <td>66</td>\n",
       "      <td>0.01</td>\n",
       "      <td>5609</td>\n",
       "      <td>0.68</td>\n",
       "      <td>1443</td>\n",
       "      <td>0.17</td>\n",
       "      <td>9122</td>\n",
       "    </tr>\n",
       "    <tr>\n",
       "      <th>4</th>\n",
       "      <td>DCPS</td>\n",
       "      <td>462</td>\n",
       "      <td>Ballou STAY</td>\n",
       "      <td>Adult</td>\n",
       "      <td>524.0</td>\n",
       "      <td>NaN</td>\n",
       "      <td>NaN</td>\n",
       "      <td>NaN</td>\n",
       "      <td>NaN</td>\n",
       "      <td>38.838512</td>\n",
       "      <td>...</td>\n",
       "      <td>0.010101</td>\n",
       "      <td>0.010101</td>\n",
       "      <td>0.258586</td>\n",
       "      <td>66</td>\n",
       "      <td>0.01</td>\n",
       "      <td>5609</td>\n",
       "      <td>0.68</td>\n",
       "      <td>1443</td>\n",
       "      <td>0.17</td>\n",
       "      <td>9122</td>\n",
       "    </tr>\n",
       "  </tbody>\n",
       "</table>\n",
       "<p>5 rows × 60 columns</p>\n",
       "</div>"
      ],
      "text/plain": [
       "  school_sector  school_code                     school_name  \\\n",
       "0          DCPS          202         Aiton Elementary School   \n",
       "1          DCPS          203  Amidon-Bowen Elementary School   \n",
       "2          DCPS          450           Anacostia High School   \n",
       "3          DCPS          452              Ballou High School   \n",
       "4          DCPS          462                     Ballou STAY   \n",
       "\n",
       "  school_grade_range  school_enrollment_SY1819  school_star_score_SY1819  \\\n",
       "0            PK3-5th                     244.0                     10.79   \n",
       "1            PK3-5th                     339.0                     48.54   \n",
       "2           9th-12th                     296.0                      3.68   \n",
       "3           9th-12th                     650.0                      4.83   \n",
       "4              Adult                     524.0                       NaN   \n",
       "\n",
       "   school_star_rating_SY1819  school_capacity_SY1819  \\\n",
       "0                        1.0                   529.0   \n",
       "1                        3.0                   400.0   \n",
       "2                        1.0                   837.0   \n",
       "3                        1.0                     NaN   \n",
       "4                        NaN                     NaN   \n",
       "\n",
       "   school_unfilled_seats_SY1819  school_latitude  ...  \\\n",
       "0                         285.0        38.897002  ...   \n",
       "1                          61.0        38.879515  ...   \n",
       "2                         541.0        38.870084  ...   \n",
       "3                           NaN        38.838512  ...   \n",
       "4                           NaN        38.838512  ...   \n",
       "\n",
       "   pct_of_student_absences_6-10_SY1718 pct_of_student_absences_11-20_SY1718  \\\n",
       "0                             0.238683                             0.135802   \n",
       "1                             0.279202                             0.102564   \n",
       "2                             0.105541                             0.155673   \n",
       "3                             0.115909                             0.235227   \n",
       "4                             0.010101                             0.010101   \n",
       "\n",
       "  pct_of_student_absences_20+_SY1718  \\\n",
       "0                           0.049383   \n",
       "1                           0.034188   \n",
       "2                           0.691293   \n",
       "3                           0.631818   \n",
       "4                           0.258586   \n",
       "\n",
       "  cluster_Count of English Learner Students  \\\n",
       "0                                        71   \n",
       "1                                        35   \n",
       "2                                        47   \n",
       "3                                        66   \n",
       "4                                        66   \n",
       "\n",
       "   cluster_English Learner Students as  share of Neighborhood Cluster  \\\n",
       "0                                               0.02                    \n",
       "1                                               0.03                    \n",
       "2                                               0.02                    \n",
       "3                                               0.01                    \n",
       "4                                               0.01                    \n",
       "\n",
       "   cluster_Count of At Risk Students  \\\n",
       "0                               2089   \n",
       "1                                631   \n",
       "2                               1682   \n",
       "3                               5609   \n",
       "4                               5609   \n",
       "\n",
       "   cluster_At Risk as share of Neighborhood Cluster  \\\n",
       "0                                              0.61   \n",
       "1                                              0.59   \n",
       "2                                              0.56   \n",
       "3                                              0.68   \n",
       "4                                              0.68   \n",
       "\n",
       "   cluster_Count of Special Education Students  \\\n",
       "0                                          612   \n",
       "1                                          204   \n",
       "2                                          483   \n",
       "3                                         1443   \n",
       "4                                         1443   \n",
       "\n",
       "   cluster_Special Education Students as share of Neighborhood Cluster  \\\n",
       "0                                               0.18                     \n",
       "1                                               0.19                     \n",
       "2                                               0.16                     \n",
       "3                                               0.17                     \n",
       "4                                               0.17                     \n",
       "\n",
       "   cluster_Sum of Enrollment by Sector and Grade Band  \n",
       "0                                               3518   \n",
       "1                                                969   \n",
       "2                                               1786   \n",
       "3                                               9122   \n",
       "4                                               9122   \n",
       "\n",
       "[5 rows x 60 columns]"
      ]
     },
     "execution_count": 80,
     "metadata": {},
     "output_type": "execute_result"
    }
   ],
   "source": [
    "schools_df.head()"
   ]
  },
  {
   "cell_type": "code",
   "execution_count": 50,
   "id": "greater-organizer",
   "metadata": {},
   "outputs": [
    {
     "data": {
      "text/plain": [
       "0    116\n",
       "Name: cluster_Count of At Risk Students, dtype: int64"
      ]
     },
     "execution_count": 50,
     "metadata": {},
     "output_type": "execute_result"
    }
   ],
   "source": [
    "schools_df['cluster_Count of At Risk Students'].value_counts()"
   ]
  },
  {
   "cell_type": "code",
   "execution_count": 81,
   "id": "earned-sector",
   "metadata": {},
   "outputs": [
    {
     "data": {
      "text/plain": [
       "Index(['school_sector', 'school_code', 'school_name', 'school_grade_range',\n",
       "       'school_enrollment_SY1819', 'school_star_score_SY1819',\n",
       "       'school_star_rating_SY1819', 'school_capacity_SY1819',\n",
       "       'school_unfilled_seats_SY1819', 'school_latitude', 'school_longitude',\n",
       "       'school_cluster', 'school_ward', 'school_grade_band',\n",
       "       'school_enrollment_SY1718', 'school_star_score_SY1718',\n",
       "       'school_star_rating_SY1718', 'school_capacity_SY1718',\n",
       "       'school_unfilled_seats_SY1718',\n",
       "       'attnd_count_truancy_aged_students_SY1819', 'attnd_absence_1-5_SY1819',\n",
       "       'attnd_absence_6-10_SY1819', 'attnd_absence_11-20_SY1819',\n",
       "       'attnd_absence_20+_SY1819', 'attnd_count_truancy_aged_students_SY1718',\n",
       "       'attnd_absence_1-5_SY1718', 'attnd_absence_6-10_SY1718',\n",
       "       'attnd_absence_11-20_SY1718', 'attnd_absence_20+_SY1718',\n",
       "       'school_budgeted_amount_FY16', 'school_budgeted_enrollment_FY16',\n",
       "       'school_budgeted_amount_FY17', 'school_budgeted_enrollment_FY17',\n",
       "       'school_capacity_pct_SY1819', 'school_capacity_pct_SY1718',\n",
       "       'students_with_absences_SY1819', 'students_with_absences_SY1718',\n",
       "       'pct_of_absences_1-5_SY1819', 'pct_of_student_absences_1-5_SY1819',\n",
       "       'pct_of_absences_6-10_SY1819', 'pct_of_student_absences_6-10_SY1819',\n",
       "       'pct_of_absences_11-20_SY1819', 'pct_of_student_absences_11-20_SY1819',\n",
       "       'pct_of_absences_20+_SY1819', 'pct_of_student_absences_20+_SY1819',\n",
       "       'pct_of_absences_1-5_SY1718', 'pct_of_absences_6-10_SY1718',\n",
       "       'pct_of_absences_11-20_SY1718', 'pct_of_absences_20+_SY1718',\n",
       "       'pct_of_student_absences_1-5_SY1718',\n",
       "       'pct_of_student_absences_6-10_SY1718',\n",
       "       'pct_of_student_absences_11-20_SY1718',\n",
       "       'pct_of_student_absences_20+_SY1718',\n",
       "       'cluster_Count of English Learner Students',\n",
       "       'cluster_English Learner Students as  share of Neighborhood Cluster',\n",
       "       'cluster_Count of At Risk Students',\n",
       "       'cluster_At Risk as share of Neighborhood Cluster',\n",
       "       'cluster_Count of Special Education Students',\n",
       "       'cluster_Special Education Students as share of Neighborhood Cluster',\n",
       "       'cluster_Sum of Enrollment by Sector and Grade Band'],\n",
       "      dtype='object')"
      ]
     },
     "execution_count": 81,
     "metadata": {},
     "output_type": "execute_result"
    }
   ],
   "source": [
    "schools_df.columns"
   ]
  },
  {
   "cell_type": "code",
   "execution_count": 83,
   "id": "irish-pencil",
   "metadata": {},
   "outputs": [],
   "source": [
    "schools_df.to_csv('../data/schools_w_cluster_data.csv')"
   ]
  },
  {
   "cell_type": "code",
   "execution_count": 20,
   "id": "friendly-object",
   "metadata": {},
   "outputs": [
    {
     "data": {
      "text/plain": [
       "' 1'"
      ]
     },
     "execution_count": 20,
     "metadata": {},
     "output_type": "execute_result"
    }
   ],
   "source": [
    "cluster_1718['Neighborhood Cluster'][0][-2:]"
   ]
  },
  {
   "cell_type": "code",
   "execution_count": 84,
   "id": "premium-oriental",
   "metadata": {},
   "outputs": [],
   "source": [
    "#Try for the 17/18 star rating first:\n",
    "X = schools_df[['school_grade_range', 'school_enrollment_SY1718', 'school_capacity_SY1718', 'school_unfilled_seats_SY1718','attnd_count_truancy_aged_students_SY1718',\n",
    "        'attnd_absence_1-5_SY1718', 'attnd_absence_6-10_SY1718',\n",
    "        'attnd_absence_11-20_SY1718', 'attnd_absence_20+_SY1718',\n",
    "        'school_budgeted_amount_FY16', 'school_budgeted_enrollment_FY16', \n",
    "        'school_capacity_pct_SY1718', 'students_with_absences_SY1718', \n",
    "        'pct_of_absences_1-5_SY1718', 'pct_of_absences_6-10_SY1718',\n",
    "        'pct_of_absences_11-20_SY1718', 'pct_of_absences_20+_SY1718',\n",
    "        'pct_of_student_absences_1-5_SY1718',\n",
    "        'pct_of_student_absences_6-10_SY1718',\n",
    "        'pct_of_student_absences_11-20_SY1718',\n",
    "        'pct_of_student_absences_20+_SY1718',\n",
    "        'cluster_Count of English Learner Students',\n",
    "        'cluster_English Learner Students as  share of Neighborhood Cluster',\n",
    "        'cluster_Count of At Risk Students',\n",
    "        'cluster_At Risk as share of Neighborhood Cluster',\n",
    "        'cluster_Count of Special Education Students',\n",
    "        'cluster_Special Education Students as share of Neighborhood Cluster',\n",
    "        'cluster_Sum of Enrollment by Sector and Grade Band']]\n",
    "y = schools_df['school_star_rating_SY1718']"
   ]
  },
  {
   "cell_type": "code",
   "execution_count": 92,
   "id": "foreign-boating",
   "metadata": {},
   "outputs": [
    {
     "data": {
      "text/plain": [
       "0      3.0\n",
       "1      2.0\n",
       "2      1.0\n",
       "3      1.0\n",
       "4      NaN\n",
       "      ... \n",
       "111    3.0\n",
       "112    3.0\n",
       "113    4.0\n",
       "114    2.0\n",
       "115    NaN\n",
       "Name: school_star_rating_SY1718, Length: 116, dtype: float64"
      ]
     },
     "execution_count": 92,
     "metadata": {},
     "output_type": "execute_result"
    }
   ],
   "source": [
    "y"
   ]
  },
  {
   "cell_type": "code",
   "execution_count": 94,
   "id": "educated-antique",
   "metadata": {},
   "outputs": [],
   "source": [
    "y.fillna(-1, inplace=True)"
   ]
  },
  {
   "cell_type": "code",
   "execution_count": 95,
   "id": "speaking-clarity",
   "metadata": {},
   "outputs": [
    {
     "data": {
      "text/plain": [
       "school_grade_range                                                     0\n",
       "school_enrollment_SY1718                                               1\n",
       "school_capacity_SY1718                                                 9\n",
       "school_unfilled_seats_SY1718                                           9\n",
       "attnd_count_truancy_aged_students_SY1718                               4\n",
       "attnd_absence_1-5_SY1718                                               4\n",
       "attnd_absence_6-10_SY1718                                              4\n",
       "attnd_absence_11-20_SY1718                                             4\n",
       "attnd_absence_20+_SY1718                                               4\n",
       "school_budgeted_amount_FY16                                            6\n",
       "school_budgeted_enrollment_FY16                                        6\n",
       "school_capacity_pct_SY1718                                             9\n",
       "students_with_absences_SY1718                                          4\n",
       "pct_of_absences_1-5_SY1718                                             4\n",
       "pct_of_absences_6-10_SY1718                                            4\n",
       "pct_of_absences_11-20_SY1718                                           4\n",
       "pct_of_absences_20+_SY1718                                             4\n",
       "pct_of_student_absences_1-5_SY1718                                     4\n",
       "pct_of_student_absences_6-10_SY1718                                    4\n",
       "pct_of_student_absences_11-20_SY1718                                   4\n",
       "pct_of_student_absences_20+_SY1718                                     4\n",
       "cluster_Count of English Learner Students                              0\n",
       "cluster_English Learner Students as  share of Neighborhood Cluster     0\n",
       "cluster_Count of At Risk Students                                      0\n",
       "cluster_At Risk as share of Neighborhood Cluster                       0\n",
       "cluster_Count of Special Education Students                            0\n",
       "cluster_Special Education Students as share of Neighborhood Cluster    0\n",
       "cluster_Sum of Enrollment by Sector and Grade Band                     0\n",
       "dtype: int64"
      ]
     },
     "execution_count": 95,
     "metadata": {},
     "output_type": "execute_result"
    }
   ],
   "source": [
    "X.isna().sum()"
   ]
  },
  {
   "cell_type": "code",
   "execution_count": 98,
   "id": "textile-berlin",
   "metadata": {},
   "outputs": [
    {
     "name": "stderr",
     "output_type": "stream",
     "text": [
      "/Users/Keith/miniconda3/envs/sql/lib/python3.8/site-packages/pandas/core/frame.py:4459: SettingWithCopyWarning: \n",
      "A value is trying to be set on a copy of a slice from a DataFrame\n",
      "\n",
      "See the caveats in the documentation: https://pandas.pydata.org/pandas-docs/stable/user_guide/indexing.html#returning-a-view-versus-a-copy\n",
      "  return super().fillna(\n"
     ]
    }
   ],
   "source": [
    "X.fillna(0, inplace=True)"
   ]
  },
  {
   "cell_type": "code",
   "execution_count": 100,
   "id": "norwegian-charlotte",
   "metadata": {},
   "outputs": [
    {
     "data": {
      "text/plain": [
       "school_grade_range                                                     0\n",
       "school_enrollment_SY1718                                               0\n",
       "school_capacity_SY1718                                                 0\n",
       "school_unfilled_seats_SY1718                                           0\n",
       "attnd_count_truancy_aged_students_SY1718                               0\n",
       "attnd_absence_1-5_SY1718                                               0\n",
       "attnd_absence_6-10_SY1718                                              0\n",
       "attnd_absence_11-20_SY1718                                             0\n",
       "attnd_absence_20+_SY1718                                               0\n",
       "school_budgeted_amount_FY16                                            0\n",
       "school_budgeted_enrollment_FY16                                        0\n",
       "school_capacity_pct_SY1718                                             0\n",
       "students_with_absences_SY1718                                          0\n",
       "pct_of_absences_1-5_SY1718                                             0\n",
       "pct_of_absences_6-10_SY1718                                            0\n",
       "pct_of_absences_11-20_SY1718                                           0\n",
       "pct_of_absences_20+_SY1718                                             0\n",
       "pct_of_student_absences_1-5_SY1718                                     0\n",
       "pct_of_student_absences_6-10_SY1718                                    0\n",
       "pct_of_student_absences_11-20_SY1718                                   0\n",
       "pct_of_student_absences_20+_SY1718                                     0\n",
       "cluster_Count of English Learner Students                              0\n",
       "cluster_English Learner Students as  share of Neighborhood Cluster     0\n",
       "cluster_Count of At Risk Students                                      0\n",
       "cluster_At Risk as share of Neighborhood Cluster                       0\n",
       "cluster_Count of Special Education Students                            0\n",
       "cluster_Special Education Students as share of Neighborhood Cluster    0\n",
       "cluster_Sum of Enrollment by Sector and Grade Band                     0\n",
       "dtype: int64"
      ]
     },
     "execution_count": 100,
     "metadata": {},
     "output_type": "execute_result"
    }
   ],
   "source": [
    "X.isna().sum()"
   ]
  },
  {
   "cell_type": "code",
   "execution_count": 101,
   "id": "severe-screw",
   "metadata": {},
   "outputs": [],
   "source": [
    "sscaler = StandardScaler()"
   ]
  },
  {
   "cell_type": "code",
   "execution_count": 104,
   "id": "comic-harrison",
   "metadata": {},
   "outputs": [
    {
     "name": "stdout",
     "output_type": "stream",
     "text": [
      "<class 'pandas.core.frame.DataFrame'>\n",
      "RangeIndex: 116 entries, 0 to 115\n",
      "Data columns (total 28 columns):\n",
      " #   Column                                                               Non-Null Count  Dtype  \n",
      "---  ------                                                               --------------  -----  \n",
      " 0   school_grade_range                                                   116 non-null    object \n",
      " 1   school_enrollment_SY1718                                             116 non-null    float64\n",
      " 2   school_capacity_SY1718                                               116 non-null    float64\n",
      " 3   school_unfilled_seats_SY1718                                         116 non-null    float64\n",
      " 4   attnd_count_truancy_aged_students_SY1718                             116 non-null    float64\n",
      " 5   attnd_absence_1-5_SY1718                                             116 non-null    float64\n",
      " 6   attnd_absence_6-10_SY1718                                            116 non-null    float64\n",
      " 7   attnd_absence_11-20_SY1718                                           116 non-null    float64\n",
      " 8   attnd_absence_20+_SY1718                                             116 non-null    float64\n",
      " 9   school_budgeted_amount_FY16                                          116 non-null    float64\n",
      " 10  school_budgeted_enrollment_FY16                                      116 non-null    float64\n",
      " 11  school_capacity_pct_SY1718                                           116 non-null    float64\n",
      " 12  students_with_absences_SY1718                                        116 non-null    float64\n",
      " 13  pct_of_absences_1-5_SY1718                                           116 non-null    float64\n",
      " 14  pct_of_absences_6-10_SY1718                                          116 non-null    float64\n",
      " 15  pct_of_absences_11-20_SY1718                                         116 non-null    float64\n",
      " 16  pct_of_absences_20+_SY1718                                           116 non-null    float64\n",
      " 17  pct_of_student_absences_1-5_SY1718                                   116 non-null    float64\n",
      " 18  pct_of_student_absences_6-10_SY1718                                  116 non-null    float64\n",
      " 19  pct_of_student_absences_11-20_SY1718                                 116 non-null    float64\n",
      " 20  pct_of_student_absences_20+_SY1718                                   116 non-null    float64\n",
      " 21  cluster_Count of English Learner Students                            116 non-null    object \n",
      " 22  cluster_English Learner Students as  share of Neighborhood Cluster   116 non-null    object \n",
      " 23  cluster_Count of At Risk Students                                    116 non-null    int64  \n",
      " 24  cluster_At Risk as share of Neighborhood Cluster                     116 non-null    float64\n",
      " 25  cluster_Count of Special Education Students                          116 non-null    object \n",
      " 26  cluster_Special Education Students as share of Neighborhood Cluster  116 non-null    object \n",
      " 27  cluster_Sum of Enrollment by Sector and Grade Band                   116 non-null    int64  \n",
      "dtypes: float64(21), int64(2), object(5)\n",
      "memory usage: 25.5+ KB\n"
     ]
    }
   ],
   "source": [
    "X.info()"
   ]
  },
  {
   "cell_type": "code",
   "execution_count": 105,
   "id": "level-wings",
   "metadata": {},
   "outputs": [
    {
     "data": {
      "text/plain": [
       "array(['PK3-5th', '9th-12th', 'Adult', 'PK3-8th', '6th-8th', '6th-12th',\n",
       "       'PK4-5th', 'Alternative', '4th-8th', 'PK4-3rd', 'PK3-KG', 'SPED',\n",
       "       '9th-11th', 'PK3-3rd', '1st-5th'], dtype=object)"
      ]
     },
     "execution_count": 105,
     "metadata": {},
     "output_type": "execute_result"
    }
   ],
   "source": [
    "X['school_grade_range'].unique()"
   ]
  },
  {
   "cell_type": "code",
   "execution_count": 114,
   "id": "motivated-assignment",
   "metadata": {},
   "outputs": [
    {
     "name": "stdout",
     "output_type": "stream",
     "text": [
      "Collecting category_encoders\n",
      "  Downloading category_encoders-2.2.2-py2.py3-none-any.whl (80 kB)\n",
      "\u001b[K     |████████████████████████████████| 80 kB 5.3 MB/s eta 0:00:01\n",
      "\u001b[?25hRequirement already satisfied: pandas>=0.21.1 in /Users/Keith/miniconda3/envs/sql/lib/python3.8/site-packages (from category_encoders) (1.2.1)\n",
      "Requirement already satisfied: scikit-learn>=0.20.0 in /Users/Keith/miniconda3/envs/sql/lib/python3.8/site-packages (from category_encoders) (0.24.1)\n",
      "Requirement already satisfied: numpy>=1.14.0 in /Users/Keith/miniconda3/envs/sql/lib/python3.8/site-packages (from category_encoders) (1.19.2)\n",
      "Requirement already satisfied: scipy>=1.0.0 in /Users/Keith/miniconda3/envs/sql/lib/python3.8/site-packages (from category_encoders) (1.6.0)\n",
      "Requirement already satisfied: python-dateutil>=2.7.3 in /Users/Keith/miniconda3/envs/sql/lib/python3.8/site-packages (from pandas>=0.21.1->category_encoders) (2.8.1)\n",
      "Requirement already satisfied: pytz>=2017.3 in /Users/Keith/miniconda3/envs/sql/lib/python3.8/site-packages (from pandas>=0.21.1->category_encoders) (2021.1)\n",
      "Collecting patsy>=0.5.1\n",
      "  Using cached patsy-0.5.1-py2.py3-none-any.whl (231 kB)\n",
      "Requirement already satisfied: six in /Users/Keith/miniconda3/envs/sql/lib/python3.8/site-packages (from patsy>=0.5.1->category_encoders) (1.15.0)\n",
      "Requirement already satisfied: threadpoolctl>=2.0.0 in /Users/Keith/miniconda3/envs/sql/lib/python3.8/site-packages (from scikit-learn>=0.20.0->category_encoders) (2.1.0)\n",
      "Requirement already satisfied: joblib>=0.11 in /Users/Keith/miniconda3/envs/sql/lib/python3.8/site-packages (from scikit-learn>=0.20.0->category_encoders) (1.0.0)\n",
      "Collecting statsmodels>=0.9.0\n",
      "  Downloading statsmodels-0.12.2-cp38-cp38-macosx_10_15_x86_64.whl (9.5 MB)\n",
      "\u001b[K     |████████████████████████████████| 9.5 MB 7.4 MB/s eta 0:00:01\n",
      "\u001b[?25hInstalling collected packages: patsy, statsmodels, category-encoders\n",
      "Successfully installed category-encoders-2.2.2 patsy-0.5.1 statsmodels-0.12.2\n",
      "Note: you may need to restart the kernel to use updated packages.\n"
     ]
    }
   ],
   "source": [
    "pip install category_encoders"
   ]
  },
  {
   "cell_type": "code",
   "execution_count": 115,
   "id": "motivated-sally",
   "metadata": {},
   "outputs": [],
   "source": [
    "from category_encoders import OneHotEncoder"
   ]
  },
  {
   "cell_type": "code",
   "execution_count": 116,
   "id": "fundamental-safety",
   "metadata": {},
   "outputs": [],
   "source": [
    "ohe = OneHotEncoder()"
   ]
  },
  {
   "cell_type": "code",
   "execution_count": 118,
   "id": "underlying-content",
   "metadata": {},
   "outputs": [
    {
     "name": "stderr",
     "output_type": "stream",
     "text": [
      "/Users/Keith/miniconda3/envs/sql/lib/python3.8/site-packages/category_encoders/utils.py:21: FutureWarning: is_categorical is deprecated and will be removed in a future version.  Use is_categorical_dtype instead\n",
      "  elif pd.api.types.is_categorical(cols):\n",
      "<ipython-input-118-d67ada1a95c5>:1: SettingWithCopyWarning: \n",
      "A value is trying to be set on a copy of a slice from a DataFrame.\n",
      "Try using .loc[row_indexer,col_indexer] = value instead\n",
      "\n",
      "See the caveats in the documentation: https://pandas.pydata.org/pandas-docs/stable/user_guide/indexing.html#returning-a-view-versus-a-copy\n",
      "  X['school_grade_range'] = pd.DataFrame(ohe.fit_transform(X[['school_grade_range']]))\n"
     ]
    }
   ],
   "source": [
    "X['school_grade_range'] = pd.DataFrame(ohe.fit_transform(X[['school_grade_range']]))"
   ]
  },
  {
   "cell_type": "code",
   "execution_count": 123,
   "id": "young-stream",
   "metadata": {},
   "outputs": [
    {
     "name": "stderr",
     "output_type": "stream",
     "text": [
      "/Users/Keith/miniconda3/envs/sql/lib/python3.8/site-packages/pandas/core/frame.py:4521: SettingWithCopyWarning: \n",
      "A value is trying to be set on a copy of a slice from a DataFrame\n",
      "\n",
      "See the caveats in the documentation: https://pandas.pydata.org/pandas-docs/stable/user_guide/indexing.html#returning-a-view-versus-a-copy\n",
      "  return super().replace(\n"
     ]
    }
   ],
   "source": [
    "X.replace('N<10', 5, inplace=True)"
   ]
  },
  {
   "cell_type": "code",
   "execution_count": 124,
   "id": "radical-quantity",
   "metadata": {},
   "outputs": [
    {
     "name": "stderr",
     "output_type": "stream",
     "text": [
      "<ipython-input-124-e86fed8e648b>:1: SettingWithCopyWarning: \n",
      "A value is trying to be set on a copy of a slice from a DataFrame.\n",
      "Try using .loc[row_indexer,col_indexer] = value instead\n",
      "\n",
      "See the caveats in the documentation: https://pandas.pydata.org/pandas-docs/stable/user_guide/indexing.html#returning-a-view-versus-a-copy\n",
      "  X['cluster_Count of Special Education Students'] = pd.to_numeric(X['cluster_Count of Special Education Students'])\n"
     ]
    }
   ],
   "source": [
    "X['cluster_Count of Special Education Students'] = pd.to_numeric(X['cluster_Count of Special Education Students'])"
   ]
  },
  {
   "cell_type": "code",
   "execution_count": 125,
   "id": "streaming-surprise",
   "metadata": {},
   "outputs": [
    {
     "name": "stderr",
     "output_type": "stream",
     "text": [
      "<ipython-input-125-566d978c1aa5>:1: SettingWithCopyWarning: \n",
      "A value is trying to be set on a copy of a slice from a DataFrame.\n",
      "Try using .loc[row_indexer,col_indexer] = value instead\n",
      "\n",
      "See the caveats in the documentation: https://pandas.pydata.org/pandas-docs/stable/user_guide/indexing.html#returning-a-view-versus-a-copy\n",
      "  X['cluster_Special Education Students as share of Neighborhood Cluster'] = pd.to_numeric(X['cluster_Special Education Students as share of Neighborhood Cluster'])\n"
     ]
    }
   ],
   "source": [
    "X['cluster_Special Education Students as share of Neighborhood Cluster'] = pd.to_numeric(X['cluster_Special Education Students as share of Neighborhood Cluster'])"
   ]
  },
  {
   "cell_type": "code",
   "execution_count": 140,
   "id": "increasing-hotel",
   "metadata": {},
   "outputs": [
    {
     "name": "stderr",
     "output_type": "stream",
     "text": [
      "/Users/Keith/miniconda3/envs/sql/lib/python3.8/site-packages/pandas/core/frame.py:4521: SettingWithCopyWarning: \n",
      "A value is trying to be set on a copy of a slice from a DataFrame\n",
      "\n",
      "See the caveats in the documentation: https://pandas.pydata.org/pandas-docs/stable/user_guide/indexing.html#returning-a-view-versus-a-copy\n",
      "  return super().replace(\n"
     ]
    }
   ],
   "source": [
    "#The infinities should be 0s\n",
    "X.replace([np.inf, -np.inf, np.nan], 0, inplace=True)"
   ]
  },
  {
   "cell_type": "code",
   "execution_count": 136,
   "id": "cosmetic-currency",
   "metadata": {},
   "outputs": [
    {
     "name": "stderr",
     "output_type": "stream",
     "text": [
      "/Users/Keith/miniconda3/envs/sql/lib/python3.8/site-packages/pandas/core/frame.py:4521: SettingWithCopyWarning: \n",
      "A value is trying to be set on a copy of a slice from a DataFrame\n",
      "\n",
      "See the caveats in the documentation: https://pandas.pydata.org/pandas-docs/stable/user_guide/indexing.html#returning-a-view-versus-a-copy\n",
      "  return super().replace(\n"
     ]
    }
   ],
   "source": [
    "#Replacing with 5 since the value was originally N<10, so we are assuming 5:\n",
    "X.replace(np.nan, 5, inplace=True)"
   ]
  },
  {
   "cell_type": "code",
   "execution_count": 141,
   "id": "binary-mercy",
   "metadata": {},
   "outputs": [],
   "source": [
    "X_scaled = sscaler.fit_transform(X)"
   ]
  },
  {
   "cell_type": "code",
   "execution_count": 142,
   "id": "amateur-fence",
   "metadata": {},
   "outputs": [],
   "source": [
    "X_train, X_test, y_train, y_test = train_test_split(X_scaled, y, stratify = y)"
   ]
  },
  {
   "cell_type": "code",
   "execution_count": 143,
   "id": "cardiac-complexity",
   "metadata": {},
   "outputs": [],
   "source": [
    "pca = PCA()"
   ]
  },
  {
   "cell_type": "code",
   "execution_count": 144,
   "id": "ready-reminder",
   "metadata": {},
   "outputs": [],
   "source": [
    "X_train_pcad = pca.fit_transform(X_train)"
   ]
  },
  {
   "cell_type": "code",
   "execution_count": 147,
   "id": "future-northeast",
   "metadata": {},
   "outputs": [],
   "source": [
    "X_test_pcad = pca.transform(X_test)"
   ]
  },
  {
   "cell_type": "code",
   "execution_count": 165,
   "id": "floating-influence",
   "metadata": {},
   "outputs": [
    {
     "data": {
      "image/png": "[encoded data removed]",
      "text/plain": [
       "<Figure size 432x288 with 1 Axes>"
      ]
     },
     "metadata": {
      "needs_background": "light"
     },
     "output_type": "display_data"
    }
   ],
   "source": [
    "plt.bar(range(10), pca.explained_variance_ratio_[:10]);"
   ]
  },
  {
   "cell_type": "code",
   "execution_count": 148,
   "id": "curious-perspective",
   "metadata": {},
   "outputs": [
    {
     "data": {
      "text/plain": [
       "LinearRegression()"
      ]
     },
     "execution_count": 148,
     "metadata": {},
     "output_type": "execute_result"
    }
   ],
   "source": [
    "#Now we make a linear regression with our PCA variables:\n",
    "lr = LinearRegression()\n",
    "lr.fit(X_train_pcad, y_train)"
   ]
  },
  {
   "cell_type": "code",
   "execution_count": 149,
   "id": "tamil-difference",
   "metadata": {},
   "outputs": [
    {
     "name": "stdout",
     "output_type": "stream",
     "text": [
      "Training Score: 0.7934022884836776\n",
      "Test Score: -28.217410092839657\n"
     ]
    }
   ],
   "source": [
    "print(f'Training Score: {lr.score(X_train_pcad, y_train)}')\n",
    "print(f'Test Score: {lr.score(X_test_pcad, y_test)}')"
   ]
  },
  {
   "cell_type": "code",
   "execution_count": 162,
   "id": "dominant-independence",
   "metadata": {},
   "outputs": [],
   "source": [
    "from sklearn.metrics import mean_absolute_error, accuracy_score, r2_score"
   ]
  },
  {
   "cell_type": "code",
   "execution_count": 153,
   "id": "general-patient",
   "metadata": {},
   "outputs": [],
   "source": [
    "preds = lr.predict(X_test_pcad)"
   ]
  },
  {
   "cell_type": "code",
   "execution_count": 159,
   "id": "crucial-chair",
   "metadata": {},
   "outputs": [],
   "source": [
    "rounded = np.round(lr.predict(X_test_pcad))"
   ]
  },
  {
   "cell_type": "code",
   "execution_count": 160,
   "id": "indian-metro",
   "metadata": {},
   "outputs": [
    {
     "data": {
      "text/plain": [
       "2.4482758620689653"
      ]
     },
     "execution_count": 160,
     "metadata": {},
     "output_type": "execute_result"
    }
   ],
   "source": [
    "mean_absolute_error(y_test, rounded)"
   ]
  },
  {
   "cell_type": "code",
   "execution_count": 163,
   "id": "suitable-router",
   "metadata": {},
   "outputs": [
    {
     "data": {
      "text/plain": [
       "0.3448275862068966"
      ]
     },
     "execution_count": 163,
     "metadata": {},
     "output_type": "execute_result"
    }
   ],
   "source": [
    "accuracy_score(y_test, rounded)"
   ]
  },
  {
   "cell_type": "code",
   "execution_count": 164,
   "id": "married-battlefield",
   "metadata": {},
   "outputs": [
    {
     "data": {
      "text/plain": [
       "-28.13809523809524"
      ]
     },
     "execution_count": 164,
     "metadata": {},
     "output_type": "execute_result"
    }
   ],
   "source": [
    "r2_score(y_test, rounded)"
   ]
  },
  {
   "cell_type": "code",
   "execution_count": 155,
   "id": "canadian-crack",
   "metadata": {},
   "outputs": [],
   "source": [
    "train_preds = lr.predict(X_train_pcad)"
   ]
  },
  {
   "cell_type": "code",
   "execution_count": 166,
   "id": "three-chamber",
   "metadata": {},
   "outputs": [
    {
     "data": {
      "text/plain": [
       "0      7.429920e+06\n",
       "1      8.979878e+06\n",
       "2      1.853702e+07\n",
       "3      2.187321e+07\n",
       "4      5.708080e+06\n",
       "           ...     \n",
       "111    1.076722e+07\n",
       "112    1.089338e+07\n",
       "113    3.121819e+07\n",
       "114    1.638126e+07\n",
       "115    3.331628e+06\n",
       "Name: school_budgeted_amount_FY16, Length: 116, dtype: float64"
      ]
     },
     "execution_count": 166,
     "metadata": {},
     "output_type": "execute_result"
    }
   ],
   "source": [
    "schools_df['school_budgeted_amount_FY16']"
   ]
  },
  {
   "cell_type": "code",
   "execution_count": 181,
   "id": "future-geneva",
   "metadata": {},
   "outputs": [],
   "source": [
    "#Test out different Xs:\n",
    "X2 = schools_df['school_budgeted_amount_FY16'].fillna(0)"
   ]
  },
  {
   "cell_type": "code",
   "execution_count": 187,
   "id": "pretty-lafayette",
   "metadata": {},
   "outputs": [],
   "source": [
    "X3 = schools_df[['school_budgeted_amount_FY16','school_budgeted_amount_FY17']].fillna(0)"
   ]
  },
  {
   "cell_type": "code",
   "execution_count": 188,
   "id": "structural-check",
   "metadata": {},
   "outputs": [],
   "source": [
    "lr2 = LinearRegression()"
   ]
  },
  {
   "cell_type": "code",
   "execution_count": 189,
   "id": "crucial-response",
   "metadata": {},
   "outputs": [],
   "source": [
    "Xtr2, Xte2, ytr2, yte2 = train_test_split(X3, y)"
   ]
  },
  {
   "cell_type": "code",
   "execution_count": 190,
   "id": "alike-pride",
   "metadata": {},
   "outputs": [
    {
     "data": {
      "text/plain": [
       "LinearRegression()"
      ]
     },
     "execution_count": 190,
     "metadata": {},
     "output_type": "execute_result"
    }
   ],
   "source": [
    "lr2.fit(Xtr2, ytr2)"
   ]
  },
  {
   "cell_type": "code",
   "execution_count": 191,
   "id": "athletic-joseph",
   "metadata": {},
   "outputs": [
    {
     "data": {
      "text/plain": [
       "0.12628722937965053"
      ]
     },
     "execution_count": 191,
     "metadata": {},
     "output_type": "execute_result"
    }
   ],
   "source": [
    "lr2.score(Xtr2, ytr2)"
   ]
  },
  {
   "cell_type": "code",
   "execution_count": 192,
   "id": "sweet-western",
   "metadata": {},
   "outputs": [
    {
     "data": {
      "text/plain": [
       "-0.4936259917766621"
      ]
     },
     "execution_count": 192,
     "metadata": {},
     "output_type": "execute_result"
    }
   ],
   "source": [
    "lr2.score(Xte2, yte2)"
   ]
  },
  {
   "cell_type": "code",
   "execution_count": null,
   "id": "included-friendship",
   "metadata": {},
   "outputs": [],
   "source": []
  }
 ],
 "metadata": {
  "kernelspec": {
   "display_name": "Python 3",
   "language": "python",
   "name": "python3"
  },
  "language_info": {
   "codemirror_mode": {
    "name": "ipython",
    "version": 3
   },
   "file_extension": ".py",
   "mimetype": "text/x-python",
   "name": "python",
   "nbconvert_exporter": "python",
   "pygments_lexer": "ipython3",
   "version": "3.8.5"
  }
 },
 "nbformat": 4,
 "nbformat_minor": 5
}
