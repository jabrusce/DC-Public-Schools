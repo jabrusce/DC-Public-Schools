{
 "cells": [
  {
   "cell_type": "markdown",
   "metadata": {},
   "source": [
    "## NOTES:\n",
    "* embedded is code to calculate each star school rank breakdown of absences percentages\n",
    "* embedded is code to extract school_ward_int and school_cluster_int columns"
   ]
  },
  {
   "cell_type": "code",
   "execution_count": 1,
   "metadata": {},
   "outputs": [],
   "source": [
    "import pandas as pd\n",
    "import numpy as np\n",
    "import matplotlib.pyplot as plt\n",
    "import seaborn as sns\n"
   ]
  },
  {
   "cell_type": "code",
   "execution_count": 78,
   "metadata": {},
   "outputs": [],
   "source": [
    "data = pd.read_csv('../data/cleaned/school_df_v2.csv')"
   ]
  },
  {
   "cell_type": "markdown",
   "metadata": {},
   "source": [
    "<br><br>\n",
    "## Added in columns to look at Cluster and Ward as integer values"
   ]
  },
  {
   "cell_type": "code",
   "execution_count": 79,
   "metadata": {},
   "outputs": [],
   "source": [
    "import re as re\n",
    "\n",
    "def extract_number(text):\n",
    "    num = re.findall(r'[0-9]+',text)\n",
    "    return \" \".join(num)\n",
    "\n",
    "data['school_ward_int'] = data['school_ward'].apply(lambda x: extract_number(x))\n",
    "data['school_cluster_int'] = data['school_cluster'].apply(lambda x: extract_number(x))"
   ]
  },
  {
   "cell_type": "code",
   "execution_count": 80,
   "metadata": {},
   "outputs": [
    {
     "data": {
      "text/plain": [
       "Index(['school_sector', 'school_code', 'school_name', 'school_grade_range',\n",
       "       'school_enrollment_SY1819', 'school_star_score_SY1819',\n",
       "       'school_star_rating_SY1819', 'school_capacity_SY1819',\n",
       "       'school_unfilled_seats_SY1819', 'school_latitude', 'school_longitude',\n",
       "       'school_cluster', 'school_ward', 'school_grade_band',\n",
       "       'school_enrollment_SY1718', 'school_star_score_SY1718',\n",
       "       'school_star_rating_SY1718', 'school_capacity_SY1718',\n",
       "       'school_unfilled_seats_SY1718',\n",
       "       'attnd_count_truancy_aged_students_SY1819', 'attnd_absence_1-5_SY1819',\n",
       "       'attnd_absence_6-10_SY1819', 'attnd_absence_11-20_SY1819',\n",
       "       'attnd_absence_20+_SY1819', 'attnd_count_truancy_aged_students_SY1718',\n",
       "       'attnd_absence_1-5_SY1718', 'attnd_absence_6-10_SY1718',\n",
       "       'attnd_absence_11-20_SY1718', 'attnd_absence_20+_SY1718',\n",
       "       'school_budgeted_amount_FY16', 'school_budgeted_enrollment_FY16',\n",
       "       'school_budgeted_amount_FY17', 'school_budgeted_enrollment_FY17',\n",
       "       'school_ward_int', 'school_cluster_int'],\n",
       "      dtype='object')"
      ]
     },
     "execution_count": 80,
     "metadata": {},
     "output_type": "execute_result"
    }
   ],
   "source": [
    "data.columns"
   ]
  },
  {
   "cell_type": "code",
   "execution_count": 82,
   "metadata": {},
   "outputs": [
    {
     "name": "stdout",
     "output_type": "stream",
     "text": [
      "<class 'pandas.core.frame.DataFrame'>\n",
      "RangeIndex: 116 entries, 0 to 115\n",
      "Data columns (total 35 columns):\n",
      " #   Column                                    Non-Null Count  Dtype  \n",
      "---  ------                                    --------------  -----  \n",
      " 0   school_sector                             116 non-null    object \n",
      " 1   school_code                               116 non-null    int64  \n",
      " 2   school_name                               116 non-null    object \n",
      " 3   school_grade_range                        116 non-null    object \n",
      " 4   school_enrollment_SY1819                  116 non-null    float64\n",
      " 5   school_star_score_SY1819                  109 non-null    float64\n",
      " 6   school_star_rating_SY1819                 109 non-null    float64\n",
      " 7   school_capacity_SY1819                    108 non-null    float64\n",
      " 8   school_unfilled_seats_SY1819              108 non-null    float64\n",
      " 9   school_latitude                           116 non-null    float64\n",
      " 10  school_longitude                          116 non-null    float64\n",
      " 11  school_cluster                            116 non-null    object \n",
      " 12  school_ward                               116 non-null    object \n",
      " 13  school_grade_band                         112 non-null    object \n",
      " 14  school_enrollment_SY1718                  115 non-null    float64\n",
      " 15  school_star_score_SY1718                  108 non-null    float64\n",
      " 16  school_star_rating_SY1718                 108 non-null    float64\n",
      " 17  school_capacity_SY1718                    107 non-null    float64\n",
      " 18  school_unfilled_seats_SY1718              107 non-null    float64\n",
      " 19  attnd_count_truancy_aged_students_SY1819  112 non-null    object \n",
      " 20  attnd_absence_1-5_SY1819                  112 non-null    object \n",
      " 21  attnd_absence_6-10_SY1819                 112 non-null    object \n",
      " 22  attnd_absence_11-20_SY1819                112 non-null    object \n",
      " 23  attnd_absence_20+_SY1819                  107 non-null    object \n",
      " 24  attnd_count_truancy_aged_students_SY1718  112 non-null    float64\n",
      " 25  attnd_absence_1-5_SY1718                  112 non-null    object \n",
      " 26  attnd_absence_6-10_SY1718                 112 non-null    object \n",
      " 27  attnd_absence_11-20_SY1718                112 non-null    object \n",
      " 28  attnd_absence_20+_SY1718                  112 non-null    object \n",
      " 29  school_budgeted_amount_FY16               110 non-null    float64\n",
      " 30  school_budgeted_enrollment_FY16           110 non-null    float64\n",
      " 31  school_budgeted_amount_FY17               112 non-null    float64\n",
      " 32  school_budgeted_enrollment_FY17           112 non-null    float64\n",
      " 33  school_ward_int                           116 non-null    object \n",
      " 34  school_cluster_int                        116 non-null    object \n",
      "dtypes: float64(17), int64(1), object(17)\n",
      "memory usage: 31.8+ KB\n"
     ]
    }
   ],
   "source": [
    "data.info()"
   ]
  },
  {
   "cell_type": "code",
   "execution_count": 83,
   "metadata": {},
   "outputs": [],
   "source": [
    "X = data.drop(columns=['school_ward', 'school_cluster', 'school_sector', 'school_name', 'school_grade_band', 'school_grade_range'])"
   ]
  },
  {
   "cell_type": "code",
   "execution_count": 84,
   "metadata": {},
   "outputs": [
    {
     "data": {
      "text/plain": [
       "(116, 29)"
      ]
     },
     "execution_count": 84,
     "metadata": {},
     "output_type": "execute_result"
    }
   ],
   "source": [
    "X.shape"
   ]
  },
  {
   "cell_type": "code",
   "execution_count": 91,
   "metadata": {},
   "outputs": [
    {
     "name": "stdout",
     "output_type": "stream",
     "text": [
      "<class 'pandas.core.frame.DataFrame'>\n",
      "RangeIndex: 116 entries, 0 to 115\n",
      "Data columns (total 29 columns):\n",
      " #   Column                                    Non-Null Count  Dtype  \n",
      "---  ------                                    --------------  -----  \n",
      " 0   school_code                               116 non-null    int64  \n",
      " 1   school_enrollment_SY1819                  116 non-null    float64\n",
      " 2   school_star_score_SY1819                  116 non-null    float64\n",
      " 3   school_star_rating_SY1819                 116 non-null    float64\n",
      " 4   school_capacity_SY1819                    116 non-null    float64\n",
      " 5   school_unfilled_seats_SY1819              116 non-null    float64\n",
      " 6   school_latitude                           116 non-null    float64\n",
      " 7   school_longitude                          116 non-null    float64\n",
      " 8   school_enrollment_SY1718                  116 non-null    float64\n",
      " 9   school_star_score_SY1718                  116 non-null    float64\n",
      " 10  school_star_rating_SY1718                 116 non-null    float64\n",
      " 11  school_capacity_SY1718                    116 non-null    float64\n",
      " 12  school_unfilled_seats_SY1718              116 non-null    float64\n",
      " 13  attnd_count_truancy_aged_students_SY1819  116 non-null    int64  \n",
      " 14  attnd_absence_1-5_SY1819                  116 non-null    int64  \n",
      " 15  attnd_absence_6-10_SY1819                 116 non-null    int64  \n",
      " 16  attnd_absence_11-20_SY1819                116 non-null    int64  \n",
      " 17  attnd_absence_20+_SY1819                  116 non-null    int64  \n",
      " 18  attnd_count_truancy_aged_students_SY1718  116 non-null    float64\n",
      " 19  attnd_absence_1-5_SY1718                  116 non-null    int64  \n",
      " 20  attnd_absence_6-10_SY1718                 116 non-null    int64  \n",
      " 21  attnd_absence_11-20_SY1718                116 non-null    int64  \n",
      " 22  attnd_absence_20+_SY1718                  116 non-null    int64  \n",
      " 23  school_budgeted_amount_FY16               116 non-null    float64\n",
      " 24  school_budgeted_enrollment_FY16           116 non-null    float64\n",
      " 25  school_budgeted_amount_FY17               116 non-null    float64\n",
      " 26  school_budgeted_enrollment_FY17           116 non-null    float64\n",
      " 27  school_ward_int                           116 non-null    int64  \n",
      " 28  school_cluster_int                        116 non-null    int64  \n",
      "dtypes: float64(17), int64(12)\n",
      "memory usage: 26.4 KB\n"
     ]
    }
   ],
   "source": [
    "X.info()"
   ]
  },
  {
   "cell_type": "code",
   "execution_count": 107,
   "metadata": {},
   "outputs": [],
   "source": [
    "X = X.replace([np.inf, -np.inf], np.nan)\n",
    "X = X.replace(np.nan, -1)\n",
    "X = X.replace('<10', 5)\n",
    "X = X.replace('n<10', 5)"
   ]
  },
  {
   "cell_type": "code",
   "execution_count": 108,
   "metadata": {},
   "outputs": [],
   "source": [
    "X = X.apply(pd.to_numeric)"
   ]
  },
  {
   "cell_type": "code",
   "execution_count": 109,
   "metadata": {},
   "outputs": [
    {
     "data": {
      "text/plain": [
       "(116, 29)"
      ]
     },
     "execution_count": 109,
     "metadata": {},
     "output_type": "execute_result"
    }
   ],
   "source": [
    "X.shape"
   ]
  },
  {
   "cell_type": "code",
   "execution_count": 110,
   "metadata": {},
   "outputs": [],
   "source": [
    "from sklearn.preprocessing import StandardScaler\n",
    "\n",
    "X_scaled = StandardScaler().fit_transform(X)"
   ]
  },
  {
   "cell_type": "code",
   "execution_count": 111,
   "metadata": {},
   "outputs": [
    {
     "data": {
      "text/plain": [
       "DBSCAN(eps=2.3, min_samples=4)"
      ]
     },
     "execution_count": 111,
     "metadata": {},
     "output_type": "execute_result"
    }
   ],
   "source": [
    "from sklearn.cluster import DBSCAN\n",
    "from sklearn.metrics import silhouette_score\n",
    "\n",
    "dbscan=DBSCAN(eps=2.3, min_samples=4)\n",
    "dbscan.fit(X_scaled)"
   ]
  },
  {
   "cell_type": "code",
   "execution_count": 112,
   "metadata": {},
   "outputs": [
    {
     "data": {
      "text/plain": [
       "{-1, 0, 1}"
      ]
     },
     "execution_count": 112,
     "metadata": {},
     "output_type": "execute_result"
    }
   ],
   "source": [
    "set(dbscan.labels_)"
   ]
  },
  {
   "cell_type": "code",
   "execution_count": 113,
   "metadata": {},
   "outputs": [
    {
     "data": {
      "text/plain": [
       "-0.012640214205919535"
      ]
     },
     "execution_count": 113,
     "metadata": {},
     "output_type": "execute_result"
    }
   ],
   "source": [
    "silhouette_score(X_scaled, dbscan.labels_)"
   ]
  },
  {
   "cell_type": "code",
   "execution_count": 116,
   "metadata": {},
   "outputs": [],
   "source": [
    "def find_best_silhouette(df): \n",
    "    \"\"\"select best eps and min_samples for a DBSCAN\n",
    "    Args:\n",
    "        df (pandas DataFrame): data to cluster\n",
    "    Returns:\n",
    "        None\n",
    "    \"\"\"\n",
    "    max_score=-1     \n",
    "    ss = StandardScaler()\n",
    "    df_scaled = ss.fit_transform(df)\n",
    "\n",
    "    for eps in np.linspace(.2, 5, 50):\n",
    "        for minsamples in range(2, len(df/2)):\n",
    "            dbscan = DBSCAN(eps=eps, min_samples=minsamples)\n",
    "            dbscan.fit(df_scaled)\n",
    "            if len(set(dbscan.labels_)) > 1:\n",
    "                score = silhouette_score(df_scaled, dbscan.labels_)\n",
    "                nclusters = len(set(dbscan.labels_))\n",
    "                if score > max_score:\n",
    "                    max_score = score\n",
    "                    best_eps = eps\n",
    "                    best_minsamples = minsamples\n",
    "                    best_clusters = nclusters\n",
    "    print(f'Best silhouette score was {round(max_score, 2)}')\n",
    "    print(f'Best eps was {round(best_eps, 2)}')\n",
    "    print(f'Best min_samples was {best_minsamples}.')\n",
    "    print(f'Model found {best_clusters} clusters.')\n",
    "    return"
   ]
  },
  {
   "cell_type": "code",
   "execution_count": 117,
   "metadata": {},
   "outputs": [
    {
     "name": "stdout",
     "output_type": "stream",
     "text": [
      "Best silhouette score was 0.56\n",
      "Best eps was 5.0\n",
      "Best min_samples was 2.\n",
      "Model found 2 clusters.\n"
     ]
    }
   ],
   "source": [
    "find_best_silhouette(X_scaled)"
   ]
  },
  {
   "cell_type": "code",
   "execution_count": 119,
   "metadata": {},
   "outputs": [
    {
     "data": {
      "text/plain": [
       "Index(['school_code', 'school_enrollment_SY1819', 'school_star_score_SY1819',\n",
       "       'school_star_rating_SY1819', 'school_capacity_SY1819',\n",
       "       'school_unfilled_seats_SY1819', 'school_latitude', 'school_longitude',\n",
       "       'school_enrollment_SY1718', 'school_star_score_SY1718',\n",
       "       'school_star_rating_SY1718', 'school_capacity_SY1718',\n",
       "       'school_unfilled_seats_SY1718',\n",
       "       'attnd_count_truancy_aged_students_SY1819', 'attnd_absence_1-5_SY1819',\n",
       "       'attnd_absence_6-10_SY1819', 'attnd_absence_11-20_SY1819',\n",
       "       'attnd_absence_20+_SY1819', 'attnd_count_truancy_aged_students_SY1718',\n",
       "       'attnd_absence_1-5_SY1718', 'attnd_absence_6-10_SY1718',\n",
       "       'attnd_absence_11-20_SY1718', 'attnd_absence_20+_SY1718',\n",
       "       'school_budgeted_amount_FY16', 'school_budgeted_enrollment_FY16',\n",
       "       'school_budgeted_amount_FY17', 'school_budgeted_enrollment_FY17',\n",
       "       'school_ward_int', 'school_cluster_int'],\n",
       "      dtype='object')"
      ]
     },
     "execution_count": 119,
     "metadata": {},
     "output_type": "execute_result"
    }
   ],
   "source": [
    "X.columns"
   ]
  },
  {
   "cell_type": "code",
   "execution_count": 121,
   "metadata": {},
   "outputs": [],
   "source": [
    "cluster_columns = ['school_code', 'school_star_score_SY1819', 'school_enrollment_SY1819', 'school_star_rating_SY1819', 'school_capacity_SY1819','attnd_absence_20+_SY1819', 'school_budgeted_amount_FY17','school_ward_int', 'school_cluster_int']"
   ]
  },
  {
   "cell_type": "code",
   "execution_count": 124,
   "metadata": {},
   "outputs": [],
   "source": [
    "A = X[cluster_columns]"
   ]
  },
  {
   "cell_type": "code",
   "execution_count": 127,
   "metadata": {},
   "outputs": [
    {
     "name": "stdout",
     "output_type": "stream",
     "text": [
      "Best silhouette score was 0.57\n",
      "Best eps was 4.41\n",
      "Best min_samples was 5.\n",
      "Model found 2 clusters.\n"
     ]
    }
   ],
   "source": [
    "A_scaled = StandardScaler().fit_transform(A)\n",
    "find_best_silhouette(A_scaled)"
   ]
  },
  {
   "cell_type": "code",
   "execution_count": null,
   "metadata": {},
   "outputs": [],
   "source": []
  },
  {
   "cell_type": "code",
   "execution_count": null,
   "metadata": {},
   "outputs": [],
   "source": []
  },
  {
   "cell_type": "code",
   "execution_count": null,
   "metadata": {},
   "outputs": [],
   "source": []
  },
  {
   "cell_type": "markdown",
   "metadata": {},
   "source": [
    "<br><br>\n",
    "## Generate Values and Summary Report for Absence Percentages Breakdown per Star Rating\n",
    "* current code is worded for every star (1-5) for SY1718"
   ]
  },
  {
   "cell_type": "code",
   "execution_count": null,
   "metadata": {},
   "outputs": [],
   "source": [
    "for i in range(1,6):\n",
    "    \n",
    "    print(f'SY1718 Star Rank of {i}: Summary')\n",
    "    \n",
    "    star_rank_df = data[data['school_star_rating_SY1718'] == i]\n",
    "\n",
    "    count_enrolled = star_rank_df['school_enrollment_SY1718'].sum()\n",
    "    count_any = star_rank_df['students_with_absences_SY1718'].sum()\n",
    "    count_0 = star_rank_df['school_enrollment_SY1718'].sum()-star_rank_df['students_with_absences_SY1718'].sum()\n",
    "    count_1_5 = star_rank_df['attnd_absence_1-5_SY1718'].sum()\n",
    "    count_6_10 = star_rank_df['attnd_absence_6-10_SY1718'].sum()\n",
    "    count_11_20 = star_rank_df['attnd_absence_11-20_SY1718'].sum()\n",
    "    count_20plus = star_rank_df['attnd_absence_20+_SY1718'].sum()\n",
    "    \n",
    "    pct_0 = (star_rank_df['school_enrollment_SY1718'].sum()-star_rank_df['students_with_absences_SY1718'].sum())/star_rank_df['school_enrollment_SY1718'].sum()\n",
    "    pct_1_5 = star_rank_df['attnd_absence_1-5_SY1718'].sum()/star_rank_df['school_enrollment_SY1718'].sum()\n",
    "    pct_6_10 = star_rank_df['attnd_absence_6-10_SY1718'].sum()/star_rank_df['school_enrollment_SY1718'].sum()\n",
    "    pct_11_20 = star_rank_df['attnd_absence_11-20_SY1718'].sum()/star_rank_df['school_enrollment_SY1718'].sum()\n",
    "    pct_20plus = star_rank_df['attnd_absence_20+_SY1718'].sum()/star_rank_df['school_enrollment_SY1718'].sum()\n",
    "    \n",
    "    print('count of students in rank ', i, ' school:', count_enrolled)\n",
    "    print('count of students in rank ', i, ' school with any absences:', count_any)\n",
    "    print('count of students in rank ', i, ' school with no absences:', count_0)\n",
    "    print('percent of rank ', i, ' school students with no absences:', pct_0)\n",
    "    print('count of students in rank ', i, ' school with 1-5 absences:', count_1_5)\n",
    "    print('percent of rank ', i, ' school students with 1-5 absences:', pct_1_5)\n",
    "    print('count of students in rank ', i, ' school with 6-10 absences:', count_6_10)\n",
    "    print('percent of rank ', i, ' school students with 6-10 absences:', pct_6_10)\n",
    "    print('count of students in rank ', i, ' school with 11-20 absences:', count_11_20)\n",
    "    print('percent of rank ', i, ' school students with 11-20 absences:', pct_11_20)\n",
    "    print('count of students in rank ', i, ' school with 20+ absences:', count_20plus)\n",
    "    print('percent of rank ', i, ' school students with 20+ absences:', pct_20plus)\n",
    "    print('\\n')"
   ]
  },
  {
   "cell_type": "markdown",
   "metadata": {},
   "source": [
    "<br><br>\n",
    "## Generate Pie Charts for Absence Percentages Breakdown per Star Rating\n",
    "* current code is worded for every star (1-5) for SY1718"
   ]
  },
  {
   "cell_type": "code",
   "execution_count": null,
   "metadata": {},
   "outputs": [],
   "source": [
    "def func(pct, values): \n",
    "    absolute = int(pct / 100.*np.sum(values)) \n",
    "    return \"{:.1f}%\".format(pct, absolute)\n",
    "\n",
    "for i in range(1,6):\n",
    "\n",
    "    star_rank_df = data[data['school_star_rating_SY1718'] == i]\n",
    "\n",
    "    pct_0 = (star_rank_df['school_enrollment_SY1718'].sum()-star_rank_df['students_with_absences_SY1718'].sum())/star_rank_df['school_enrollment_SY1718'].sum()\n",
    "    pct_1_5 = star_rank_df['attnd_absence_1-5_SY1718'].sum()/star_rank_df['school_enrollment_SY1718'].sum()\n",
    "    pct_6_10 = star_rank_df['attnd_absence_6-10_SY1718'].sum()/star_rank_df['school_enrollment_SY1718'].sum()\n",
    "    pct_11_20 = star_rank_df['attnd_absence_11-20_SY1718'].sum()/star_rank_df['school_enrollment_SY1718'].sum()\n",
    "    pct_20plus = star_rank_df['attnd_absence_20+_SY1718'].sum()/star_rank_df['school_enrollment_SY1718'].sum()\n",
    "\n",
    "    pcts = np.array([pct_0,pct_1_5,pct_6_10,pct_11_20,pct_20plus])\n",
    "    pct_labels = [\"0\", \"1-5\", \"6-10\", \"11-20\", \"20+\"]\n",
    "\n",
    "    wedges, text, autotexts = plt.pie(pcts, labels = pct_labels, autopct = lambda pct: func(pct, pcts))\n",
    "\n",
    "    plt.setp(autotexts, size = 10, color='white')\n",
    "    plt.title(f'Star Rank {i} - SY17/18')\n",
    "    plt.show()"
   ]
  },
  {
   "cell_type": "markdown",
   "metadata": {},
   "source": [
    "<br><br>\n",
    "## Code to create dataframe of only static school identification values (code, ward, cluster, etc.) and columns pertaining to SY1819 and FY17"
   ]
  },
  {
   "cell_type": "code",
   "execution_count": null,
   "metadata": {},
   "outputs": [],
   "source": [
    "data.drop(columns = data.filter(regex='SY1718$',axis=1)).drop(columns = data.filter(regex='FY16$',axis=1))"
   ]
  },
  {
   "cell_type": "markdown",
   "metadata": {},
   "source": [
    "<br><br>\n",
    "## Code to create dataframe of only static school identification values (code, ward, cluster, etc.) and columns pertaining to SY1718 and FY16"
   ]
  },
  {
   "cell_type": "code",
   "execution_count": null,
   "metadata": {},
   "outputs": [],
   "source": [
    "data.drop(columns = data.filter(regex='SY1819$',axis=1)).drop(columns = data.filter(regex='FY17$',axis=1))"
   ]
  },
  {
   "cell_type": "code",
   "execution_count": null,
   "metadata": {},
   "outputs": [],
   "source": []
  },
  {
   "cell_type": "code",
   "execution_count": null,
   "metadata": {},
   "outputs": [],
   "source": []
  },
  {
   "cell_type": "code",
   "execution_count": null,
   "metadata": {},
   "outputs": [],
   "source": []
  },
  {
   "cell_type": "code",
   "execution_count": null,
   "metadata": {},
   "outputs": [],
   "source": []
  },
  {
   "cell_type": "code",
   "execution_count": null,
   "metadata": {},
   "outputs": [],
   "source": []
  },
  {
   "cell_type": "code",
   "execution_count": null,
   "metadata": {},
   "outputs": [],
   "source": []
  },
  {
   "cell_type": "code",
   "execution_count": null,
   "metadata": {},
   "outputs": [],
   "source": []
  },
  {
   "cell_type": "code",
   "execution_count": null,
   "metadata": {},
   "outputs": [],
   "source": []
  }
 ],
 "metadata": {
  "kernelspec": {
   "display_name": "Python 3",
   "language": "python",
   "name": "python3"
  },
  "language_info": {
   "codemirror_mode": {
    "name": "ipython",
    "version": 3
   },
   "file_extension": ".py",
   "mimetype": "text/x-python",
   "name": "python",
   "nbconvert_exporter": "python",
   "pygments_lexer": "ipython3",
   "version": "3.8.2"
  }
 },
 "nbformat": 4,
 "nbformat_minor": 4
}
