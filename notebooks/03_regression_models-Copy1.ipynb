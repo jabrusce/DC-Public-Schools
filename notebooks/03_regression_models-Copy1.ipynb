{
 "cells": [
  {
   "cell_type": "markdown",
   "metadata": {},
   "source": [
    "# Regression Modeling"
   ]
  },
  {
   "cell_type": "markdown",
   "metadata": {},
   "source": [
    "### Import Libraries and Data"
   ]
  },
  {
   "cell_type": "code",
   "execution_count": 1,
   "metadata": {},
   "outputs": [],
   "source": [
    "import pandas as pd\n",
    "import seaborn as sns\n",
    "import numpy as np\n",
    "import matplotlib.pyplot as plt\n",
    "import scipy as sp\n",
    "\n",
    "from sklearn.linear_model import LinearRegression, Ridge, Lasso, ElasticNet\n",
    "from sklearn.neighbors import KNeighborsRegressor\n",
    "from sklearn.model_selection import train_test_split, GridSearchCV, cross_val_score\n",
    "from sklearn.metrics import mean_absolute_error, mean_squared_error\n",
    "from sklearn.svm import SVR\n",
    "from sklearn.tree import DecisionTreeRegressor\n",
    "from sklearn.preprocessing import StandardScaler, PolynomialFeatures\n",
    "from sklearn.compose import make_column_transformer, make_column_selector, TransformedTargetRegressor\n",
    "from sklearn.pipeline import make_pipeline\n",
    "from sklearn.ensemble import RandomForestRegressor, BaggingRegressor, AdaBoostRegressor, GradientBoostingRegressor"
   ]
  },
  {
   "cell_type": "code",
   "execution_count": 2,
   "metadata": {},
   "outputs": [],
   "source": [
    "df = pd.read_csv('./data/school_df_v6.csv')"
   ]
  },
  {
   "cell_type": "code",
   "execution_count": 3,
   "metadata": {},
   "outputs": [],
   "source": [
    "df = df.iloc[:,:45]\n",
    "df.dropna(how='all', inplace=True)"
   ]
  },
  {
   "cell_type": "code",
   "execution_count": 4,
   "metadata": {},
   "outputs": [],
   "source": [
    "# drop 2 schools that have no attendance data\n",
    "df.drop(df[df['code'] == 201].index, inplace = True)\n",
    "df.drop(df[df['code'] == 347].index, inplace = True)\n",
    "df = df.replace(-1,np.nan)\n",
    "df.dropna(how='any',inplace=True)"
   ]
  },
  {
   "cell_type": "code",
   "execution_count": 5,
   "metadata": {},
   "outputs": [],
   "source": [
    "df = df.replace(-1,np.nan)\n",
    "df.dropna(how='any',inplace=True)"
   ]
  },
  {
   "cell_type": "code",
   "execution_count": 6,
   "metadata": {},
   "outputs": [
    {
     "data": {
      "text/plain": [
       "(81, 45)"
      ]
     },
     "execution_count": 6,
     "metadata": {},
     "output_type": "execute_result"
    }
   ],
   "source": [
    "df.shape"
   ]
  },
  {
   "cell_type": "code",
   "execution_count": 7,
   "metadata": {},
   "outputs": [
    {
     "data": {
      "text/html": [
       "<div>\n",
       "<style scoped>\n",
       "    .dataframe tbody tr th:only-of-type {\n",
       "        vertical-align: middle;\n",
       "    }\n",
       "\n",
       "    .dataframe tbody tr th {\n",
       "        vertical-align: top;\n",
       "    }\n",
       "\n",
       "    .dataframe thead th {\n",
       "        text-align: right;\n",
       "    }\n",
       "</style>\n",
       "<table border=\"1\" class=\"dataframe\">\n",
       "  <thead>\n",
       "    <tr style=\"text-align: right;\">\n",
       "      <th></th>\n",
       "      <th>code</th>\n",
       "      <th>name</th>\n",
       "      <th>grade_band</th>\n",
       "      <th>enrollment_SY1718</th>\n",
       "      <th>enrollment_SY1819</th>\n",
       "      <th>star_score_SY1718</th>\n",
       "      <th>star_score_SY1819</th>\n",
       "      <th>star_rating_SY1718</th>\n",
       "      <th>star_rating_SY1819</th>\n",
       "      <th>capacity_SY1718</th>\n",
       "      <th>...</th>\n",
       "      <th>count_20+_SY1718</th>\n",
       "      <th>pct_20+_SY1718</th>\n",
       "      <th>budgeted_amount_FY16</th>\n",
       "      <th>budgeted_enrollment_FY16</th>\n",
       "      <th>budgeted_amount_FY17</th>\n",
       "      <th>budgeted_enrollment_FY17</th>\n",
       "      <th>pct_meet_exceed_math_SY1718</th>\n",
       "      <th>pct_meet_exceed_ela_SY1718</th>\n",
       "      <th>pct_meet_exceed_math_SY1819</th>\n",
       "      <th>pct_meet_exceed_ela_SY1819</th>\n",
       "    </tr>\n",
       "  </thead>\n",
       "  <tbody>\n",
       "    <tr>\n",
       "      <th>0</th>\n",
       "      <td>175.0</td>\n",
       "      <td>School-Within-School @ Goding</td>\n",
       "      <td>Elementary</td>\n",
       "      <td>308.0</td>\n",
       "      <td>313.0</td>\n",
       "      <td>88.55</td>\n",
       "      <td>88.26</td>\n",
       "      <td>5.0</td>\n",
       "      <td>5.0</td>\n",
       "      <td>444.0</td>\n",
       "      <td>...</td>\n",
       "      <td>0.0</td>\n",
       "      <td>0.000000</td>\n",
       "      <td>1.059280e+07</td>\n",
       "      <td>5880.0</td>\n",
       "      <td>3815456.0</td>\n",
       "      <td>2674740.0</td>\n",
       "      <td>0.765</td>\n",
       "      <td>0.765</td>\n",
       "      <td>0.743</td>\n",
       "      <td>0.752</td>\n",
       "    </tr>\n",
       "    <tr>\n",
       "      <th>2</th>\n",
       "      <td>202.0</td>\n",
       "      <td>Aiton Elementary School</td>\n",
       "      <td>Elementary</td>\n",
       "      <td>243.0</td>\n",
       "      <td>244.0</td>\n",
       "      <td>43.85</td>\n",
       "      <td>10.79</td>\n",
       "      <td>3.0</td>\n",
       "      <td>1.0</td>\n",
       "      <td>529.0</td>\n",
       "      <td>...</td>\n",
       "      <td>12.0</td>\n",
       "      <td>0.049383</td>\n",
       "      <td>7.429920e+06</td>\n",
       "      <td>2650.0</td>\n",
       "      <td>3780814.0</td>\n",
       "      <td>2499672.0</td>\n",
       "      <td>0.129</td>\n",
       "      <td>0.171</td>\n",
       "      <td>0.153</td>\n",
       "      <td>0.056</td>\n",
       "    </tr>\n",
       "  </tbody>\n",
       "</table>\n",
       "<p>2 rows × 45 columns</p>\n",
       "</div>"
      ],
      "text/plain": [
       "    code                           name  grade_band  enrollment_SY1718  \\\n",
       "0  175.0  School-Within-School @ Goding  Elementary              308.0   \n",
       "2  202.0        Aiton Elementary School  Elementary              243.0   \n",
       "\n",
       "   enrollment_SY1819  star_score_SY1718  star_score_SY1819  \\\n",
       "0              313.0              88.55              88.26   \n",
       "2              244.0              43.85              10.79   \n",
       "\n",
       "   star_rating_SY1718  star_rating_SY1819  capacity_SY1718  ...  \\\n",
       "0                 5.0                 5.0            444.0  ...   \n",
       "2                 3.0                 1.0            529.0  ...   \n",
       "\n",
       "   count_20+_SY1718  pct_20+_SY1718  budgeted_amount_FY16  \\\n",
       "0               0.0        0.000000          1.059280e+07   \n",
       "2              12.0        0.049383          7.429920e+06   \n",
       "\n",
       "   budgeted_enrollment_FY16  budgeted_amount_FY17  budgeted_enrollment_FY17  \\\n",
       "0                    5880.0             3815456.0                 2674740.0   \n",
       "2                    2650.0             3780814.0                 2499672.0   \n",
       "\n",
       "   pct_meet_exceed_math_SY1718  pct_meet_exceed_ela_SY1718  \\\n",
       "0                        0.765                       0.765   \n",
       "2                        0.129                       0.171   \n",
       "\n",
       "   pct_meet_exceed_math_SY1819  pct_meet_exceed_ela_SY1819  \n",
       "0                        0.743                       0.752  \n",
       "2                        0.153                       0.056  \n",
       "\n",
       "[2 rows x 45 columns]"
      ]
     },
     "execution_count": 7,
     "metadata": {},
     "output_type": "execute_result"
    }
   ],
   "source": [
    "df.head(2)"
   ]
  },
  {
   "cell_type": "code",
   "execution_count": 8,
   "metadata": {},
   "outputs": [],
   "source": [
    "df = df[df['star_rating_SY1718'] !=-1]"
   ]
  },
  {
   "cell_type": "code",
   "execution_count": 9,
   "metadata": {},
   "outputs": [],
   "source": [
    "X=df[['enrollment_SY1718', 'enrollment_SY1819', 'capacity_SY1718', \n",
    "        'capacity_SY1819', 'latitude', 'longitude', 'cluster', 'ward','pct_0_SY1819', \n",
    "        'pct_1-5_SY1819', 'pct_6-10_SY1819', 'pct_11-20_SY1819', 'pct_20+_SY1819', \n",
    "        'pct_0_SY1718', 'pct_1-5_SY1718', 'pct_6-10__SY1718', 'pct_11-20_SY1718', \n",
    "        'pct_20+_SY1718', 'budgeted_amount_FY16', 'budgeted_enrollment_FY16', \n",
    "        'budgeted_amount_FY17', 'budgeted_enrollment_FY17', 'pct_meet_exceed_math_SY1718', \n",
    "        'pct_meet_exceed_ela_SY1718', 'pct_meet_exceed_math_SY1819', 'pct_meet_exceed_ela_SY1819']]"
   ]
  },
  {
   "cell_type": "code",
   "execution_count": 10,
   "metadata": {},
   "outputs": [],
   "source": [
    "y = df['star_rating_SY1718']"
   ]
  },
  {
   "cell_type": "code",
   "execution_count": 11,
   "metadata": {},
   "outputs": [],
   "source": [
    "X_train, X_test, y_train, y_test = train_test_split(X, y, random_state=7)"
   ]
  },
  {
   "cell_type": "code",
   "execution_count": 12,
   "metadata": {},
   "outputs": [],
   "source": [
    "sscaler = StandardScaler()\n",
    "X_train_scaled = sscaler.fit_transform(X_train)\n",
    "X_test_scaled = sscaler.fit_transform(X_test)"
   ]
  },
  {
   "cell_type": "markdown",
   "metadata": {},
   "source": [
    "### Null Model"
   ]
  },
  {
   "cell_type": "code",
   "execution_count": 13,
   "metadata": {},
   "outputs": [
    {
     "data": {
      "text/plain": [
       "3.0    29\n",
       "2.0    20\n",
       "4.0    13\n",
       "5.0    11\n",
       "1.0     8\n",
       "Name: star_rating_SY1718, dtype: int64"
      ]
     },
     "execution_count": 13,
     "metadata": {},
     "output_type": "execute_result"
    }
   ],
   "source": [
    "y.value_counts()"
   ]
  },
  {
   "cell_type": "code",
   "execution_count": 14,
   "metadata": {},
   "outputs": [
    {
     "data": {
      "text/plain": [
       "3.0    0.358025\n",
       "2.0    0.246914\n",
       "4.0    0.160494\n",
       "5.0    0.135802\n",
       "1.0    0.098765\n",
       "Name: star_rating_SY1718, dtype: float64"
      ]
     },
     "execution_count": 14,
     "metadata": {},
     "output_type": "execute_result"
    }
   ],
   "source": [
    "#null model will be 34.5%\n",
    "y.value_counts(normalize=True)"
   ]
  },
  {
   "cell_type": "markdown",
   "metadata": {},
   "source": [
    "### Linear Regression"
   ]
  },
  {
   "cell_type": "code",
   "execution_count": 15,
   "metadata": {},
   "outputs": [
    {
     "data": {
      "text/plain": [
       "-460845212343844.56"
      ]
     },
     "execution_count": 15,
     "metadata": {},
     "output_type": "execute_result"
    }
   ],
   "source": [
    "lr = LinearRegression()\n",
    "lr.fit(X_train_scaled, y_train)\n",
    "lr.score(X_test_scaled, y_test)"
   ]
  },
  {
   "cell_type": "markdown",
   "metadata": {},
   "source": [
    "### Ridge"
   ]
  },
  {
   "cell_type": "code",
   "execution_count": 16,
   "metadata": {},
   "outputs": [
    {
     "data": {
      "text/plain": [
       "0.6817591357894337"
      ]
     },
     "execution_count": 16,
     "metadata": {},
     "output_type": "execute_result"
    }
   ],
   "source": [
    "ridge = Ridge()\n",
    "ridge.fit(X_train_scaled, y_train)\n",
    "ridge.score(X_test_scaled, y_test)"
   ]
  },
  {
   "cell_type": "code",
   "execution_count": 17,
   "metadata": {},
   "outputs": [
    {
     "data": {
      "text/plain": [
       "0.7278814777927329"
      ]
     },
     "execution_count": 17,
     "metadata": {},
     "output_type": "execute_result"
    }
   ],
   "source": [
    "pipe = make_pipeline(StandardScaler(), Ridge())\n",
    "params = {'ridge__alpha': ['.01', '0.1', '1', '10', '100', '200', '500', '1000', '10_000'],\n",
    "          'ridge__normalize': [True, False]}\n",
    "ridge_grid = GridSearchCV(estimator=pipe, param_grid=params, n_jobs=-1)\n",
    "ridge_grid.fit(X_train, y_train)\n",
    "ridge_grid.score(X_test, y_test)"
   ]
  },
  {
   "cell_type": "code",
   "execution_count": 19,
   "metadata": {},
   "outputs": [
    {
     "data": {
      "text/plain": [
       "0.7182374882199523"
      ]
     },
     "execution_count": 19,
     "metadata": {},
     "output_type": "execute_result"
    }
   ],
   "source": [
    "ridge_grid.score(X_train, y_train)"
   ]
  },
  {
   "cell_type": "code",
   "execution_count": 32,
   "metadata": {},
   "outputs": [],
   "source": [
    "from sklearn.metrics import balanced_accuracy_score"
   ]
  },
  {
   "cell_type": "code",
   "execution_count": 36,
   "metadata": {},
   "outputs": [
    {
     "data": {
      "text/plain": [
       "0.6618947425880253"
      ]
     },
     "execution_count": 36,
     "metadata": {},
     "output_type": "execute_result"
    }
   ],
   "source": [
    "mean_squared_error(y_test, ridge_grid.predict(X_test), squared=False)"
   ]
  },
  {
   "cell_type": "code",
   "execution_count": 33,
   "metadata": {},
   "outputs": [],
   "source": [
    "y_pred = ridge_grid.predict(X_test)"
   ]
  },
  {
   "cell_type": "markdown",
   "metadata": {},
   "source": [
    "### Lasso"
   ]
  },
  {
   "cell_type": "code",
   "execution_count": 20,
   "metadata": {},
   "outputs": [
    {
     "data": {
      "text/plain": [
       "-0.057690140845070514"
      ]
     },
     "execution_count": 20,
     "metadata": {},
     "output_type": "execute_result"
    }
   ],
   "source": [
    "lasso = Lasso()\n",
    "lasso.fit(X_train_scaled, y_train)\n",
    "lasso.score(X_test_scaled, y_test)"
   ]
  },
  {
   "cell_type": "markdown",
   "metadata": {},
   "source": [
    "### Decision Tree Regressor"
   ]
  },
  {
   "cell_type": "code",
   "execution_count": 21,
   "metadata": {},
   "outputs": [
    {
     "data": {
      "text/plain": [
       "0.4971830985915493"
      ]
     },
     "execution_count": 21,
     "metadata": {},
     "output_type": "execute_result"
    }
   ],
   "source": [
    "dtree = DecisionTreeRegressor()\n",
    "dtree.fit(X_train_scaled, y_train)\n",
    "dtree.score(X_test_scaled, y_test)"
   ]
  },
  {
   "cell_type": "code",
   "execution_count": 22,
   "metadata": {},
   "outputs": [
    {
     "name": "stderr",
     "output_type": "stream",
     "text": [
      "c:\\programdata\\miniconda3\\lib\\site-packages\\sklearn\\model_selection\\_search.py:918: UserWarning: One or more of the test scores are non-finite: [       nan 0.04685359 0.03213849 0.06960711 0.15613876 0.18792431\n",
      " 0.28296297 0.48970377 0.52352962]\n",
      "  warnings.warn(\n"
     ]
    },
    {
     "data": {
      "text/plain": [
       "0.49232914059781996"
      ]
     },
     "execution_count": 22,
     "metadata": {},
     "output_type": "execute_result"
    }
   ],
   "source": [
    "dtree_pipe = make_pipeline(StandardScaler(), DecisionTreeRegressor())\n",
    "params = {'decisiontreeregressor__min_samples_split': [1, 2, 3, 5, 7, 10, 15, 20, 30]}\n",
    "dtree_grid = GridSearchCV(estimator=dtree_pipe, param_grid=params, n_jobs=-1)\n",
    "dtree_grid.fit(X_train, y_train)\n",
    "dtree_grid.score(X_test, y_test)"
   ]
  },
  {
   "cell_type": "markdown",
   "metadata": {},
   "source": [
    "### KNN Regressor"
   ]
  },
  {
   "cell_type": "code",
   "execution_count": 23,
   "metadata": {},
   "outputs": [
    {
     "data": {
      "text/plain": [
       "0.620225352112676"
      ]
     },
     "execution_count": 23,
     "metadata": {},
     "output_type": "execute_result"
    }
   ],
   "source": [
    "knn = KNeighborsRegressor()\n",
    "knn.fit(X_train_scaled, y_train)\n",
    "knn.score(X_test_scaled, y_test)"
   ]
  },
  {
   "cell_type": "code",
   "execution_count": 24,
   "metadata": {},
   "outputs": [
    {
     "data": {
      "text/plain": [
       "0.6909456740442657"
      ]
     },
     "execution_count": 24,
     "metadata": {},
     "output_type": "execute_result"
    }
   ],
   "source": [
    "knn_pipe = make_pipeline(StandardScaler(), KNeighborsRegressor())\n",
    "params = {'kneighborsregressor__n_neighbors': [1, 2, 3, 5, 7, 10, 15, 20, 30],\n",
    "         'kneighborsregressor__algorithm': ['auto', 'ball_tree', 'kd_tree', 'brute']}\n",
    "knn_grid = GridSearchCV(estimator=knn_pipe, param_grid=params, n_jobs=-1)\n",
    "knn_grid.fit(X_train, y_train)\n",
    "knn_grid.score(X_test, y_test)"
   ]
  },
  {
   "cell_type": "markdown",
   "metadata": {},
   "source": [
    "### Random Forest Regressor"
   ]
  },
  {
   "cell_type": "code",
   "execution_count": 37,
   "metadata": {},
   "outputs": [
    {
     "data": {
      "text/plain": [
       "0.6068829577464789"
      ]
     },
     "execution_count": 37,
     "metadata": {},
     "output_type": "execute_result"
    }
   ],
   "source": [
    "rforest = RandomForestRegressor()\n",
    "rforest.fit(X_train_scaled, y_train)\n",
    "rforest.score(X_test_scaled, y_test)"
   ]
  },
  {
   "cell_type": "code",
   "execution_count": 38,
   "metadata": {},
   "outputs": [
    {
     "data": {
      "text/plain": [
       "0.6287798943661973"
      ]
     },
     "execution_count": 38,
     "metadata": {},
     "output_type": "execute_result"
    }
   ],
   "source": [
    "rforest_pipe = make_pipeline(StandardScaler(), RandomForestRegressor())\n",
    "params = {'randomforestregressor__n_estimators': [50, 100, 200, 300, 500, 1000]}\n",
    "rforest_grid = GridSearchCV(estimator=rforest_pipe, param_grid=params, n_jobs=-1)\n",
    "rforest_grid.fit(X_train, y_train)\n",
    "rforest_grid.score(X_test, y_test)"
   ]
  },
  {
   "cell_type": "code",
   "execution_count": 31,
   "metadata": {},
   "outputs": [
    {
     "data": {
      "text/plain": [
       "0.959005424954792"
      ]
     },
     "execution_count": 31,
     "metadata": {},
     "output_type": "execute_result"
    }
   ],
   "source": [
    "rforest_grid.score(X_train, y_train)"
   ]
  },
  {
   "cell_type": "code",
   "execution_count": 27,
   "metadata": {},
   "outputs": [
    {
     "data": {
      "text/plain": [
       "{'randomforestregressor__n_estimators': 300}"
      ]
     },
     "execution_count": 27,
     "metadata": {},
     "output_type": "execute_result"
    }
   ],
   "source": [
    "rforest_grid.best_params_"
   ]
  },
  {
   "cell_type": "code",
   "execution_count": 28,
   "metadata": {},
   "outputs": [],
   "source": [
    "# rforest_pipe = make_pipeline(StandardScaler(), RandomForestRegressor())\n",
    "# params = {'randomforestregressor__n_estimators': [50, 100, 200, 500],\n",
    "#          'randomforestregressor__criterion': [\"mse\", \"mae\"],\n",
    "# #          'randomforestregressor__max_depth': [\"None\", 2, 5, 10, 30],\n",
    "#          'randomforestregressor__min_samples_split': [2, 5, 10, 15],\n",
    "#          'randomforestregressor__ccp_alpha': [0.0, 0.0001, 0.01, 0.1, 1, 10],}\n",
    "# rforest_grid = GridSearchCV(estimator=rforest_pipe, param_grid=params, n_jobs=-1)\n",
    "# rforest_grid.fit(X_train, y_train)\n",
    "# rforest_grid.score(X_test, y_test)"
   ]
  },
  {
   "cell_type": "code",
   "execution_count": 29,
   "metadata": {},
   "outputs": [
    {
     "data": {
      "text/plain": [
       "{'randomforestregressor__n_estimators': 300}"
      ]
     },
     "execution_count": 29,
     "metadata": {},
     "output_type": "execute_result"
    }
   ],
   "source": [
    "rforest_grid.best_params_"
   ]
  },
  {
   "cell_type": "code",
   "execution_count": 39,
   "metadata": {},
   "outputs": [
    {
     "data": {
      "text/plain": [
       "0.773082112314696"
      ]
     },
     "execution_count": 39,
     "metadata": {},
     "output_type": "execute_result"
    }
   ],
   "source": [
    "mean_squared_error(y_test, rforest_grid.predict(X_test), squared=False)"
   ]
  },
  {
   "cell_type": "code",
   "execution_count": 30,
   "metadata": {},
   "outputs": [],
   "source": [
    "# y_pred = rforest_grid.predict(X_test)\n",
    "# mean_squared_error(y_test, y_pred, squared=False)"
   ]
  },
  {
   "cell_type": "markdown",
   "metadata": {},
   "source": [
    "### Elastic Net"
   ]
  },
  {
   "cell_type": "code",
   "execution_count": 262,
   "metadata": {},
   "outputs": [
    {
     "data": {
      "text/plain": [
       "0.38567383419938306"
      ]
     },
     "execution_count": 262,
     "metadata": {},
     "output_type": "execute_result"
    }
   ],
   "source": [
    "enet_pipe = make_pipeline(StandardScaler(), ElasticNet())\n",
    "enet_pipe.fit(X_train, y_train)\n",
    "enet_pipe.score(X_test, y_test)"
   ]
  },
  {
   "cell_type": "markdown",
   "metadata": {},
   "source": [
    "### PolynomialFeatures"
   ]
  },
  {
   "cell_type": "code",
   "execution_count": 263,
   "metadata": {},
   "outputs": [
    {
     "data": {
      "text/plain": [
       "0.1434082426838913"
      ]
     },
     "execution_count": 263,
     "metadata": {},
     "output_type": "execute_result"
    }
   ],
   "source": [
    "poly = PolynomialFeatures()\n",
    "X_poly = poly.fit_transform(X)\n",
    "X_poly_train, X_poly_test, y_train, y_test = train_test_split(X_poly, y)\n",
    "\n",
    "sscaler = StandardScaler()\n",
    "X_poly_train_scaled = sscaler.fit_transform(X_poly_train)\n",
    "X_poly_test_scaled = sscaler.transform(X_poly_test)\n",
    "\n",
    "ridge_poly = Ridge()\n",
    "ridge_poly.fit(X_poly_train_scaled, y_train)\n",
    "ridge_poly.score(X_poly_test_scaled, y_test)"
   ]
  },
  {
   "cell_type": "markdown",
   "metadata": {},
   "source": [
    "### Bagging Regressor"
   ]
  },
  {
   "cell_type": "code",
   "execution_count": 264,
   "metadata": {},
   "outputs": [
    {
     "data": {
      "text/plain": [
       "0.09792968750000008"
      ]
     },
     "execution_count": 264,
     "metadata": {},
     "output_type": "execute_result"
    }
   ],
   "source": [
    "bag = BaggingRegressor()\n",
    "bag.fit(X_train_scaled, y_train)\n",
    "bag.score(X_test_scaled, y_test)"
   ]
  },
  {
   "cell_type": "markdown",
   "metadata": {},
   "source": [
    "### Adaboost"
   ]
  },
  {
   "cell_type": "code",
   "execution_count": 265,
   "metadata": {},
   "outputs": [
    {
     "data": {
      "text/plain": [
       "0.06666529932844079"
      ]
     },
     "execution_count": 265,
     "metadata": {},
     "output_type": "execute_result"
    }
   ],
   "source": [
    "ada = AdaBoostRegressor()\n",
    "ada.fit(X_train_scaled, y_train)\n",
    "ada.score(X_test_scaled, y_test)"
   ]
  },
  {
   "cell_type": "code",
   "execution_count": 266,
   "metadata": {},
   "outputs": [
    {
     "data": {
      "text/plain": [
       "0.010243845198376844"
      ]
     },
     "execution_count": 266,
     "metadata": {},
     "output_type": "execute_result"
    }
   ],
   "source": [
    "ada_pipe = make_pipeline(StandardScaler(), AdaBoostRegressor())\n",
    "params = {'adaboostregressor__n_estimators': [50, 100, 200, 300, 500, 1000],\n",
    "         'adaboostregressor__loss': ['linear', 'square', 'exponential']}\n",
    "ada_grid = GridSearchCV(estimator=ada_pipe, param_grid=params, n_jobs=-1)\n",
    "ada_grid.fit(X_train, y_train)\n",
    "ada_grid.score(X_test, y_test)"
   ]
  },
  {
   "cell_type": "markdown",
   "metadata": {},
   "source": [
    "### Gradient Boosting Regressor"
   ]
  },
  {
   "cell_type": "code",
   "execution_count": 267,
   "metadata": {},
   "outputs": [
    {
     "data": {
      "text/plain": [
       "-0.1094085205352886"
      ]
     },
     "execution_count": 267,
     "metadata": {},
     "output_type": "execute_result"
    }
   ],
   "source": [
    "gboost = GradientBoostingRegressor()\n",
    "gboost.fit(X_train_scaled, y_train)\n",
    "gboost.score(X_test_scaled, y_test)"
   ]
  },
  {
   "cell_type": "code",
   "execution_count": 268,
   "metadata": {},
   "outputs": [
    {
     "data": {
      "text/plain": [
       "0.0033477224608324807"
      ]
     },
     "execution_count": 268,
     "metadata": {},
     "output_type": "execute_result"
    }
   ],
   "source": [
    "gboost_pipe = make_pipeline(StandardScaler(), GradientBoostingRegressor())\n",
    "params = {'gradientboostingregressor__n_estimators': [50, 100, 200, 300, 500, 1000]}\n",
    "gboost_grid = GridSearchCV(estimator=gboost_pipe, param_grid=params, n_jobs=-1)\n",
    "gboost_grid.fit(X_train, y_train)\n",
    "gboost_grid.score(X_test, y_test)"
   ]
  },
  {
   "cell_type": "markdown",
   "metadata": {},
   "source": [
    "### Support Vector"
   ]
  },
  {
   "cell_type": "code",
   "execution_count": 269,
   "metadata": {},
   "outputs": [
    {
     "data": {
      "text/plain": [
       "-0.13999487842706837"
      ]
     },
     "execution_count": 269,
     "metadata": {},
     "output_type": "execute_result"
    }
   ],
   "source": [
    "svr = SVR(C=3)\n",
    "svr.fit(X_train_scaled, y_train)\n",
    "svr.score(X_test_scaled, y_test)"
   ]
  },
  {
   "cell_type": "markdown",
   "metadata": {},
   "source": [
    "# Feature Importance & Model Evaluation"
   ]
  },
  {
   "cell_type": "code",
   "execution_count": 270,
   "metadata": {},
   "outputs": [
    {
     "data": {
      "text/html": [
       "<div>\n",
       "<style scoped>\n",
       "    .dataframe tbody tr th:only-of-type {\n",
       "        vertical-align: middle;\n",
       "    }\n",
       "\n",
       "    .dataframe tbody tr th {\n",
       "        vertical-align: top;\n",
       "    }\n",
       "\n",
       "    .dataframe thead th {\n",
       "        text-align: right;\n",
       "    }\n",
       "</style>\n",
       "<table border=\"1\" class=\"dataframe\">\n",
       "  <thead>\n",
       "    <tr style=\"text-align: right;\">\n",
       "      <th></th>\n",
       "      <th>0</th>\n",
       "    </tr>\n",
       "  </thead>\n",
       "  <tbody>\n",
       "    <tr>\n",
       "      <th>pct_meet_exceed_math_SY1819</th>\n",
       "      <td>0.479004</td>\n",
       "    </tr>\n",
       "    <tr>\n",
       "      <th>pct_meet_exceed_math_SY1718</th>\n",
       "      <td>0.159430</td>\n",
       "    </tr>\n",
       "    <tr>\n",
       "      <th>pct_meet_exceed_ela_SY1819</th>\n",
       "      <td>0.105614</td>\n",
       "    </tr>\n",
       "    <tr>\n",
       "      <th>pct_20+_SY1718</th>\n",
       "      <td>0.031560</td>\n",
       "    </tr>\n",
       "    <tr>\n",
       "      <th>cluster</th>\n",
       "      <td>0.029578</td>\n",
       "    </tr>\n",
       "  </tbody>\n",
       "</table>\n",
       "</div>"
      ],
      "text/plain": [
       "                                    0\n",
       "pct_meet_exceed_math_SY1819  0.479004\n",
       "pct_meet_exceed_math_SY1718  0.159430\n",
       "pct_meet_exceed_ela_SY1819   0.105614\n",
       "pct_20+_SY1718               0.031560\n",
       "cluster                      0.029578"
      ]
     },
     "execution_count": 270,
     "metadata": {},
     "output_type": "execute_result"
    }
   ],
   "source": [
    "# Random Forest Feature Importance\n",
    "feat_imp = pd.DataFrame(rforest.feature_importances_, index=X.columns)\n",
    "feat_imp.sort_values(by=0, ascending=False).head(5)"
   ]
  },
  {
   "cell_type": "code",
   "execution_count": 298,
   "metadata": {},
   "outputs": [
    {
     "data": {
      "image/png": "[encoded data removed]",
      "text/plain": [
       "<Figure size 360x360 with 1 Axes>"
      ]
     },
     "metadata": {
      "needs_background": "light"
     },
     "output_type": "display_data"
    }
   ],
   "source": [
    "# Random Forest\n",
    "y_pred = rforest_grid.predict(X_test)\n",
    "fig, ax = plt.subplots(figsize=(5,5))\n",
    "plt.scatter(y_test, y_pred)\n",
    "ax.plot([0,1], [0,1], transform=ax.transAxes, ls=\"--\", c=\"orange\")\n",
    "# plt.title('Random Forest Grid Model')\n",
    "plt.xlabel('School Star Rating')\n",
    "plt.ylabel('Model Predictions');\n",
    "# plt.savefig('./figures/random_forest_preds.png');"
   ]
  },
  {
   "cell_type": "code",
   "execution_count": 299,
   "metadata": {},
   "outputs": [
    {
     "data": {
      "text/plain": [
       "0.6992106406462268"
      ]
     },
     "execution_count": 299,
     "metadata": {},
     "output_type": "execute_result"
    }
   ],
   "source": [
    "explained_variance_score(y_test, y_pred)"
   ]
  },
  {
   "cell_type": "code",
   "execution_count": 300,
   "metadata": {},
   "outputs": [
    {
     "data": {
      "text/plain": [
       "0.5418741406124367"
      ]
     },
     "execution_count": 300,
     "metadata": {},
     "output_type": "execute_result"
    }
   ],
   "source": [
    "mean_squared_error(y_test, y_pred)"
   ]
  },
  {
   "cell_type": "code",
   "execution_count": 301,
   "metadata": {},
   "outputs": [
    {
     "data": {
      "text/plain": [
       "0.6634274704083316"
      ]
     },
     "execution_count": 301,
     "metadata": {},
     "output_type": "execute_result"
    }
   ],
   "source": [
    "r2_score(y_test, y_pred)"
   ]
  },
  {
   "cell_type": "code",
   "execution_count": 285,
   "metadata": {},
   "outputs": [
    {
     "data": {
      "image/png": "[encoded data removed]",
      "text/plain": [
       "<Figure size 360x360 with 1 Axes>"
      ]
     },
     "metadata": {
      "needs_background": "light"
     },
     "output_type": "display_data"
    }
   ],
   "source": [
    "# Ridge Model\n",
    "y_pred = ridge_grid.predict(X_test)\n",
    "fig, ax = plt.subplots(figsize=(5,5))\n",
    "plt.scatter(y_test, y_pred)\n",
    "ax.plot([0,1], [0,1], transform=ax.transAxes, ls=\"--\", c=\"orange\")\n",
    "plt.xlabel('School Star Rating')\n",
    "plt.ylabel('Model Predictions');\n",
    "# plt.savefig('./figures/ridge_preds.png');"
   ]
  },
  {
   "cell_type": "code",
   "execution_count": null,
   "metadata": {},
   "outputs": [],
   "source": []
  },
  {
   "cell_type": "code",
   "execution_count": 296,
   "metadata": {},
   "outputs": [],
   "source": [
    "from sklearn.metrics import explained_variance_score, mean_squared_error, r2_score"
   ]
  },
  {
   "cell_type": "code",
   "execution_count": 292,
   "metadata": {},
   "outputs": [
    {
     "data": {
      "text/plain": [
       "0.7440290733622903"
      ]
     },
     "execution_count": 292,
     "metadata": {},
     "output_type": "execute_result"
    }
   ],
   "source": [
    "explained_variance_score(y_test, y_pred)"
   ]
  },
  {
   "cell_type": "code",
   "execution_count": 295,
   "metadata": {},
   "outputs": [
    {
     "data": {
      "text/plain": [
       "0.4381046502656682"
      ]
     },
     "execution_count": 295,
     "metadata": {},
     "output_type": "execute_result"
    }
   ],
   "source": [
    "mean_squared_error(y_test, y_pred)"
   ]
  },
  {
   "cell_type": "code",
   "execution_count": 297,
   "metadata": {},
   "outputs": [
    {
     "data": {
      "text/plain": [
       "0.7278814777927329"
      ]
     },
     "execution_count": 297,
     "metadata": {},
     "output_type": "execute_result"
    }
   ],
   "source": [
    "r2_score(y_test, y_pred)"
   ]
  },
  {
   "cell_type": "code",
   "execution_count": 286,
   "metadata": {},
   "outputs": [
    {
     "name": "stdout",
     "output_type": "stream",
     "text": [
      " ridge score is         0.7278814777927329\n",
      " lasso score is        -0.057690140845070514\n",
      " dtree_grid score is    0.49232914059781996\n",
      " knn_grid score is      0.6909456740442657\n",
      " rforest_grid score is  0.6634274704083316\n",
      " enet_pipe score is     0.38567383419938306\n",
      " ridge_poly score is   -1.3806292355330734\n",
      " bag score is           -0.29519718309859155\n",
      " ada_grid score is     -0.40584800549522004\n",
      " gboost score is       -0.5151132381847154\n",
      " svr score is          -0.40079469275440127\n"
     ]
    }
   ],
   "source": [
    "print(f' ridge score is         {ridge_grid.score(X_test, y_test)}')\n",
    "print(f' lasso score is        {lasso.score(X_test_scaled, y_test)}')\n",
    "print(f' dtree_grid score is    {dtree_grid.score(X_test, y_test)}')\n",
    "print(f' knn_grid score is      {knn_grid.score(X_test, y_test)}')\n",
    "print(f' rforest_grid score is  {rforest_grid.score(X_test, y_test)}')\n",
    "print(f' enet_pipe score is     {enet_pipe.score(X_test, y_test)}')\n",
    "print(f' ridge_poly score is   {ridge_poly.score(X_poly_test_scaled, y_test)}')\n",
    "print(f' bag score is           {bag.score(X_test_scaled, y_test)}')\n",
    "print(f' ada_grid score is     {ada_grid.score(X_test, y_test)}')\n",
    "print(f' gboost score is       {gboost_grid.score(X_test, y_test)}')\n",
    "print(f' svr score is          {svr.score(X_test_scaled, y_test)}')"
   ]
  },
  {
   "cell_type": "code",
   "execution_count": 170,
   "metadata": {},
   "outputs": [],
   "source": [
    "# Models that did perform well:\n",
    "# ridge score\n",
    "# dtree_grid score\n",
    "# knn_grid score\n",
    "# rforest_grid score"
   ]
  },
  {
   "cell_type": "code",
   "execution_count": 171,
   "metadata": {},
   "outputs": [],
   "source": [
    "# Models that did not perform well:\n",
    "# lasso score\n",
    "# enet_pipe score\n",
    "# ridge_poly score\n",
    "# bag score\n",
    "# ada_grid score\n",
    "# gboost score\n",
    "# svr score"
   ]
  },
  {
   "cell_type": "code",
   "execution_count": 172,
   "metadata": {},
   "outputs": [],
   "source": [
    "# Top 5 Features:\n",
    "# pct_meet_exceed_math_SY1819\n",
    "# pct_meet_exceed_ela_SY1718\n",
    "# pct_meet_exceed_math_SY1718\n",
    "# pct_meet_exceed_ela_SY1819\n",
    "# pct_11-20_SY1819\n",
    "\n",
    "# Bottom 5 Features:\n",
    "# ward\n",
    "# pct_0_SY1819\n",
    "# budgeted_enrollment_FY17\n",
    "# pct_11-20_SY1718\n",
    "# enrollment_SY1718"
   ]
  },
  {
   "cell_type": "code",
   "execution_count": 303,
   "metadata": {},
   "outputs": [
    {
     "data": {
      "text/html": [
       "<div>\n",
       "<style scoped>\n",
       "    .dataframe tbody tr th:only-of-type {\n",
       "        vertical-align: middle;\n",
       "    }\n",
       "\n",
       "    .dataframe tbody tr th {\n",
       "        vertical-align: top;\n",
       "    }\n",
       "\n",
       "    .dataframe thead th {\n",
       "        text-align: right;\n",
       "    }\n",
       "</style>\n",
       "<table border=\"1\" class=\"dataframe\">\n",
       "  <thead>\n",
       "    <tr style=\"text-align: right;\">\n",
       "      <th></th>\n",
       "      <th>0</th>\n",
       "    </tr>\n",
       "  </thead>\n",
       "  <tbody>\n",
       "    <tr>\n",
       "      <th>enrollment_SY1718</th>\n",
       "      <td>0.002168</td>\n",
       "    </tr>\n",
       "    <tr>\n",
       "      <th>capacity_SY1718</th>\n",
       "      <td>0.002913</td>\n",
       "    </tr>\n",
       "    <tr>\n",
       "      <th>budgeted_enrollment_FY17</th>\n",
       "      <td>0.002939</td>\n",
       "    </tr>\n",
       "    <tr>\n",
       "      <th>budgeted_amount_FY17</th>\n",
       "      <td>0.003922</td>\n",
       "    </tr>\n",
       "    <tr>\n",
       "      <th>pct_0_SY1819</th>\n",
       "      <td>0.004076</td>\n",
       "    </tr>\n",
       "  </tbody>\n",
       "</table>\n",
       "</div>"
      ],
      "text/plain": [
       "                                 0\n",
       "enrollment_SY1718         0.002168\n",
       "capacity_SY1718           0.002913\n",
       "budgeted_enrollment_FY17  0.002939\n",
       "budgeted_amount_FY17      0.003922\n",
       "pct_0_SY1819              0.004076"
      ]
     },
     "execution_count": 303,
     "metadata": {},
     "output_type": "execute_result"
    }
   ],
   "source": [
    "# Random Forest Feature Importance\n",
    "feat_imp = pd.DataFrame(rforest.feature_importances_, index=X.columns)\n",
    "feat_imp.sort_values(by=0, ascending=True).head(5)"
   ]
  },
  {
   "cell_type": "code",
   "execution_count": null,
   "metadata": {},
   "outputs": [],
   "source": [
    "\n",
    "enrollment_SY1718\n",
    "capacity_SY1718\n",
    "budgeted_enrollment_FY17\n",
    "budgeted_amount_FY17\n",
    "pct_0_SY1819"
   ]
  }
 ],
 "metadata": {
  "kernelspec": {
   "display_name": "Python 3",
   "language": "python",
   "name": "python3"
  },
  "language_info": {
   "codemirror_mode": {
    "name": "ipython",
    "version": 3
   },
   "file_extension": ".py",
   "mimetype": "text/x-python",
   "name": "python",
   "nbconvert_exporter": "python",
   "pygments_lexer": "ipython3",
   "version": "3.8.5"
  }
 },
 "nbformat": 4,
 "nbformat_minor": 4
}
