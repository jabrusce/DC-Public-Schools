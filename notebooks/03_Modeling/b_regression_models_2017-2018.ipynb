{
 "cells": [
  {
   "cell_type": "markdown",
   "metadata": {},
   "source": [
    "# Regression Model (Star Rating 2017-2018)"
   ]
  },
  {
   "cell_type": "code",
   "execution_count": 1,
   "metadata": {},
   "outputs": [],
   "source": [
    "import pandas as pd\n",
    "import numpy as np\n",
    "import matplotlib.pyplot as plt\n",
    "import seaborn as sns\n",
    "\n",
    "from sklearn.ensemble import RandomForestRegressor, BaggingRegressor, AdaBoostRegressor\n",
    "from sklearn.feature_selection import RFE\n",
    "from sklearn.linear_model import LinearRegression, Lasso, Ridge\n",
    "from sklearn.metrics import mean_squared_error, r2_score\n",
    "from sklearn.model_selection import train_test_split, GridSearchCV\n",
    "from sklearn.neighbors import KNeighborsRegressor\n",
    "from sklearn.pipeline import Pipeline\n",
    "from sklearn.preprocessing import StandardScaler, PolynomialFeatures\n",
    "from sklearn.svm import SVR\n",
    "from sklearn.tree import DecisionTreeRegressor\n",
    "from category_encoders import OneHotEncoder "
   ]
  },
  {
   "cell_type": "code",
   "execution_count": 2,
   "metadata": {},
   "outputs": [],
   "source": [
    "data = pd.read_csv('../../01_data/cleaned_data/school_df_v6.csv')"
   ]
  },
  {
   "cell_type": "code",
   "execution_count": 3,
   "metadata": {},
   "outputs": [
    {
     "name": "stdout",
     "output_type": "stream",
     "text": [
      "<class 'pandas.core.frame.DataFrame'>\n",
      "RangeIndex: 844 entries, 0 to 843\n",
      "Data columns (total 56 columns):\n",
      " #   Column                       Non-Null Count  Dtype  \n",
      "---  ------                       --------------  -----  \n",
      " 0   code                         109 non-null    float64\n",
      " 1   name                         109 non-null    object \n",
      " 2   grade_band                   109 non-null    object \n",
      " 3   enrollment_SY1718            109 non-null    float64\n",
      " 4   enrollment_SY1819            109 non-null    float64\n",
      " 5   star_score_SY1718            109 non-null    float64\n",
      " 6   star_score_SY1819            109 non-null    float64\n",
      " 7   star_rating_SY1718           109 non-null    float64\n",
      " 8   star_rating_SY1819           109 non-null    float64\n",
      " 9   capacity_SY1718              109 non-null    float64\n",
      " 10  capacity_SY1819              109 non-null    float64\n",
      " 11  latitude                     109 non-null    float64\n",
      " 12  longitude                    109 non-null    float64\n",
      " 13  cluster                      109 non-null    float64\n",
      " 14  ward                         109 non-null    float64\n",
      " 15  count_any_SY1819             109 non-null    float64\n",
      " 16  count_0_SY1819               109 non-null    float64\n",
      " 17  pct_0_SY1819                 109 non-null    float64\n",
      " 18  count_1-5_SY1819             107 non-null    float64\n",
      " 19  pct_1-5_SY1819               109 non-null    float64\n",
      " 20  count_6-10_SY1819            107 non-null    float64\n",
      " 21  pct_6-10_SY1819              109 non-null    float64\n",
      " 22  count_11-20_SY1819           107 non-null    float64\n",
      " 23  pct_11-20_SY1819             109 non-null    float64\n",
      " 24  count_20+_SY1819             108 non-null    float64\n",
      " 25  pct_20+_SY1819               109 non-null    float64\n",
      " 26  count_any_SY1718             109 non-null    float64\n",
      " 27  count_0_SY1718               109 non-null    float64\n",
      " 28  pct_0_SY1718                 109 non-null    float64\n",
      " 29  count_1-5_SY1718             107 non-null    float64\n",
      " 30  pct_1-5_SY1718               109 non-null    float64\n",
      " 31  count_6-10_SY1718            107 non-null    float64\n",
      " 32  pct_6-10__SY1718             109 non-null    float64\n",
      " 33  count_11-20_SY1718           107 non-null    float64\n",
      " 34  pct_11-20_SY1718             109 non-null    float64\n",
      " 35  count_20+_SY1718             107 non-null    float64\n",
      " 36  pct_20+_SY1718               109 non-null    float64\n",
      " 37  budgeted_amount_FY16         109 non-null    float64\n",
      " 38  budgeted_enrollment_FY16     109 non-null    float64\n",
      " 39  budgeted_amount_FY17         109 non-null    float64\n",
      " 40  budgeted_enrollment_FY17     109 non-null    float64\n",
      " 41  pct_meet_exceed_math_SY1718  109 non-null    float64\n",
      " 42  pct_meet_exceed_ela_SY1718   109 non-null    float64\n",
      " 43  pct_meet_exceed_math_SY1819  109 non-null    float64\n",
      " 44  pct_meet_exceed_ela_SY1819   109 non-null    float64\n",
      " 45  Unnamed: 45                  0 non-null      float64\n",
      " 46  Unnamed: 46                  0 non-null      float64\n",
      " 47  Unnamed: 47                  0 non-null      float64\n",
      " 48  Unnamed: 48                  0 non-null      float64\n",
      " 49  Unnamed: 49                  0 non-null      float64\n",
      " 50  Unnamed: 50                  0 non-null      float64\n",
      " 51  Unnamed: 51                  0 non-null      float64\n",
      " 52  Unnamed: 52                  0 non-null      float64\n",
      " 53  Unnamed: 53                  0 non-null      float64\n",
      " 54  Unnamed: 54                  0 non-null      float64\n",
      " 55  Unnamed: 55                  0 non-null      float64\n",
      "dtypes: float64(54), object(2)\n",
      "memory usage: 369.4+ KB\n"
     ]
    }
   ],
   "source": [
    "data.info()"
   ]
  },
  {
   "cell_type": "code",
   "execution_count": 4,
   "metadata": {},
   "outputs": [],
   "source": [
    "# drop unnamed columns and \"bad import\" full-nan rows\n",
    "data = data.iloc[:,:45]\n",
    "data.dropna(how='all', inplace=True)"
   ]
  },
  {
   "cell_type": "code",
   "execution_count": 5,
   "metadata": {},
   "outputs": [],
   "source": [
    "# drop 2 schools that have no attendance data\n",
    "data.drop(data[data['code'] == 201].index, inplace = True) # Oyster Adams Bilingual School (Adams) has no attendance data\n",
    "data.drop(data[data['code'] == 347].index, inplace = True) # Brookland Middle School has no attendance data"
   ]
  },
  {
   "cell_type": "code",
   "execution_count": 6,
   "metadata": {},
   "outputs": [],
   "source": [
    "# drop columns looking at \"count\" of absences (non-relatable across schools of different sizes)\n",
    "X = data.drop(columns = data.filter(regex='^count',axis=1)).drop(columns='name')"
   ]
  },
  {
   "cell_type": "code",
   "execution_count": 7,
   "metadata": {},
   "outputs": [],
   "source": [
    "# drop school_code\n",
    "X.drop('code', axis = 1, inplace = True)"
   ]
  },
  {
   "cell_type": "code",
   "execution_count": 8,
   "metadata": {},
   "outputs": [],
   "source": [
    "# drop columns looking at school year 18-19 and FY 17\n",
    "X = X.drop(columns = X.filter(regex='SY1819$',axis=1)).drop(columns = data.filter(regex='FY17$',axis=1))"
   ]
  },
  {
   "cell_type": "code",
   "execution_count": 9,
   "metadata": {},
   "outputs": [
    {
     "name": "stderr",
     "output_type": "stream",
     "text": [
      "c:\\programdata\\miniconda3\\lib\\site-packages\\category_encoders\\utils.py:21: FutureWarning: is_categorical is deprecated and will be removed in a future version.  Use is_categorical_dtype instead\n",
      "  elif pd.api.types.is_categorical(cols):\n"
     ]
    }
   ],
   "source": [
    "# OHE grade_band column\n",
    "X_ohe = OneHotEncoder(cols=['grade_band']).fit_transform(X)"
   ]
  },
  {
   "cell_type": "markdown",
   "metadata": {},
   "source": [
    "## Create no_nan_df\n",
    "### Only looks at 82 rows\n",
    "* Need a better solution for dealing with np.nan (originally cast as -1)"
   ]
  },
  {
   "cell_type": "code",
   "execution_count": 10,
   "metadata": {},
   "outputs": [],
   "source": [
    "no_nan_df = X_ohe.replace(-1,np.nan)"
   ]
  },
  {
   "cell_type": "code",
   "execution_count": 11,
   "metadata": {},
   "outputs": [],
   "source": [
    "no_nan_df.dropna(how='any',inplace=True)"
   ]
  },
  {
   "cell_type": "code",
   "execution_count": 12,
   "metadata": {},
   "outputs": [],
   "source": [
    "no_nan_y = no_nan_df['star_rating_SY1718']\n",
    "no_nan_X = no_nan_df.drop(columns=['star_score_SY1718','star_rating_SY1718'])"
   ]
  },
  {
   "cell_type": "code",
   "execution_count": 13,
   "metadata": {},
   "outputs": [],
   "source": [
    "X_train, X_test, y_train, y_test = train_test_split(no_nan_X, no_nan_y)"
   ]
  },
  {
   "cell_type": "markdown",
   "metadata": {},
   "source": [
    "## Regression Models"
   ]
  },
  {
   "cell_type": "code",
   "execution_count": 14,
   "metadata": {},
   "outputs": [],
   "source": [
    "def print_results(grid, X_train, X_test, y_train, y_test):\n",
    "    #print(f'Estimator : {grid.get_estimator_}')\n",
    "    \n",
    "    print('*** TRAIN set ***')\n",
    "    print(f'Score : {grid.score(X_train, y_train)}')\n",
    "    print(f'RMSE: {mean_squared_error(y_train, grid.predict(X_train), squared = False)}')\n",
    "    print(f'MSE: {mean_squared_error(y_train, grid.predict(X_train))}')\n",
    "    print()\n",
    "    print('*** TEST set ***')\n",
    "    print(f'Score : {grid.score(X_test, y_test)}')\n",
    "    print(f'RMSE: {mean_squared_error(y_test, grid.predict(X_test), squared = False)}')\n",
    "    print(f'MSE: {mean_squared_error(y_test, grid.predict(X_test))}')\n",
    "    print()\n",
    "    print(f'Best Params : {grid.best_params_}')\n",
    "\n",
    "    y_pred = grid.predict(X_test)\n",
    "    fig, ax = plt.subplots(figsize=(4, 4))\n",
    "    plt.scatter(y_test, y_pred)\n",
    "    ax.plot([0,1], [0,1], transform=ax.transAxes, ls=\"--\", c=\"orange\")\n",
    "    #plt.title('')\n",
    "    plt.xlabel('Star Rating')\n",
    "    plt.ylabel('Model Predictions');"
   ]
  },
  {
   "cell_type": "markdown",
   "metadata": {},
   "source": [
    "### Multiple Linear Regression Model"
   ]
  },
  {
   "cell_type": "code",
   "execution_count": 15,
   "metadata": {},
   "outputs": [
    {
     "name": "stdout",
     "output_type": "stream",
     "text": [
      "*** TRAIN set ***\n",
      "Score : 1.0\n",
      "RMSE: 5.228929130035235e-15\n",
      "MSE: 2.734169984693104e-29\n",
      "\n",
      "*** TEST set ***\n",
      "Score : -8.996115560367446\n",
      "RMSE: 2.9502712797289377\n",
      "MSE: 8.704100623993424\n",
      "\n",
      "Best Params : {'lr__normalize': 'True'}\n"
     ]
    },
    {
     "data": {
      "image/png": "[encoded data removed]",
      "text/plain": [
       "<Figure size 288x288 with 1 Axes>"
      ]
     },
     "metadata": {
      "needs_background": "light"
     },
     "output_type": "display_data"
    }
   ],
   "source": [
    "pipe = Pipeline([('poly', PolynomialFeatures()), ('scaler', StandardScaler()), ('lr', LinearRegression())])\n",
    "param = [\n",
    "    {'lr__normalize': ['True','False']}\n",
    "]\n",
    "grid = GridSearchCV(pipe, param, n_jobs = -1)\n",
    "grid.fit(X_train, y_train)\n",
    "print_results(grid, X_train, X_test, y_train, y_test)"
   ]
  },
  {
   "cell_type": "markdown",
   "metadata": {},
   "source": [
    "### Ridge Model"
   ]
  },
  {
   "cell_type": "code",
   "execution_count": 16,
   "metadata": {},
   "outputs": [
    {
     "name": "stdout",
     "output_type": "stream",
     "text": [
      "*** TRAIN set ***\n",
      "Score : 0.7736116059822582\n",
      "RMSE: 0.5678902755136828\n",
      "MSE: 0.3224993650230065\n",
      "\n",
      "*** TEST set ***\n",
      "Score : 0.6762217018944535\n",
      "RMSE: 0.5309702462775485\n",
      "MSE: 0.2819294024320405\n",
      "\n",
      "Best Params : {'ridge__alpha': 100}\n"
     ]
    },
    {
     "data": {
      "image/png": "[encoded data removed]",
      "text/plain": [
       "<Figure size 288x288 with 1 Axes>"
      ]
     },
     "metadata": {
      "needs_background": "light"
     },
     "output_type": "display_data"
    }
   ],
   "source": [
    "pipe1 = Pipeline([('poly', PolynomialFeatures()), ('scaler', StandardScaler()), ('ridge', Ridge())])\n",
    "param1 = [\n",
    "    {'ridge__alpha': [.01, .1, 1, 10, 100]}\n",
    "]\n",
    "grid1 = GridSearchCV(pipe1, param1, n_jobs = -1)\n",
    "grid1.fit(X_train, y_train)\n",
    "print_results(grid1, X_train, X_test, y_train, y_test)"
   ]
  },
  {
   "cell_type": "markdown",
   "metadata": {},
   "source": [
    "### KNeighbors Model"
   ]
  },
  {
   "cell_type": "code",
   "execution_count": 17,
   "metadata": {},
   "outputs": [
    {
     "name": "stdout",
     "output_type": "stream",
     "text": [
      "*** TRAIN set ***\n",
      "Score : 0.655685874404722\n",
      "RMSE: 0.700349418983929\n",
      "MSE: 0.4904893086711269\n",
      "\n",
      "*** TEST set ***\n",
      "Score : 0.6976368801652892\n",
      "RMSE: 0.5131102926009977\n",
      "MSE: 0.2632821723730815\n",
      "\n",
      "Best Params : {'knearest__n_neighbors': 11}\n"
     ]
    },
    {
     "data": {
      "image/png": "[encoded data removed]",
      "text/plain": [
       "<Figure size 288x288 with 1 Axes>"
      ]
     },
     "metadata": {
      "needs_background": "light"
     },
     "output_type": "display_data"
    }
   ],
   "source": [
    "pipe2 = Pipeline([('poly', PolynomialFeatures()), ('scaler', StandardScaler()), ('knearest', KNeighborsRegressor())])\n",
    "param2 = [\n",
    "    {'knearest__n_neighbors': [3,7,11,25,35]}\n",
    "]\n",
    "grid2 = GridSearchCV(pipe2, param2, n_jobs = -1)\n",
    "grid2.fit(X_train, y_train)\n",
    "print_results(grid2, X_train, X_test, y_train, y_test)"
   ]
  },
  {
   "cell_type": "markdown",
   "metadata": {},
   "source": [
    "### Decision Tree Model"
   ]
  },
  {
   "cell_type": "code",
   "execution_count": 18,
   "metadata": {},
   "outputs": [
    {
     "name": "stdout",
     "output_type": "stream",
     "text": [
      "*** TRAIN set ***\n",
      "Score : 0.897006544039618\n",
      "RMSE: 0.383038270876961\n",
      "MSE: 0.14671831695641216\n",
      "\n",
      "*** TEST set ***\n",
      "Score : 0.31619480785659193\n",
      "RMSE: 0.771636059373117\n",
      "MSE: 0.5954222081248725\n",
      "\n",
      "Best Params : {'dtree__ccp_alpha': 0.01, 'dtree__max_depth': 7, 'dtree__min_samples_leaf': 5, 'dtree__min_samples_split': 9}\n"
     ]
    },
    {
     "data": {
      "image/png": "[encoded data removed]",
      "text/plain": [
       "<Figure size 288x288 with 1 Axes>"
      ]
     },
     "metadata": {
      "needs_background": "light"
     },
     "output_type": "display_data"
    }
   ],
   "source": [
    "pipe3 = Pipeline([('poly', PolynomialFeatures()), ('scaler', StandardScaler()), ('dtree', DecisionTreeRegressor())])\n",
    "param3 = [\n",
    "    {'dtree__max_depth':[3,5,7,9],\n",
    "    'dtree__min_samples_split':[3,5,7,9], \n",
    "    'dtree__min_samples_leaf':[3,5,7,9], \n",
    "    'dtree__ccp_alpha':[.01, .1, 1, 10, 100]}\n",
    "]\n",
    "grid3 = GridSearchCV(pipe3, param3, n_jobs = -1)\n",
    "grid3.fit(X_train, y_train)\n",
    "print_results(grid3, X_train, X_test, y_train, y_test)"
   ]
  },
  {
   "cell_type": "markdown",
   "metadata": {},
   "source": [
    "### Bagged Decision Tree Model"
   ]
  },
  {
   "cell_type": "code",
   "execution_count": 19,
   "metadata": {},
   "outputs": [
    {
     "name": "stdout",
     "output_type": "stream",
     "text": [
      "*** TRAIN set ***\n",
      "Score : 0.9499209055535904\n",
      "RMSE: 0.26709489425985394\n",
      "MSE: 0.07133968253968255\n",
      "\n",
      "*** TEST set ***\n",
      "Score : 0.65944453125\n",
      "RMSE: 0.5445531151670103\n",
      "MSE: 0.29653809523809527\n",
      "\n",
      "Best Params : {'btree__n_estimators': 100}\n"
     ]
    },
    {
     "data": {
      "image/png": "[encoded data removed]",
      "text/plain": [
       "<Figure size 288x288 with 1 Axes>"
      ]
     },
     "metadata": {
      "needs_background": "light"
     },
     "output_type": "display_data"
    }
   ],
   "source": [
    "pipe4 = Pipeline([('poly', PolynomialFeatures()), ('scaler', StandardScaler()), ('btree', BaggingRegressor())])\n",
    "param4 = [\n",
    "    {'btree__n_estimators':[50, 100, 500]}\n",
    "]\n",
    "grid4 = GridSearchCV(pipe4, param4, n_jobs = -1)\n",
    "grid4.fit(X_train, y_train)\n",
    "print_results(grid4, X_train, X_test, y_train, y_test)"
   ]
  },
  {
   "cell_type": "markdown",
   "metadata": {},
   "source": [
    "### Random Forest Model"
   ]
  },
  {
   "cell_type": "code",
   "execution_count": 20,
   "metadata": {},
   "outputs": [
    {
     "name": "stdout",
     "output_type": "stream",
     "text": [
      "*** TRAIN set ***\n",
      "Score : 0.8230335470391097\n",
      "RMSE: 0.5020914497334206\n",
      "MSE: 0.25209582389540797\n",
      "\n",
      "*** TEST set ***\n",
      "Score : 0.7084195011484196\n",
      "RMSE: 0.5038781831849951\n",
      "MSE: 0.2538932234898115\n",
      "\n",
      "Best Params : {'randforest__max_depth': 3, 'randforest__min_samples_leaf': 7, 'randforest__min_samples_split': 7, 'randforest__n_estimators': 50}\n"
     ]
    },
    {
     "data": {
      "image/png": "[encoded data removed]",
      "text/plain": [
       "<Figure size 288x288 with 1 Axes>"
      ]
     },
     "metadata": {
      "needs_background": "light"
     },
     "output_type": "display_data"
    }
   ],
   "source": [
    "pipe5 = Pipeline([('poly', PolynomialFeatures()), ('scaler', StandardScaler()), ('randforest', RandomForestRegressor())])\n",
    "param5 = [\n",
    "    {'randforest__max_depth':[3,5,7,9],\n",
    "    'randforest__min_samples_split':[3,5,7,9], \n",
    "    'randforest__min_samples_leaf':[3,5,7,9], \n",
    "    'randforest__n_estimators':[50, 100, 500]}\n",
    "]\n",
    "grid5 = GridSearchCV(pipe5, param5, n_jobs = -1)\n",
    "grid5.fit(X_train, y_train)\n",
    "print_results(grid5, X_train, X_test, y_train, y_test)"
   ]
  },
  {
   "cell_type": "markdown",
   "metadata": {},
   "source": [
    "### Adaboost Model"
   ]
  },
  {
   "cell_type": "code",
   "execution_count": 21,
   "metadata": {},
   "outputs": [
    {
     "name": "stdout",
     "output_type": "stream",
     "text": [
      "*** TRAIN set ***\n",
      "Score : 0.9938633380503924\n",
      "RMSE: 0.09349824360833572\n",
      "MSE: 0.008741921557843693\n",
      "\n",
      "*** TEST set ***\n",
      "Score : 0.5265653730145776\n",
      "RMSE: 0.6420610533949449\n",
      "MSE: 0.41224239628662634\n",
      "\n",
      "Best Params : {'ada__n_estimators': 500}\n"
     ]
    },
    {
     "data": {
      "image/png": "[encoded data removed]",
      "text/plain": [
       "<Figure size 288x288 with 1 Axes>"
      ]
     },
     "metadata": {
      "needs_background": "light"
     },
     "output_type": "display_data"
    }
   ],
   "source": [
    "pipe6 = Pipeline([('poly', PolynomialFeatures()), ('scaler', StandardScaler()), ('ada', AdaBoostRegressor())])\n",
    "param6 = [\n",
    "    {'ada__n_estimators':[50, 100, 500]}\n",
    "]\n",
    "grid6 = GridSearchCV(pipe6, param6, n_jobs = -1)\n",
    "grid6.fit(X_train, y_train)\n",
    "print_results(grid6, X_train, X_test, y_train, y_test)"
   ]
  },
  {
   "cell_type": "markdown",
   "metadata": {},
   "source": [
    "### Support Vector Regressor Model"
   ]
  },
  {
   "cell_type": "markdown",
   "metadata": {},
   "source": [
    "#### Was only able to get a very limited SVM to ever execute fully."
   ]
  },
  {
   "cell_type": "code",
   "execution_count": 22,
   "metadata": {},
   "outputs": [
    {
     "name": "stdout",
     "output_type": "stream",
     "text": [
      "*** TRAIN set ***\n",
      "Score : 0.7709409097485298\n",
      "RMSE: 0.5712301455050668\n",
      "MSE: 0.32630387913373976\n",
      "\n",
      "*** TEST set ***\n",
      "Score : 0.5960606248890886\n",
      "RMSE: 0.5930678914813208\n",
      "MSE: 0.35172952390609974\n",
      "\n",
      "Best Params : {'svr__C': 0.01, 'svr__gamma': 0.01, 'svr__kernel': 'linear'}\n"
     ]
    },
    {
     "data": {
      "image/png": "[encoded data removed]",
      "text/plain": [
       "<Figure size 288x288 with 1 Axes>"
      ]
     },
     "metadata": {
      "needs_background": "light"
     },
     "output_type": "display_data"
    }
   ],
   "source": [
    "pipe7 = Pipeline([('poly', PolynomialFeatures()), ('scaler', StandardScaler()), ('svr', SVR())])\n",
    "param7 = [\n",
    "    {'svr__kernel': ['linear'],\n",
    "     'svr__C': [.01, 1, 10],\n",
    "     'svr__gamma': np.logspace(-2, 2, 20)\n",
    "    }\n",
    "#     {'svr__kernel': ['linear', 'poly'],\n",
    "#      'svr__C': [.01, 1, 100],\n",
    "#      'svr__gamma': np.logspace(-5, 2, 20)\n",
    "#     }\n",
    "]\n",
    "grid7 = GridSearchCV(pipe7, param7, n_jobs = -1)\n",
    "grid7.fit(X_train, y_train)\n",
    "print_results(grid7, X_train, X_test, y_train, y_test)"
   ]
  },
  {
   "cell_type": "markdown",
   "metadata": {},
   "source": [
    "<br><br>\n",
    "<br><br>"
   ]
  },
  {
   "cell_type": "markdown",
   "metadata": {},
   "source": [
    "# Regression Model (Star Score 2017-2018)"
   ]
  },
  {
   "cell_type": "code",
   "execution_count": 23,
   "metadata": {},
   "outputs": [],
   "source": [
    "import pandas as pd\n",
    "import numpy as np\n",
    "import matplotlib.pyplot as plt\n",
    "import seaborn as sns\n",
    "\n",
    "from sklearn.ensemble import RandomForestRegressor, BaggingRegressor, AdaBoostRegressor\n",
    "from sklearn.feature_selection import RFE\n",
    "from sklearn.linear_model import LinearRegression, Lasso, Ridge\n",
    "from sklearn.metrics import mean_squared_error, r2_score\n",
    "from sklearn.model_selection import train_test_split, GridSearchCV\n",
    "from sklearn.neighbors import KNeighborsRegressor\n",
    "from sklearn.pipeline import Pipeline\n",
    "from sklearn.preprocessing import StandardScaler, PolynomialFeatures\n",
    "from sklearn.svm import SVR\n",
    "from sklearn.tree import DecisionTreeRegressor\n",
    "from category_encoders import OneHotEncoder "
   ]
  },
  {
   "cell_type": "code",
   "execution_count": 24,
   "metadata": {},
   "outputs": [],
   "source": [
    "data = pd.read_csv('../../01_data/cleaned_data/school_df_v6.csv')"
   ]
  },
  {
   "cell_type": "code",
   "execution_count": 25,
   "metadata": {},
   "outputs": [
    {
     "name": "stdout",
     "output_type": "stream",
     "text": [
      "<class 'pandas.core.frame.DataFrame'>\n",
      "RangeIndex: 844 entries, 0 to 843\n",
      "Data columns (total 56 columns):\n",
      " #   Column                       Non-Null Count  Dtype  \n",
      "---  ------                       --------------  -----  \n",
      " 0   code                         109 non-null    float64\n",
      " 1   name                         109 non-null    object \n",
      " 2   grade_band                   109 non-null    object \n",
      " 3   enrollment_SY1718            109 non-null    float64\n",
      " 4   enrollment_SY1819            109 non-null    float64\n",
      " 5   star_score_SY1718            109 non-null    float64\n",
      " 6   star_score_SY1819            109 non-null    float64\n",
      " 7   star_rating_SY1718           109 non-null    float64\n",
      " 8   star_rating_SY1819           109 non-null    float64\n",
      " 9   capacity_SY1718              109 non-null    float64\n",
      " 10  capacity_SY1819              109 non-null    float64\n",
      " 11  latitude                     109 non-null    float64\n",
      " 12  longitude                    109 non-null    float64\n",
      " 13  cluster                      109 non-null    float64\n",
      " 14  ward                         109 non-null    float64\n",
      " 15  count_any_SY1819             109 non-null    float64\n",
      " 16  count_0_SY1819               109 non-null    float64\n",
      " 17  pct_0_SY1819                 109 non-null    float64\n",
      " 18  count_1-5_SY1819             107 non-null    float64\n",
      " 19  pct_1-5_SY1819               109 non-null    float64\n",
      " 20  count_6-10_SY1819            107 non-null    float64\n",
      " 21  pct_6-10_SY1819              109 non-null    float64\n",
      " 22  count_11-20_SY1819           107 non-null    float64\n",
      " 23  pct_11-20_SY1819             109 non-null    float64\n",
      " 24  count_20+_SY1819             108 non-null    float64\n",
      " 25  pct_20+_SY1819               109 non-null    float64\n",
      " 26  count_any_SY1718             109 non-null    float64\n",
      " 27  count_0_SY1718               109 non-null    float64\n",
      " 28  pct_0_SY1718                 109 non-null    float64\n",
      " 29  count_1-5_SY1718             107 non-null    float64\n",
      " 30  pct_1-5_SY1718               109 non-null    float64\n",
      " 31  count_6-10_SY1718            107 non-null    float64\n",
      " 32  pct_6-10__SY1718             109 non-null    float64\n",
      " 33  count_11-20_SY1718           107 non-null    float64\n",
      " 34  pct_11-20_SY1718             109 non-null    float64\n",
      " 35  count_20+_SY1718             107 non-null    float64\n",
      " 36  pct_20+_SY1718               109 non-null    float64\n",
      " 37  budgeted_amount_FY16         109 non-null    float64\n",
      " 38  budgeted_enrollment_FY16     109 non-null    float64\n",
      " 39  budgeted_amount_FY17         109 non-null    float64\n",
      " 40  budgeted_enrollment_FY17     109 non-null    float64\n",
      " 41  pct_meet_exceed_math_SY1718  109 non-null    float64\n",
      " 42  pct_meet_exceed_ela_SY1718   109 non-null    float64\n",
      " 43  pct_meet_exceed_math_SY1819  109 non-null    float64\n",
      " 44  pct_meet_exceed_ela_SY1819   109 non-null    float64\n",
      " 45  Unnamed: 45                  0 non-null      float64\n",
      " 46  Unnamed: 46                  0 non-null      float64\n",
      " 47  Unnamed: 47                  0 non-null      float64\n",
      " 48  Unnamed: 48                  0 non-null      float64\n",
      " 49  Unnamed: 49                  0 non-null      float64\n",
      " 50  Unnamed: 50                  0 non-null      float64\n",
      " 51  Unnamed: 51                  0 non-null      float64\n",
      " 52  Unnamed: 52                  0 non-null      float64\n",
      " 53  Unnamed: 53                  0 non-null      float64\n",
      " 54  Unnamed: 54                  0 non-null      float64\n",
      " 55  Unnamed: 55                  0 non-null      float64\n",
      "dtypes: float64(54), object(2)\n",
      "memory usage: 369.4+ KB\n"
     ]
    }
   ],
   "source": [
    "data.info()"
   ]
  },
  {
   "cell_type": "code",
   "execution_count": 26,
   "metadata": {},
   "outputs": [],
   "source": [
    "# drop unnamed columns and \"bad import\" full-nan rows\n",
    "data = data.iloc[:,:45]\n",
    "data.dropna(how='all', inplace=True)"
   ]
  },
  {
   "cell_type": "code",
   "execution_count": 27,
   "metadata": {},
   "outputs": [],
   "source": [
    "# drop 2 schools that have no attendance data\n",
    "data.drop(data[data['code'] == 201].index, inplace = True) # Oyster Adams Bilingual School (Adams) has no attendance data\n",
    "data.drop(data[data['code'] == 347].index, inplace = True) # Brookland Middle School has no attendance data"
   ]
  },
  {
   "cell_type": "code",
   "execution_count": 28,
   "metadata": {},
   "outputs": [],
   "source": [
    "# drop columns looking at \"count\" of absences (non-relatable across schools of different sizes)\n",
    "X = data.drop(columns = data.filter(regex='^count',axis=1)).drop(columns='name')"
   ]
  },
  {
   "cell_type": "code",
   "execution_count": 29,
   "metadata": {},
   "outputs": [],
   "source": [
    "# drop school_code\n",
    "X.drop('code', axis = 1, inplace = True)"
   ]
  },
  {
   "cell_type": "code",
   "execution_count": 30,
   "metadata": {},
   "outputs": [],
   "source": [
    "# drop columns looking at school year 18-19 and FY 17\n",
    "X = X.drop(columns = X.filter(regex='SY1819$',axis=1)).drop(columns = data.filter(regex='FY17$',axis=1))"
   ]
  },
  {
   "cell_type": "code",
   "execution_count": 31,
   "metadata": {},
   "outputs": [
    {
     "name": "stderr",
     "output_type": "stream",
     "text": [
      "c:\\programdata\\miniconda3\\lib\\site-packages\\category_encoders\\utils.py:21: FutureWarning: is_categorical is deprecated and will be removed in a future version.  Use is_categorical_dtype instead\n",
      "  elif pd.api.types.is_categorical(cols):\n"
     ]
    }
   ],
   "source": [
    "# OHE grade_band column\n",
    "X_ohe = OneHotEncoder(cols=['grade_band']).fit_transform(X)"
   ]
  },
  {
   "cell_type": "markdown",
   "metadata": {},
   "source": [
    "<br><br>\n",
    "\n",
    "# Create no_nan_df\n",
    "### Only looks at 82 rows\n",
    "* Need a better solution for dealing with np.nan (originally cast as -1)"
   ]
  },
  {
   "cell_type": "code",
   "execution_count": 32,
   "metadata": {},
   "outputs": [],
   "source": [
    "no_nan_df = X_ohe.replace(-1,np.nan)"
   ]
  },
  {
   "cell_type": "code",
   "execution_count": 33,
   "metadata": {},
   "outputs": [],
   "source": [
    "no_nan_df.dropna(how='any',inplace=True)"
   ]
  },
  {
   "cell_type": "code",
   "execution_count": 34,
   "metadata": {},
   "outputs": [],
   "source": [
    "no_nan_y = no_nan_df['star_score_SY1718']\n",
    "no_nan_X = no_nan_df.drop(columns=['star_score_SY1718','star_rating_SY1718'])"
   ]
  },
  {
   "cell_type": "code",
   "execution_count": 35,
   "metadata": {},
   "outputs": [],
   "source": [
    "X_train, X_test, y_train, y_test = train_test_split(no_nan_X, no_nan_y)"
   ]
  },
  {
   "cell_type": "markdown",
   "metadata": {},
   "source": [
    "<br><br>\n",
    "# Regression Models"
   ]
  },
  {
   "cell_type": "code",
   "execution_count": 36,
   "metadata": {},
   "outputs": [],
   "source": [
    "def print_results(grid, X_train, X_test, y_train, y_test):\n",
    "    #print(f'Estimator : {grid.get_estimator_}')\n",
    "    \n",
    "    print('*** TRAIN set ***')\n",
    "    print(f'Score : {grid.score(X_train, y_train)}')\n",
    "    print(f'RMSE: {mean_squared_error(y_train, grid.predict(X_train), squared = False)}')\n",
    "    print(f'MSE: {mean_squared_error(y_train, grid.predict(X_train))}')\n",
    "    print()\n",
    "    print('*** TEST set ***')\n",
    "    print(f'Score : {grid.score(X_test, y_test)}')\n",
    "    print(f'RMSE: {mean_squared_error(y_test, grid.predict(X_test), squared = False)}')\n",
    "    print(f'MSE: {mean_squared_error(y_test, grid.predict(X_test))}')\n",
    "    print()\n",
    "    print(f'Best Params : {grid.best_params_}')\n",
    "\n",
    "    y_pred = grid.predict(X_test)\n",
    "    fig, ax = plt.subplots(figsize=(4, 4))\n",
    "    plt.scatter(y_test, y_pred)\n",
    "    ax.plot([0,1], [0,1], transform=ax.transAxes, ls=\"--\", c=\"orange\")\n",
    "    #plt.title('')\n",
    "    plt.xlabel('Star Rating')\n",
    "    plt.ylabel('Model Predictions');"
   ]
  },
  {
   "cell_type": "markdown",
   "metadata": {},
   "source": [
    "<br><br>"
   ]
  },
  {
   "cell_type": "markdown",
   "metadata": {},
   "source": [
    "### Multiple Linear Regression Model"
   ]
  },
  {
   "cell_type": "code",
   "execution_count": 37,
   "metadata": {},
   "outputs": [],
   "source": [
    "pipe = Pipeline([('poly', PolynomialFeatures()), ('scaler', StandardScaler()), ('lr', LinearRegression())])\n",
    "param = [\n",
    "    {'lr__normalize': ['True','False']}\n",
    "]\n",
    "grid = GridSearchCV(pipe, param, n_jobs = -1)\n",
    "grid.fit(X_train, y_train);\n",
    "# print_results(grid, X_train, X_test, y_train, y_test)"
   ]
  },
  {
   "cell_type": "markdown",
   "metadata": {},
   "source": [
    "<br><br>"
   ]
  },
  {
   "cell_type": "markdown",
   "metadata": {},
   "source": [
    "### Ridge Model"
   ]
  },
  {
   "cell_type": "code",
   "execution_count": 38,
   "metadata": {},
   "outputs": [
    {
     "name": "stdout",
     "output_type": "stream",
     "text": [
      "*** TRAIN set ***\n",
      "Score : 0.8365368646136451\n",
      "RMSE: 9.360660259836951\n",
      "MSE: 87.6219605000908\n",
      "\n",
      "*** TEST set ***\n",
      "Score : 0.7186032129506006\n",
      "RMSE: 11.921658365562532\n",
      "MSE: 142.12593818518712\n",
      "\n",
      "Best Params : {'ridge__alpha': 100}\n"
     ]
    },
    {
     "data": {
      "image/png": "[encoded data removed]",
      "text/plain": [
       "<Figure size 288x288 with 1 Axes>"
      ]
     },
     "metadata": {
      "needs_background": "light"
     },
     "output_type": "display_data"
    }
   ],
   "source": [
    "pipe1 = Pipeline([('poly', PolynomialFeatures()), ('scaler', StandardScaler()), ('ridge', Ridge())])\n",
    "param1 = [\n",
    "    {'ridge__alpha': [.01, .1, 1, 10, 100]}\n",
    "]\n",
    "grid1 = GridSearchCV(pipe1, param1, n_jobs = -1)\n",
    "grid1.fit(X_train, y_train)\n",
    "print_results(grid1, X_train, X_test, y_train, y_test)"
   ]
  },
  {
   "cell_type": "markdown",
   "metadata": {},
   "source": [
    "<br><br>"
   ]
  },
  {
   "cell_type": "markdown",
   "metadata": {},
   "source": [
    "### KNeighbors Model"
   ]
  },
  {
   "cell_type": "code",
   "execution_count": 39,
   "metadata": {},
   "outputs": [
    {
     "name": "stdout",
     "output_type": "stream",
     "text": [
      "*** TRAIN set ***\n",
      "Score : 0.802035326779592\n",
      "RMSE: 10.301261673382152\n",
      "MSE: 106.11599206349207\n",
      "\n",
      "*** TEST set ***\n",
      "Score : 0.6278062448610039\n",
      "RMSE: 13.71076370237031\n",
      "MSE: 187.9850413022352\n",
      "\n",
      "Best Params : {'knearest__n_neighbors': 7}\n"
     ]
    },
    {
     "data": {
      "image/png": "[encoded data removed]",
      "text/plain": [
       "<Figure size 288x288 with 1 Axes>"
      ]
     },
     "metadata": {
      "needs_background": "light"
     },
     "output_type": "display_data"
    }
   ],
   "source": [
    "pipe2 = Pipeline([('poly', PolynomialFeatures()), ('scaler', StandardScaler()), ('knearest', KNeighborsRegressor())])\n",
    "param2 = [\n",
    "    {'knearest__n_neighbors': [3,7,11,25,35]}\n",
    "]\n",
    "grid2 = GridSearchCV(pipe2, param2, n_jobs = -1)\n",
    "grid2.fit(X_train, y_train)\n",
    "print_results(grid2, X_train, X_test, y_train, y_test)"
   ]
  },
  {
   "cell_type": "markdown",
   "metadata": {},
   "source": [
    "<br><br>"
   ]
  },
  {
   "cell_type": "markdown",
   "metadata": {},
   "source": [
    "### Decision Tree Model"
   ]
  },
  {
   "cell_type": "code",
   "execution_count": 40,
   "metadata": {},
   "outputs": [
    {
     "name": "stdout",
     "output_type": "stream",
     "text": [
      "*** TRAIN set ***\n",
      "Score : 0.8891096912247559\n",
      "RMSE: 7.709804523995774\n",
      "MSE: 59.44108579822571\n",
      "\n",
      "*** TEST set ***\n",
      "Score : 0.3975920025476397\n",
      "RMSE: 17.44305175873159\n",
      "MSE: 304.26005465778917\n",
      "\n",
      "Best Params : {'dtree__ccp_alpha': 10, 'dtree__max_depth': 3, 'dtree__min_samples_leaf': 5, 'dtree__min_samples_split': 7}\n"
     ]
    },
    {
     "data": {
      "image/png": "[encoded data removed]",
      "text/plain": [
       "<Figure size 288x288 with 1 Axes>"
      ]
     },
     "metadata": {
      "needs_background": "light"
     },
     "output_type": "display_data"
    }
   ],
   "source": [
    "pipe3 = Pipeline([('poly', PolynomialFeatures()), ('scaler', StandardScaler()), ('dtree', DecisionTreeRegressor())])\n",
    "param3 = [\n",
    "    {'dtree__max_depth':[3,5,7,9],\n",
    "    'dtree__min_samples_split':[3,5,7,9], \n",
    "    'dtree__min_samples_leaf':[3,5,7,9], \n",
    "    'dtree__ccp_alpha':[.01, .1, 1, 10, 100]}\n",
    "]\n",
    "grid3 = GridSearchCV(pipe3, param3, n_jobs = -1)\n",
    "grid3.fit(X_train, y_train)\n",
    "print_results(grid3, X_train, X_test, y_train, y_test)"
   ]
  },
  {
   "cell_type": "markdown",
   "metadata": {},
   "source": [
    "<br><br>"
   ]
  },
  {
   "cell_type": "markdown",
   "metadata": {},
   "source": [
    "### Bagged Decision Tree Model"
   ]
  },
  {
   "cell_type": "code",
   "execution_count": 41,
   "metadata": {},
   "outputs": [
    {
     "name": "stdout",
     "output_type": "stream",
     "text": [
      "*** TRAIN set ***\n",
      "Score : 0.9583052107774742\n",
      "RMSE: 4.727564490859762\n",
      "MSE: 22.349866015238117\n",
      "\n",
      "*** TEST set ***\n",
      "Score : 0.6920015674563786\n",
      "RMSE: 12.472438127861503\n",
      "MSE: 155.56171285333335\n",
      "\n",
      "Best Params : {'btree__n_estimators': 50}\n"
     ]
    },
    {
     "data": {
      "image/png": "[encoded data removed]",
      "text/plain": [
       "<Figure size 288x288 with 1 Axes>"
      ]
     },
     "metadata": {
      "needs_background": "light"
     },
     "output_type": "display_data"
    }
   ],
   "source": [
    "pipe4 = Pipeline([('poly', PolynomialFeatures()), ('scaler', StandardScaler()), ('btree', BaggingRegressor())])\n",
    "param4 = [\n",
    "    {'btree__n_estimators':[50, 100, 500]}\n",
    "]\n",
    "grid4 = GridSearchCV(pipe4, param4, n_jobs = -1)\n",
    "grid4.fit(X_train, y_train)\n",
    "print_results(grid4, X_train, X_test, y_train, y_test)"
   ]
  },
  {
   "cell_type": "markdown",
   "metadata": {},
   "source": [
    "<br><br>"
   ]
  },
  {
   "cell_type": "markdown",
   "metadata": {},
   "source": [
    "### Random Forest Model"
   ]
  },
  {
   "cell_type": "code",
   "execution_count": 42,
   "metadata": {},
   "outputs": [
    {
     "name": "stdout",
     "output_type": "stream",
     "text": [
      "*** TRAIN set ***\n",
      "Score : 0.9241307292604789\n",
      "RMSE: 6.377192481670899\n",
      "MSE: 40.66858394827983\n",
      "\n",
      "*** TEST set ***\n",
      "Score : 0.6376849204885204\n",
      "RMSE: 13.527586196673825\n",
      "MSE: 182.9955883084402\n",
      "\n",
      "Best Params : {'randforest__max_depth': 7, 'randforest__min_samples_leaf': 3, 'randforest__min_samples_split': 9, 'randforest__n_estimators': 50}\n"
     ]
    },
    {
     "data": {
      "image/png": "[encoded data removed]",
      "text/plain": [
       "<Figure size 288x288 with 1 Axes>"
      ]
     },
     "metadata": {
      "needs_background": "light"
     },
     "output_type": "display_data"
    }
   ],
   "source": [
    "pipe5 = Pipeline([('poly', PolynomialFeatures()), ('scaler', StandardScaler()), ('randforest', RandomForestRegressor())])\n",
    "param5 = [\n",
    "    {'randforest__max_depth':[3,5,7,9],\n",
    "    'randforest__min_samples_split':[3,5,7,9], \n",
    "    'randforest__min_samples_leaf':[3,5,7,9], \n",
    "    'randforest__n_estimators':[50, 100, 500]}\n",
    "]\n",
    "grid5 = GridSearchCV(pipe5, param5, n_jobs = -1)\n",
    "grid5.fit(X_train, y_train)\n",
    "print_results(grid5, X_train, X_test, y_train, y_test)"
   ]
  },
  {
   "cell_type": "markdown",
   "metadata": {},
   "source": [
    "<br><br>"
   ]
  },
  {
   "cell_type": "markdown",
   "metadata": {},
   "source": [
    "### Adaboost Model"
   ]
  },
  {
   "cell_type": "code",
   "execution_count": 43,
   "metadata": {},
   "outputs": [
    {
     "name": "stdout",
     "output_type": "stream",
     "text": [
      "*** TRAIN set ***\n",
      "Score : 0.9715153723617534\n",
      "RMSE: 3.907525707348244\n",
      "MSE: 15.268757153587396\n",
      "\n",
      "*** TEST set ***\n",
      "Score : 0.6414033379771854\n",
      "RMSE: 13.457990778132269\n",
      "MSE: 181.11751578429318\n",
      "\n",
      "Best Params : {'ada__n_estimators': 50}\n"
     ]
    },
    {
     "data": {
      "image/png": "[encoded data removed]",
      "text/plain": [
       "<Figure size 288x288 with 1 Axes>"
      ]
     },
     "metadata": {
      "needs_background": "light"
     },
     "output_type": "display_data"
    }
   ],
   "source": [
    "pipe6 = Pipeline([('poly', PolynomialFeatures()), ('scaler', StandardScaler()), ('ada', AdaBoostRegressor())])\n",
    "param6 = [\n",
    "    {'ada__n_estimators':[50, 100, 500]}\n",
    "]\n",
    "grid6 = GridSearchCV(pipe6, param6, n_jobs = -1)\n",
    "grid6.fit(X_train, y_train)\n",
    "print_results(grid6, X_train, X_test, y_train, y_test)"
   ]
  },
  {
   "cell_type": "markdown",
   "metadata": {},
   "source": [
    "<br><br>"
   ]
  },
  {
   "cell_type": "markdown",
   "metadata": {},
   "source": [
    "### Support Vector Regressor Model"
   ]
  },
  {
   "cell_type": "markdown",
   "metadata": {},
   "source": [
    "#### Was only able to get a very limited SVM to ever execute fully."
   ]
  },
  {
   "cell_type": "code",
   "execution_count": 44,
   "metadata": {},
   "outputs": [
    {
     "name": "stdout",
     "output_type": "stream",
     "text": [
      "*** TRAIN set ***\n",
      "Score : 0.721756087181108\n",
      "RMSE: 12.212635818472682\n",
      "MSE: 149.1484736346419\n",
      "\n",
      "*** TEST set ***\n",
      "Score : 0.5123915051486152\n",
      "RMSE: 15.693244337207858\n",
      "MSE: 246.27791782730648\n",
      "\n",
      "Best Params : {'svr__C': 0.01, 'svr__gamma': 0.01, 'svr__kernel': 'linear'}\n"
     ]
    },
    {
     "data": {
      "image/png": "[encoded data removed]",
      "text/plain": [
       "<Figure size 288x288 with 1 Axes>"
      ]
     },
     "metadata": {
      "needs_background": "light"
     },
     "output_type": "display_data"
    }
   ],
   "source": [
    "pipe7 = Pipeline([('poly', PolynomialFeatures()), ('scaler', StandardScaler()), ('svr', SVR())])\n",
    "param7 = [\n",
    "    {'svr__kernel': ['linear'],\n",
    "     'svr__C': [.01, 1, 10],\n",
    "     'svr__gamma': np.logspace(-2, 2, 20)\n",
    "    }\n",
    "#     {'svr__kernel': ['linear', 'poly'],\n",
    "#      'svr__C': [.01, 1, 100],\n",
    "#      'svr__gamma': np.logspace(-5, 2, 20)\n",
    "#     }\n",
    "]\n",
    "grid7 = GridSearchCV(pipe7, param7, n_jobs = -1)\n",
    "grid7.fit(X_train, y_train)\n",
    "print_results(grid7, X_train, X_test, y_train, y_test)"
   ]
  }
 ],
 "metadata": {
  "kernelspec": {
   "display_name": "Python 3",
   "language": "python",
   "name": "python3"
  },
  "language_info": {
   "codemirror_mode": {
    "name": "ipython",
    "version": 3
   },
   "file_extension": ".py",
   "mimetype": "text/x-python",
   "name": "python",
   "nbconvert_exporter": "python",
   "pygments_lexer": "ipython3",
   "version": "3.8.5"
  }
 },
 "nbformat": 4,
 "nbformat_minor": 4
}
