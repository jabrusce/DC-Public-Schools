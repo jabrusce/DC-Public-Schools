{
 "cells": [
  {
   "cell_type": "code",
   "execution_count": 1,
   "metadata": {},
   "outputs": [],
   "source": [
    "import pandas as pd"
   ]
  },
  {
   "cell_type": "markdown",
   "metadata": {},
   "source": [
    "Datasets collected from:\n",
    "\n",
    "https://edscape.dc.gov/\n",
    "\n",
    "https://data.world/codefordc/\n",
    "\n",
    "https://osse.dc.gov/"
   ]
  },
  {
   "cell_type": "code",
   "execution_count": 2,
   "metadata": {},
   "outputs": [],
   "source": [
    "df = pd.read_csv('./data/school_df_v6.csv')"
   ]
  },
  {
   "cell_type": "code",
   "execution_count": 3,
   "metadata": {},
   "outputs": [],
   "source": [
    "df.drop(columns=['Unnamed: 45', 'Unnamed: 46', 'Unnamed: 47', \n",
    "                 'Unnamed: 48', 'Unnamed: 49', 'Unnamed: 50', \n",
    "                 'Unnamed: 51', 'Unnamed: 52', 'Unnamed: 53', \n",
    "                 'Unnamed: 54', 'Unnamed: 55',], inplace=True)\n",
    "df = df.iloc[:,:45]\n",
    "df.dropna(how='all', inplace=True)"
   ]
  },
  {
   "cell_type": "code",
   "execution_count": 4,
   "metadata": {},
   "outputs": [
    {
     "data": {
      "text/plain": [
       "(109, 45)"
      ]
     },
     "execution_count": 4,
     "metadata": {},
     "output_type": "execute_result"
    }
   ],
   "source": [
    "df.shape"
   ]
  },
  {
   "cell_type": "code",
   "execution_count": 5,
   "metadata": {},
   "outputs": [
    {
     "data": {
      "text/html": [
       "<div>\n",
       "<style scoped>\n",
       "    .dataframe tbody tr th:only-of-type {\n",
       "        vertical-align: middle;\n",
       "    }\n",
       "\n",
       "    .dataframe tbody tr th {\n",
       "        vertical-align: top;\n",
       "    }\n",
       "\n",
       "    .dataframe thead th {\n",
       "        text-align: right;\n",
       "    }\n",
       "</style>\n",
       "<table border=\"1\" class=\"dataframe\">\n",
       "  <thead>\n",
       "    <tr style=\"text-align: right;\">\n",
       "      <th></th>\n",
       "      <th>code</th>\n",
       "      <th>name</th>\n",
       "      <th>grade_band</th>\n",
       "      <th>enrollment_SY1718</th>\n",
       "      <th>enrollment_SY1819</th>\n",
       "      <th>star_score_SY1718</th>\n",
       "      <th>star_score_SY1819</th>\n",
       "      <th>star_rating_SY1718</th>\n",
       "      <th>star_rating_SY1819</th>\n",
       "      <th>capacity_SY1718</th>\n",
       "      <th>...</th>\n",
       "      <th>count_20+_SY1718</th>\n",
       "      <th>pct_20+_SY1718</th>\n",
       "      <th>budgeted_amount_FY16</th>\n",
       "      <th>budgeted_enrollment_FY16</th>\n",
       "      <th>budgeted_amount_FY17</th>\n",
       "      <th>budgeted_enrollment_FY17</th>\n",
       "      <th>pct_meet_exceed_math_SY1718</th>\n",
       "      <th>pct_meet_exceed_ela_SY1718</th>\n",
       "      <th>pct_meet_exceed_math_SY1819</th>\n",
       "      <th>pct_meet_exceed_ela_SY1819</th>\n",
       "    </tr>\n",
       "  </thead>\n",
       "  <tbody>\n",
       "    <tr>\n",
       "      <th>0</th>\n",
       "      <td>175.0</td>\n",
       "      <td>School-Within-School @ Goding</td>\n",
       "      <td>Elementary</td>\n",
       "      <td>308.0</td>\n",
       "      <td>313.0</td>\n",
       "      <td>88.55</td>\n",
       "      <td>88.26</td>\n",
       "      <td>5.0</td>\n",
       "      <td>5.0</td>\n",
       "      <td>444.0</td>\n",
       "      <td>...</td>\n",
       "      <td>0.0</td>\n",
       "      <td>0.0</td>\n",
       "      <td>10592800.0</td>\n",
       "      <td>5880.0</td>\n",
       "      <td>3815456.0</td>\n",
       "      <td>2674740.0</td>\n",
       "      <td>0.765</td>\n",
       "      <td>0.765</td>\n",
       "      <td>0.743</td>\n",
       "      <td>0.752</td>\n",
       "    </tr>\n",
       "  </tbody>\n",
       "</table>\n",
       "<p>1 rows × 45 columns</p>\n",
       "</div>"
      ],
      "text/plain": [
       "    code                           name  grade_band  enrollment_SY1718  \\\n",
       "0  175.0  School-Within-School @ Goding  Elementary              308.0   \n",
       "\n",
       "   enrollment_SY1819  star_score_SY1718  star_score_SY1819  \\\n",
       "0              313.0              88.55              88.26   \n",
       "\n",
       "   star_rating_SY1718  star_rating_SY1819  capacity_SY1718  ...  \\\n",
       "0                 5.0                 5.0            444.0  ...   \n",
       "\n",
       "   count_20+_SY1718  pct_20+_SY1718  budgeted_amount_FY16  \\\n",
       "0               0.0             0.0            10592800.0   \n",
       "\n",
       "   budgeted_enrollment_FY16  budgeted_amount_FY17  budgeted_enrollment_FY17  \\\n",
       "0                    5880.0             3815456.0                 2674740.0   \n",
       "\n",
       "   pct_meet_exceed_math_SY1718  pct_meet_exceed_ela_SY1718  \\\n",
       "0                        0.765                       0.765   \n",
       "\n",
       "   pct_meet_exceed_math_SY1819  pct_meet_exceed_ela_SY1819  \n",
       "0                        0.743                       0.752  \n",
       "\n",
       "[1 rows x 45 columns]"
      ]
     },
     "execution_count": 5,
     "metadata": {},
     "output_type": "execute_result"
    }
   ],
   "source": [
    "df.head(1)"
   ]
  },
  {
   "cell_type": "code",
   "execution_count": 6,
   "metadata": {},
   "outputs": [
    {
     "name": "stdout",
     "output_type": "stream",
     "text": [
      "<class 'pandas.core.frame.DataFrame'>\n",
      "Int64Index: 109 entries, 0 to 108\n",
      "Data columns (total 45 columns):\n",
      " #   Column                       Non-Null Count  Dtype  \n",
      "---  ------                       --------------  -----  \n",
      " 0   code                         109 non-null    float64\n",
      " 1   name                         109 non-null    object \n",
      " 2   grade_band                   109 non-null    object \n",
      " 3   enrollment_SY1718            109 non-null    float64\n",
      " 4   enrollment_SY1819            109 non-null    float64\n",
      " 5   star_score_SY1718            109 non-null    float64\n",
      " 6   star_score_SY1819            109 non-null    float64\n",
      " 7   star_rating_SY1718           109 non-null    float64\n",
      " 8   star_rating_SY1819           109 non-null    float64\n",
      " 9   capacity_SY1718              109 non-null    float64\n",
      " 10  capacity_SY1819              109 non-null    float64\n",
      " 11  latitude                     109 non-null    float64\n",
      " 12  longitude                    109 non-null    float64\n",
      " 13  cluster                      109 non-null    float64\n",
      " 14  ward                         109 non-null    float64\n",
      " 15  count_any_SY1819             109 non-null    float64\n",
      " 16  count_0_SY1819               109 non-null    float64\n",
      " 17  pct_0_SY1819                 109 non-null    float64\n",
      " 18  count_1-5_SY1819             107 non-null    float64\n",
      " 19  pct_1-5_SY1819               109 non-null    float64\n",
      " 20  count_6-10_SY1819            107 non-null    float64\n",
      " 21  pct_6-10_SY1819              109 non-null    float64\n",
      " 22  count_11-20_SY1819           107 non-null    float64\n",
      " 23  pct_11-20_SY1819             109 non-null    float64\n",
      " 24  count_20+_SY1819             108 non-null    float64\n",
      " 25  pct_20+_SY1819               109 non-null    float64\n",
      " 26  count_any_SY1718             109 non-null    float64\n",
      " 27  count_0_SY1718               109 non-null    float64\n",
      " 28  pct_0_SY1718                 109 non-null    float64\n",
      " 29  count_1-5_SY1718             107 non-null    float64\n",
      " 30  pct_1-5_SY1718               109 non-null    float64\n",
      " 31  count_6-10_SY1718            107 non-null    float64\n",
      " 32  pct_6-10__SY1718             109 non-null    float64\n",
      " 33  count_11-20_SY1718           107 non-null    float64\n",
      " 34  pct_11-20_SY1718             109 non-null    float64\n",
      " 35  count_20+_SY1718             107 non-null    float64\n",
      " 36  pct_20+_SY1718               109 non-null    float64\n",
      " 37  budgeted_amount_FY16         109 non-null    float64\n",
      " 38  budgeted_enrollment_FY16     109 non-null    float64\n",
      " 39  budgeted_amount_FY17         109 non-null    float64\n",
      " 40  budgeted_enrollment_FY17     109 non-null    float64\n",
      " 41  pct_meet_exceed_math_SY1718  109 non-null    float64\n",
      " 42  pct_meet_exceed_ela_SY1718   109 non-null    float64\n",
      " 43  pct_meet_exceed_math_SY1819  109 non-null    float64\n",
      " 44  pct_meet_exceed_ela_SY1819   109 non-null    float64\n",
      "dtypes: float64(43), object(2)\n",
      "memory usage: 39.2+ KB\n"
     ]
    }
   ],
   "source": [
    "df.info()"
   ]
  }
 ],
 "metadata": {
  "kernelspec": {
   "display_name": "Python 3",
   "language": "python",
   "name": "python3"
  },
  "language_info": {
   "codemirror_mode": {
    "name": "ipython",
    "version": 3
   },
   "file_extension": ".py",
   "mimetype": "text/x-python",
   "name": "python",
   "nbconvert_exporter": "python",
   "pygments_lexer": "ipython3",
   "version": "3.8.5"
  }
 },
 "nbformat": 4,
 "nbformat_minor": 4
}
